{
 "cells": [
  {
   "cell_type": "markdown",
   "metadata": {},
   "source": [
    "# Creating a Sentiment Analysis Web App\n",
    "## Using PyTorch and SageMaker\n",
    "\n",
    "_Deep Learning Nanodegree Program | Deployment_\n",
    "\n",
    "---\n",
    "\n",
    "Now that we have a basic understanding of how SageMaker works we will try to use it to construct a complete project from end to end. Our goal will be to have a simple web page which a user can use to enter a movie review. The web page will then send the review off to our deployed model which will predict the sentiment of the entered review.\n",
    "\n",
    "## Instructions\n",
    "\n",
    "Some template code has already been provided for you, and you will need to implement additional functionality to successfully complete this notebook. You will not need to modify the included code beyond what is requested. Sections that begin with '**TODO**' in the header indicate that you need to complete or implement some portion within them. Instructions will be provided for each section and the specifics of the implementation are marked in the code block with a `# TODO: ...` comment. Please be sure to read the instructions carefully!\n",
    "\n",
    "In addition to implementing code, there will be questions for you to answer which relate to the task and your implementation. Each section where you will answer a question is preceded by a '**Question:**' header. Carefully read each question and provide your answer below the '**Answer:**' header by editing the Markdown cell.\n",
    "\n",
    "> **Note**: Code and Markdown cells can be executed using the **Shift+Enter** keyboard shortcut. In addition, a cell can be edited by typically clicking it (double-click for Markdown cells) or by pressing **Enter** while it is highlighted.\n",
    "\n",
    "## General Outline\n",
    "\n",
    "Recall the general outline for SageMaker projects using a notebook instance.\n",
    "\n",
    "1. Download or otherwise retrieve the data.\n",
    "2. Process / Prepare the data.\n",
    "3. Upload the processed data to S3.\n",
    "4. Train a chosen model.\n",
    "5. Test the trained model (typically using a batch transform job).\n",
    "6. Deploy the trained model.\n",
    "7. Use the deployed model.\n",
    "\n",
    "For this project, you will be following the steps in the general outline with some modifications. \n",
    "\n",
    "First, you will not be testing the model in its own step. You will still be testing the model, however, you will do it by deploying your model and then using the deployed model by sending the test data to it. One of the reasons for doing this is so that you can make sure that your deployed model is working correctly before moving forward.\n",
    "\n",
    "In addition, you will deploy and use your trained model a second time. In the second iteration you will customize the way that your trained model is deployed by including some of your own code. In addition, your newly deployed model will be used in the sentiment analysis web app."
   ]
  },
  {
   "cell_type": "markdown",
   "metadata": {},
   "source": [
    "## Step 1: Downloading the data\n",
    "\n",
    "As in the XGBoost in SageMaker notebook, we will be using the [IMDb dataset](http://ai.stanford.edu/~amaas/data/sentiment/)\n",
    "\n",
    "> Maas, Andrew L., et al. [Learning Word Vectors for Sentiment Analysis](http://ai.stanford.edu/~amaas/data/sentiment/). In _Proceedings of the 49th Annual Meeting of the Association for Computational Linguistics: Human Language Technologies_. Association for Computational Linguistics, 2011."
   ]
  },
  {
   "cell_type": "code",
   "execution_count": 1,
   "metadata": {},
   "outputs": [
    {
     "name": "stdout",
     "output_type": "stream",
     "text": [
      "mkdir: cannot create directory ‘../data’: File exists\n",
      "--2019-06-03 03:52:33--  http://ai.stanford.edu/~amaas/data/sentiment/aclImdb_v1.tar.gz\n",
      "Resolving ai.stanford.edu (ai.stanford.edu)... 171.64.68.10\n",
      "Connecting to ai.stanford.edu (ai.stanford.edu)|171.64.68.10|:80... connected.\n",
      "HTTP request sent, awaiting response... 200 OK\n",
      "Length: 84125825 (80M) [application/x-gzip]\n",
      "Saving to: ‘../data/aclImdb_v1.tar.gz’\n",
      "\n",
      "../data/aclImdb_v1. 100%[===================>]  80.23M  11.6MB/s    in 12s     \n",
      "\n",
      "2019-06-03 03:52:45 (6.56 MB/s) - ‘../data/aclImdb_v1.tar.gz’ saved [84125825/84125825]\n",
      "\n"
     ]
    }
   ],
   "source": [
    "%mkdir ../data\n",
    "!wget -O ../data/aclImdb_v1.tar.gz http://ai.stanford.edu/~amaas/data/sentiment/aclImdb_v1.tar.gz\n",
    "!tar -zxf ../data/aclImdb_v1.tar.gz -C ../data"
   ]
  },
  {
   "cell_type": "markdown",
   "metadata": {},
   "source": [
    "## Step 2: Preparing and Processing the data\n",
    "\n",
    "Also, as in the XGBoost notebook, we will be doing some initial data processing. The first few steps are the same as in the XGBoost example. To begin with, we will read in each of the reviews and combine them into a single input structure. Then, we will split the dataset into a training set and a testing set."
   ]
  },
  {
   "cell_type": "code",
   "execution_count": 2,
   "metadata": {},
   "outputs": [],
   "source": [
    "import os\n",
    "import glob\n",
    "\n",
    "def read_imdb_data(data_dir='../data/aclImdb'):\n",
    "    data = {}\n",
    "    labels = {}\n",
    "    \n",
    "    for data_type in ['train', 'test']:\n",
    "        data[data_type] = {}\n",
    "        labels[data_type] = {}\n",
    "        \n",
    "        for sentiment in ['pos', 'neg']:\n",
    "            data[data_type][sentiment] = []\n",
    "            labels[data_type][sentiment] = []\n",
    "            \n",
    "            path = os.path.join(data_dir, data_type, sentiment, '*.txt')\n",
    "            files = glob.glob(path)\n",
    "            \n",
    "            for f in files:\n",
    "                with open(f) as review:\n",
    "                    data[data_type][sentiment].append(review.read())\n",
    "                    # Here we represent a positive review by '1' and a negative review by '0'\n",
    "                    labels[data_type][sentiment].append(1 if sentiment == 'pos' else 0)\n",
    "                    \n",
    "            assert len(data[data_type][sentiment]) == len(labels[data_type][sentiment]), \\\n",
    "                    \"{}/{} data size does not match labels size\".format(data_type, sentiment)\n",
    "                \n",
    "    return data, labels"
   ]
  },
  {
   "cell_type": "code",
   "execution_count": 3,
   "metadata": {},
   "outputs": [
    {
     "name": "stdout",
     "output_type": "stream",
     "text": [
      "IMDB reviews: train = 12500 pos / 12500 neg, test = 12500 pos / 12500 neg\n"
     ]
    }
   ],
   "source": [
    "data, labels = read_imdb_data()\n",
    "print(\"IMDB reviews: train = {} pos / {} neg, test = {} pos / {} neg\".format(\n",
    "            len(data['train']['pos']), len(data['train']['neg']),\n",
    "            len(data['test']['pos']), len(data['test']['neg'])))"
   ]
  },
  {
   "cell_type": "markdown",
   "metadata": {},
   "source": [
    "Now that we've read the raw training and testing data from the downloaded dataset, we will combine the positive and negative reviews and shuffle the resulting records."
   ]
  },
  {
   "cell_type": "code",
   "execution_count": 4,
   "metadata": {},
   "outputs": [],
   "source": [
    "from sklearn.utils import shuffle\n",
    "\n",
    "def prepare_imdb_data(data, labels):\n",
    "    \"\"\"Prepare training and test sets from IMDb movie reviews.\"\"\"\n",
    "    \n",
    "    #Combine positive and negative reviews and labels\n",
    "    data_train = data['train']['pos'] + data['train']['neg']\n",
    "    data_test = data['test']['pos'] + data['test']['neg']\n",
    "    labels_train = labels['train']['pos'] + labels['train']['neg']\n",
    "    labels_test = labels['test']['pos'] + labels['test']['neg']\n",
    "    \n",
    "    #Shuffle reviews and corresponding labels within training and test sets\n",
    "    data_train, labels_train = shuffle(data_train, labels_train)\n",
    "    data_test, labels_test = shuffle(data_test, labels_test)\n",
    "    \n",
    "    # Return a unified training data, test data, training labels, test labets\n",
    "    return data_train, data_test, labels_train, labels_test"
   ]
  },
  {
   "cell_type": "code",
   "execution_count": 5,
   "metadata": {},
   "outputs": [
    {
     "name": "stdout",
     "output_type": "stream",
     "text": [
      "IMDb reviews (combined): train = 25000, test = 25000\n"
     ]
    }
   ],
   "source": [
    "train_X, test_X, train_y, test_y = prepare_imdb_data(data, labels)\n",
    "print(\"IMDb reviews (combined): train = {}, test = {}\".format(len(train_X), len(test_X)))"
   ]
  },
  {
   "cell_type": "markdown",
   "metadata": {},
   "source": [
    "Now that we have our training and testing sets unified and prepared, we should do a quick check and see an example of the data our model will be trained on. This is generally a good idea as it allows you to see how each of the further processing steps affects the reviews and it also ensures that the data has been loaded correctly."
   ]
  },
  {
   "cell_type": "code",
   "execution_count": 6,
   "metadata": {},
   "outputs": [
    {
     "name": "stdout",
     "output_type": "stream",
     "text": [
      "I approached this film with low expectations but was very pleasantly surprised. It is very well done and it beats hands down the ballroom dancing movies of recent years, especially \"Strictly Ballroom\". While the music is nice and the dancing colourful, for me the movie is not about dancing. It is about the very Japanese institution that gives male office workers long commutes to work and free time after work for entertainment that does not involve their families. Here we have the man with the complete family and the large mortgage and a flagging zest for life. He is drawn to the attractive image of a young woman in a dance studio he passes during his commute and this leads him to try ballroom dancing. Also Japanese is the fact that the lecherous motives that initiated his new passion are made plain but somehow accepted, at least eventually, by family and audience. Attitudes to ballroom dancing, as conveyed in the film, are definitely non-Western, though the discipline and the music are clearly cultural imports to Japan. The cultural contrasts are thus intriguing. Even without the cultural insights, the colour, the dance and the enthusiasm of the players all make this a fun film to watch.\n",
      "1\n"
     ]
    }
   ],
   "source": [
    "print(train_X[100])\n",
    "print(train_y[100])"
   ]
  },
  {
   "cell_type": "markdown",
   "metadata": {},
   "source": [
    "The first step in processing the reviews is to make sure that any html tags that appear should be removed. In addition we wish to tokenize our input, that way words such as *entertained* and *entertaining* are considered the same with regard to sentiment analysis."
   ]
  },
  {
   "cell_type": "code",
   "execution_count": 7,
   "metadata": {},
   "outputs": [],
   "source": [
    "import nltk\n",
    "from nltk.corpus import stopwords\n",
    "from nltk.stem.porter import *\n",
    "\n",
    "import re\n",
    "from bs4 import BeautifulSoup\n",
    "\n",
    "def review_to_words(review):\n",
    "    nltk.download(\"stopwords\", quiet=True)\n",
    "    stemmer = PorterStemmer()\n",
    "    \n",
    "    text = BeautifulSoup(review, \"html.parser\").get_text() # Remove HTML tags\n",
    "    text = re.sub(r\"[^a-zA-Z0-9]\", \" \", text.lower()) # Convert to lower case\n",
    "    words = text.split() # Split string into words\n",
    "    words = [w for w in words if w not in stopwords.words(\"english\")] # Remove stopwords\n",
    "    words = [PorterStemmer().stem(w) for w in words] # stem\n",
    "    \n",
    "    return words"
   ]
  },
  {
   "cell_type": "markdown",
   "metadata": {},
   "source": [
    "The `review_to_words` method defined above uses `BeautifulSoup` to remove any html tags that appear and uses the `nltk` package to tokenize the reviews. As a check to ensure we know how everything is working, try applying `review_to_words` to one of the reviews in the training set."
   ]
  },
  {
   "cell_type": "code",
   "execution_count": 8,
   "metadata": {},
   "outputs": [
    {
     "data": {
      "text/plain": [
       "['approach',\n",
       " 'film',\n",
       " 'low',\n",
       " 'expect',\n",
       " 'pleasantli',\n",
       " 'surpris',\n",
       " 'well',\n",
       " 'done',\n",
       " 'beat',\n",
       " 'hand',\n",
       " 'ballroom',\n",
       " 'danc',\n",
       " 'movi',\n",
       " 'recent',\n",
       " 'year',\n",
       " 'especi',\n",
       " 'strictli',\n",
       " 'ballroom',\n",
       " 'music',\n",
       " 'nice',\n",
       " 'danc',\n",
       " 'colour',\n",
       " 'movi',\n",
       " 'danc',\n",
       " 'japanes',\n",
       " 'institut',\n",
       " 'give',\n",
       " 'male',\n",
       " 'offic',\n",
       " 'worker',\n",
       " 'long',\n",
       " 'commut',\n",
       " 'work',\n",
       " 'free',\n",
       " 'time',\n",
       " 'work',\n",
       " 'entertain',\n",
       " 'involv',\n",
       " 'famili',\n",
       " 'man',\n",
       " 'complet',\n",
       " 'famili',\n",
       " 'larg',\n",
       " 'mortgag',\n",
       " 'flag',\n",
       " 'zest',\n",
       " 'life',\n",
       " 'drawn',\n",
       " 'attract',\n",
       " 'imag',\n",
       " 'young',\n",
       " 'woman',\n",
       " 'danc',\n",
       " 'studio',\n",
       " 'pass',\n",
       " 'commut',\n",
       " 'lead',\n",
       " 'tri',\n",
       " 'ballroom',\n",
       " 'danc',\n",
       " 'also',\n",
       " 'japanes',\n",
       " 'fact',\n",
       " 'lecher',\n",
       " 'motiv',\n",
       " 'initi',\n",
       " 'new',\n",
       " 'passion',\n",
       " 'made',\n",
       " 'plain',\n",
       " 'somehow',\n",
       " 'accept',\n",
       " 'least',\n",
       " 'eventu',\n",
       " 'famili',\n",
       " 'audienc',\n",
       " 'attitud',\n",
       " 'ballroom',\n",
       " 'danc',\n",
       " 'convey',\n",
       " 'film',\n",
       " 'definit',\n",
       " 'non',\n",
       " 'western',\n",
       " 'though',\n",
       " 'disciplin',\n",
       " 'music',\n",
       " 'clearli',\n",
       " 'cultur',\n",
       " 'import',\n",
       " 'japan',\n",
       " 'cultur',\n",
       " 'contrast',\n",
       " 'thu',\n",
       " 'intrigu',\n",
       " 'even',\n",
       " 'without',\n",
       " 'cultur',\n",
       " 'insight',\n",
       " 'colour',\n",
       " 'danc',\n",
       " 'enthusiasm',\n",
       " 'player',\n",
       " 'make',\n",
       " 'fun',\n",
       " 'film',\n",
       " 'watch']"
      ]
     },
     "execution_count": 8,
     "metadata": {},
     "output_type": "execute_result"
    }
   ],
   "source": [
    "# TODO: Apply review_to_words to a review (train_X[100] or any other review)\n",
    "review_to_words(train_X[100])"
   ]
  },
  {
   "cell_type": "markdown",
   "metadata": {},
   "source": [
    "**Question:** Above we mentioned that `review_to_words` method removes html formatting and allows us to tokenize the words found in a review, for example, converting *entertained* and *entertaining* into *entertain* so that they are treated as though they are the same word. What else, if anything, does this method do to the input?"
   ]
  },
  {
   "cell_type": "markdown",
   "metadata": {},
   "source": [
    "**Answer:**\n",
    "This method also removes any HTML tags or stopwords present and converts all the letters to lower case."
   ]
  },
  {
   "cell_type": "markdown",
   "metadata": {},
   "source": [
    "The method below applies the `review_to_words` method to each of the reviews in the training and testing datasets. In addition it caches the results. This is because performing this processing step can take a long time. This way if you are unable to complete the notebook in the current session, you can come back without needing to process the data a second time."
   ]
  },
  {
   "cell_type": "code",
   "execution_count": 9,
   "metadata": {},
   "outputs": [],
   "source": [
    "import pickle\n",
    "\n",
    "cache_dir = os.path.join(\"../cache\", \"sentiment_analysis\")  # where to store cache files\n",
    "os.makedirs(cache_dir, exist_ok=True)  # ensure cache directory exists\n",
    "\n",
    "def preprocess_data(data_train, data_test, labels_train, labels_test,\n",
    "                    cache_dir=cache_dir, cache_file=\"preprocessed_data.pkl\"):\n",
    "    \"\"\"Convert each review to words; read from cache if available.\"\"\"\n",
    "\n",
    "    # If cache_file is not None, try to read from it first\n",
    "    cache_data = None\n",
    "    if cache_file is not None:\n",
    "        try:\n",
    "            with open(os.path.join(cache_dir, cache_file), \"rb\") as f:\n",
    "                cache_data = pickle.load(f)\n",
    "            print(\"Read preprocessed data from cache file:\", cache_file)\n",
    "        except:\n",
    "            pass  # unable to read from cache, but that's okay\n",
    "    \n",
    "    # If cache is missing, then do the heavy lifting\n",
    "    if cache_data is None:\n",
    "        # Preprocess training and test data to obtain words for each review\n",
    "        #words_train = list(map(review_to_words, data_train))\n",
    "        #words_test = list(map(review_to_words, data_test))\n",
    "        words_train = [review_to_words(review) for review in data_train]\n",
    "        words_test = [review_to_words(review) for review in data_test]\n",
    "        \n",
    "        # Write to cache file for future runs\n",
    "        if cache_file is not None:\n",
    "            cache_data = dict(words_train=words_train, words_test=words_test,\n",
    "                              labels_train=labels_train, labels_test=labels_test)\n",
    "            with open(os.path.join(cache_dir, cache_file), \"wb\") as f:\n",
    "                pickle.dump(cache_data, f)\n",
    "            print(\"Wrote preprocessed data to cache file:\", cache_file)\n",
    "    else:\n",
    "        # Unpack data loaded from cache file\n",
    "        words_train, words_test, labels_train, labels_test = (cache_data['words_train'],\n",
    "                cache_data['words_test'], cache_data['labels_train'], cache_data['labels_test'])\n",
    "    \n",
    "    return words_train, words_test, labels_train, labels_test"
   ]
  },
  {
   "cell_type": "code",
   "execution_count": 10,
   "metadata": {},
   "outputs": [
    {
     "name": "stdout",
     "output_type": "stream",
     "text": [
      "Read preprocessed data from cache file: preprocessed_data.pkl\n"
     ]
    }
   ],
   "source": [
    "# Preprocess data\n",
    "train_X, test_X, train_y, test_y = preprocess_data(train_X, test_X, train_y, test_y)"
   ]
  },
  {
   "cell_type": "markdown",
   "metadata": {},
   "source": [
    "## Transform the data\n",
    "\n",
    "In the XGBoost notebook we transformed the data from its word representation to a bag-of-words feature representation. For the model we are going to construct in this notebook we will construct a feature representation which is very similar. To start, we will represent each word as an integer. Of course, some of the words that appear in the reviews occur very infrequently and so likely don't contain much information for the purposes of sentiment analysis. The way we will deal with this problem is that we will fix the size of our working vocabulary and we will only include the words that appear most frequently. We will then combine all of the infrequent words into a single category and, in our case, we will label it as `1`.\n",
    "\n",
    "Since we will be using a recurrent neural network, it will be convenient if the length of each review is the same. To do this, we will fix a size for our reviews and then pad short reviews with the category 'no word' (which we will label `0`) and truncate long reviews."
   ]
  },
  {
   "cell_type": "markdown",
   "metadata": {},
   "source": [
    "### (TODO) Create a word dictionary\n",
    "\n",
    "To begin with, we need to construct a way to map words that appear in the reviews to integers. Here we fix the size of our vocabulary (including the 'no word' and 'infrequent' categories) to be `5000` but you may wish to change this to see how it affects the model.\n",
    "\n",
    "> **TODO:** Complete the implementation for the `build_dict()` method below. Note that even though the vocab_size is set to `5000`, we only want to construct a mapping for the most frequently appearing `4998` words. This is because we want to reserve the special labels `0` for 'no word' and `1` for 'infrequent word'."
   ]
  },
  {
   "cell_type": "code",
   "execution_count": 11,
   "metadata": {},
   "outputs": [],
   "source": [
    "import numpy as np\n",
    "\n",
    "def build_dict(data, vocab_size = 5000):\n",
    "    \"\"\"Construct and return a dictionary mapping each of the most frequently appearing words to a unique integer.\"\"\"\n",
    "    \n",
    "    # TODO: Determine how often each word appears in `data`. Note that `data` is a list of sentences and that a\n",
    "    #       sentence is a list of words.\n",
    "    word_count = {} # A dict storing the words that appear in the reviews along with how often they occur\n",
    "    for sent in data:\n",
    "        for word in sent:\n",
    "            if word in word_count:\n",
    "                word_count[word] += 1\n",
    "            else:\n",
    "                word_count[word] = 1                 \n",
    "\n",
    "    # TODO: Sort the words found in `data` so that sorted_words[0] is the most frequently appearing word and\n",
    "    #       sorted_words[-1] is the least frequently appearing word.\n",
    "    \n",
    "    sorted_words = [key for key,val in sorted(word_count.items(), key = lambda k:k[1], reverse=True)]\n",
    "    \n",
    "    word_dict = {} # This is what we are building, a dictionary that translates words into integers\n",
    "    for idx, word in enumerate(sorted_words[:vocab_size - 2]): # The -2 is so that we save room for the 'no word'\n",
    "        word_dict[word] = idx + 2                              # 'infrequent' labels\n",
    "        \n",
    "    return word_dict"
   ]
  },
  {
   "cell_type": "code",
   "execution_count": 12,
   "metadata": {},
   "outputs": [],
   "source": [
    "word_dict = build_dict(train_X)"
   ]
  },
  {
   "cell_type": "markdown",
   "metadata": {},
   "source": [
    "**Question:** What are the five most frequently appearing (tokenized) words in the training set? Does it makes sense that these words appear frequently in the training set?"
   ]
  },
  {
   "cell_type": "markdown",
   "metadata": {},
   "source": [
    "**Answer:** The five most frequently appearing(tokenized) words in the training set are:\n",
    "\n",
    "1) movi\n",
    "\n",
    "2) film \n",
    "\n",
    "3) one \n",
    "\n",
    "4) like \n",
    "\n",
    "5) time \n",
    "\n",
    "\n",
    "It makes sense as most of the people are reviewing about movie/film they like."
   ]
  },
  {
   "cell_type": "code",
   "execution_count": 13,
   "metadata": {},
   "outputs": [
    {
     "name": "stdout",
     "output_type": "stream",
     "text": [
      "{'movi': 2, 'film': 3, 'one': 4, 'like': 5, 'time': 6, 'good': 7, 'make': 8, 'charact': 9, 'get': 10, 'see': 11, 'watch': 12, 'stori': 13, 'even': 14, 'would': 15, 'realli': 16, 'well': 17, 'scene': 18, 'look': 19, 'show': 20, 'much': 21, 'end': 22, 'peopl': 23, 'bad': 24, 'go': 25, 'great': 26, 'also': 27, 'first': 28, 'love': 29, 'think': 30, 'way': 31, 'act': 32, 'play': 33, 'made': 34, 'thing': 35, 'could': 36, 'know': 37, 'say': 38, 'seem': 39, 'work': 40, 'plot': 41, 'two': 42, 'actor': 43, 'year': 44, 'come': 45, 'mani': 46, 'seen': 47, 'take': 48, 'want': 49, 'life': 50, 'never': 51, 'littl': 52, 'best': 53, 'tri': 54, 'man': 55, 'ever': 56, 'give': 57, 'better': 58, 'still': 59, 'perform': 60, 'find': 61, 'feel': 62, 'part': 63, 'back': 64, 'use': 65, 'someth': 66, 'director': 67, 'actual': 68, 'interest': 69, 'lot': 70, 'real': 71, 'old': 72, 'cast': 73, 'though': 74, 'live': 75, 'star': 76, 'enjoy': 77, 'guy': 78, 'anoth': 79, 'new': 80, 'role': 81, 'noth': 82, '10': 83, 'funni': 84, 'music': 85, 'point': 86, 'start': 87, 'set': 88, 'girl': 89, 'origin': 90, 'day': 91, 'world': 92, 'everi': 93, 'believ': 94, 'turn': 95, 'quit': 96, 'us': 97, 'direct': 98, 'thought': 99, 'fact': 100, 'minut': 101, 'horror': 102, 'kill': 103, 'action': 104, 'comedi': 105, 'pretti': 106, 'young': 107, 'wonder': 108, 'happen': 109, 'around': 110, 'got': 111, 'effect': 112, 'right': 113, 'long': 114, 'howev': 115, 'big': 116, 'line': 117, 'famili': 118, 'enough': 119, 'seri': 120, 'may': 121, 'need': 122, 'fan': 123, 'bit': 124, 'script': 125, 'beauti': 126, 'person': 127, 'becom': 128, 'without': 129, 'must': 130, 'alway': 131, 'friend': 132, 'tell': 133, 'reason': 134, 'saw': 135, 'last': 136, 'final': 137, 'kid': 138, 'almost': 139, 'put': 140, 'least': 141, 'sure': 142, 'done': 143, 'whole': 144, 'place': 145, 'complet': 146, 'kind': 147, 'expect': 148, 'differ': 149, 'shot': 150, 'far': 151, 'mean': 152, 'anyth': 153, 'book': 154, 'laugh': 155, 'might': 156, 'name': 157, 'sinc': 158, 'begin': 159, '2': 160, 'probabl': 161, 'woman': 162, 'help': 163, 'entertain': 164, 'let': 165, 'screen': 166, 'call': 167, 'tv': 168, 'moment': 169, 'away': 170, 'read': 171, 'yet': 172, 'rather': 173, 'worst': 174, 'run': 175, 'fun': 176, 'lead': 177, 'hard': 178, 'audienc': 179, 'idea': 180, 'anyon': 181, 'episod': 182, 'american': 183, 'found': 184, 'appear': 185, 'bore': 186, 'especi': 187, 'although': 188, 'hope': 189, 'keep': 190, 'cours': 191, 'anim': 192, 'job': 193, 'goe': 194, 'move': 195, 'sens': 196, 'dvd': 197, 'version': 198, 'war': 199, 'money': 200, 'someon': 201, 'mind': 202, 'mayb': 203, 'problem': 204, 'true': 205, 'hous': 206, 'everyth': 207, 'nice': 208, 'second': 209, 'rate': 210, 'three': 211, 'night': 212, 'follow': 213, 'face': 214, 'recommend': 215, 'main': 216, 'product': 217, 'worth': 218, 'leav': 219, 'human': 220, 'special': 221, 'excel': 222, 'togeth': 223, 'wast': 224, 'everyon': 225, 'sound': 226, 'john': 227, 'hand': 228, '1': 229, 'father': 230, 'later': 231, 'eye': 232, 'said': 233, 'view': 234, 'instead': 235, 'review': 236, 'boy': 237, 'high': 238, 'hour': 239, 'miss': 240, 'talk': 241, 'classic': 242, 'wife': 243, 'understand': 244, 'left': 245, 'care': 246, 'black': 247, 'death': 248, 'open': 249, 'murder': 250, 'write': 251, 'half': 252, 'head': 253, 'rememb': 254, 'chang': 255, 'viewer': 256, 'fight': 257, 'gener': 258, 'surpris': 259, 'includ': 260, 'short': 261, 'die': 262, 'fall': 263, 'less': 264, 'els': 265, 'entir': 266, 'piec': 267, 'involv': 268, 'pictur': 269, 'simpli': 270, 'top': 271, 'power': 272, 'home': 273, 'total': 274, 'usual': 275, 'budget': 276, 'attempt': 277, 'suppos': 278, 'releas': 279, 'hollywood': 280, 'terribl': 281, 'song': 282, 'men': 283, 'possibl': 284, 'featur': 285, 'portray': 286, 'disappoint': 287, 'poor': 288, '3': 289, 'coupl': 290, 'camera': 291, 'stupid': 292, 'dead': 293, 'wrong': 294, 'produc': 295, 'low': 296, 'video': 297, 'either': 298, 'aw': 299, 'definit': 300, 'except': 301, 'rest': 302, 'given': 303, 'absolut': 304, 'women': 305, 'lack': 306, 'word': 307, 'writer': 308, 'titl': 309, 'talent': 310, 'decid': 311, 'full': 312, 'perfect': 313, 'along': 314, 'style': 315, 'close': 316, 'truli': 317, 'school': 318, 'save': 319, 'emot': 320, 'age': 321, 'sex': 322, 'next': 323, 'bring': 324, 'mr': 325, 'case': 326, 'killer': 327, 'heart': 328, 'comment': 329, 'sort': 330, 'creat': 331, 'perhap': 332, 'came': 333, 'brother': 334, 'sever': 335, 'joke': 336, 'art': 337, 'dialogu': 338, 'game': 339, 'small': 340, 'base': 341, 'flick': 342, 'written': 343, 'sequenc': 344, 'meet': 345, 'earli': 346, 'often': 347, 'other': 348, 'mother': 349, 'develop': 350, 'humor': 351, 'actress': 352, 'consid': 353, 'dark': 354, 'guess': 355, 'amaz': 356, 'unfortun': 357, 'light': 358, 'lost': 359, 'exampl': 360, 'cinema': 361, 'drama': 362, 'ye': 363, 'white': 364, 'experi': 365, 'imagin': 366, 'mention': 367, 'stop': 368, 'natur': 369, 'forc': 370, 'manag': 371, 'felt': 372, 'cut': 373, 'present': 374, 'children': 375, 'fail': 376, 'son': 377, 'support': 378, 'qualiti': 379, 'car': 380, 'ask': 381, 'hit': 382, 'side': 383, 'voic': 384, 'extrem': 385, 'impress': 386, 'evil': 387, 'wors': 388, 'went': 389, 'stand': 390, 'certainli': 391, 'basic': 392, 'oh': 393, 'overal': 394, 'favorit': 395, 'horribl': 396, 'mysteri': 397, 'number': 398, 'type': 399, 'danc': 400, 'wait': 401, 'hero': 402, 'alreadi': 403, '5': 404, 'learn': 405, 'matter': 406, '4': 407, 'michael': 408, 'genr': 409, 'fine': 410, 'despit': 411, 'throughout': 412, 'walk': 413, 'success': 414, 'histori': 415, 'question': 416, 'zombi': 417, 'town': 418, 'realiz': 419, 'relationship': 420, 'past': 421, 'child': 422, 'daughter': 423, 'late': 424, 'b': 425, 'wish': 426, 'credit': 427, 'hate': 428, 'event': 429, 'theme': 430, 'touch': 431, 'citi': 432, 'today': 433, 'sometim': 434, 'behind': 435, 'god': 436, 'twist': 437, 'sit': 438, 'deal': 439, 'annoy': 440, 'stay': 441, 'abl': 442, 'rent': 443, 'pleas': 444, 'edit': 445, 'blood': 446, 'deserv': 447, 'comic': 448, 'anyway': 449, 'appar': 450, 'soon': 451, 'gave': 452, 'etc': 453, 'level': 454, 'slow': 455, 'chanc': 456, 'score': 457, 'bodi': 458, 'brilliant': 459, 'incred': 460, 'figur': 461, 'situat': 462, 'self': 463, 'major': 464, 'stuff': 465, 'decent': 466, 'element': 467, 'return': 468, 'dream': 469, 'obvious': 470, 'order': 471, 'continu': 472, 'pace': 473, 'ridicul': 474, 'happi': 475, 'group': 476, 'add': 477, 'highli': 478, 'thank': 479, 'ladi': 480, 'novel': 481, 'speak': 482, 'pain': 483, 'career': 484, 'shoot': 485, 'strang': 486, 'heard': 487, 'sad': 488, 'husband': 489, 'polic': 490, 'import': 491, 'break': 492, 'took': 493, 'cannot': 494, 'strong': 495, 'predict': 496, 'robert': 497, 'violenc': 498, 'hilari': 499, 'recent': 500, 'countri': 501, 'known': 502, 'particularli': 503, 'pick': 504, 'documentari': 505, 'season': 506, 'critic': 507, 'jame': 508, 'compar': 509, 'obviou': 510, 'alon': 511, 'told': 512, 'state': 513, 'rock': 514, 'visual': 515, 'theater': 516, 'offer': 517, 'exist': 518, 'opinion': 519, 'gore': 520, 'crap': 521, 'hold': 522, 'result': 523, 'room': 524, 'realiti': 525, 'hear': 526, 'effort': 527, 'clich': 528, 'thriller': 529, 'caus': 530, 'serious': 531, 'explain': 532, 'sequel': 533, 'king': 534, 'local': 535, 'ago': 536, 'none': 537, 'hell': 538, 'note': 539, 'allow': 540, 'sister': 541, 'david': 542, 'simpl': 543, 'femal': 544, 'deliv': 545, 'ok': 546, 'convinc': 547, 'class': 548, 'check': 549, 'suspens': 550, 'win': 551, 'buy': 552, 'oscar': 553, 'huge': 554, 'valu': 555, 'sexual': 556, 'cool': 557, 'scari': 558, 'similar': 559, 'excit': 560, 'apart': 561, 'exactli': 562, 'provid': 563, 'shown': 564, 'avoid': 565, 'seriou': 566, 'english': 567, 'taken': 568, 'whose': 569, 'cinematographi': 570, 'shock': 571, 'polit': 572, 'spoiler': 573, 'offic': 574, 'across': 575, 'middl': 576, 'pass': 577, 'street': 578, 'messag': 579, 'silli': 580, 'charm': 581, 'somewhat': 582, 'modern': 583, 'filmmak': 584, 'confus': 585, 'form': 586, 'tale': 587, 'singl': 588, 'jack': 589, 'mostli': 590, 'carri': 591, 'attent': 592, 'william': 593, 'sing': 594, 'five': 595, 'subject': 596, 'prove': 597, 'richard': 598, 'stage': 599, 'team': 600, 'unlik': 601, 'cop': 602, 'georg': 603, 'televis': 604, 'monster': 605, 'earth': 606, 'villain': 607, 'cover': 608, 'pay': 609, 'marri': 610, 'toward': 611, 'build': 612, 'parent': 613, 'pull': 614, 'due': 615, 'respect': 616, 'fill': 617, 'four': 618, 'dialog': 619, 'remind': 620, 'futur': 621, 'weak': 622, 'typic': 623, '7': 624, 'cheap': 625, 'intellig': 626, 'british': 627, 'atmospher': 628, '80': 629, 'clearli': 630, 'non': 631, 'dog': 632, 'paul': 633, 'artist': 634, '8': 635, 'fast': 636, 'knew': 637, 'crime': 638, 'easili': 639, 'escap': 640, 'adult': 641, 'doubt': 642, 'detail': 643, 'date': 644, 'fire': 645, 'romant': 646, 'member': 647, 'drive': 648, 'gun': 649, 'straight': 650, 'fit': 651, 'beyond': 652, 'attack': 653, 'imag': 654, 'upon': 655, 'posit': 656, 'whether': 657, 'fantast': 658, 'peter': 659, 'captur': 660, 'aspect': 661, 'appreci': 662, 'ten': 663, 'plan': 664, 'discov': 665, 'remain': 666, 'near': 667, 'period': 668, 'air': 669, 'realist': 670, 'mark': 671, 'red': 672, 'dull': 673, 'adapt': 674, 'within': 675, 'lose': 676, 'spend': 677, 'materi': 678, 'color': 679, 'chase': 680, 'mari': 681, 'storylin': 682, 'forget': 683, 'bunch': 684, 'clear': 685, 'lee': 686, 'victim': 687, 'nearli': 688, 'box': 689, 'york': 690, 'inspir': 691, 'match': 692, 'finish': 693, 'mess': 694, 'standard': 695, 'easi': 696, 'truth': 697, 'suffer': 698, 'busi': 699, 'dramat': 700, 'bill': 701, 'space': 702, 'western': 703, 'e': 704, 'list': 705, 'battl': 706, 'notic': 707, 'de': 708, 'french': 709, 'ad': 710, '9': 711, 'tom': 712, 'larg': 713, 'among': 714, 'eventu': 715, 'train': 716, 'accept': 717, 'agre': 718, 'soundtrack': 719, 'spirit': 720, 'third': 721, 'teenag': 722, 'adventur': 723, 'soldier': 724, 'suggest': 725, 'drug': 726, 'famou': 727, 'sorri': 728, 'babi': 729, 'cri': 730, 'normal': 731, 'troubl': 732, 'ultim': 733, 'contain': 734, 'certain': 735, 'cultur': 736, 'romanc': 737, 'rare': 738, 'lame': 739, 'somehow': 740, 'mix': 741, 'disney': 742, 'gone': 743, 'cartoon': 744, 'student': 745, 'fear': 746, 'reveal': 747, 'kept': 748, 'suck': 749, 'attract': 750, 'appeal': 751, 'premis': 752, 'secret': 753, 'design': 754, 'greatest': 755, 'shame': 756, 'throw': 757, 'scare': 758, 'copi': 759, 'wit': 760, 'america': 761, 'admit': 762, 'relat': 763, 'particular': 764, 'brought': 765, 'screenplay': 766, 'whatev': 767, 'pure': 768, '70': 769, 'harri': 770, 'averag': 771, 'master': 772, 'describ': 773, 'male': 774, 'treat': 775, '20': 776, 'issu': 777, 'fantasi': 778, 'warn': 779, 'inde': 780, 'forward': 781, 'background': 782, 'free': 783, 'project': 784, 'memor': 785, 'japanes': 786, 'poorli': 787, 'award': 788, 'locat': 789, 'amus': 790, 'potenti': 791, 'struggl': 792, 'magic': 793, 'weird': 794, 'societi': 795, 'okay': 796, 'doctor': 797, 'imdb': 798, 'accent': 799, 'water': 800, 'hot': 801, '30': 802, 'dr': 803, 'express': 804, 'alien': 805, 'odd': 806, 'choic': 807, 'crazi': 808, 'studio': 809, 'fiction': 810, 'becam': 811, 'control': 812, 'masterpiec': 813, 'fli': 814, 'difficult': 815, 'joe': 816, 'scream': 817, 'costum': 818, 'lover': 819, 'uniqu': 820, 'refer': 821, 'remak': 822, 'vampir': 823, 'girlfriend': 824, 'prison': 825, 'execut': 826, 'wear': 827, 'jump': 828, 'unless': 829, 'wood': 830, 'creepi': 831, 'cheesi': 832, 'superb': 833, 'otherwis': 834, 'parti': 835, 'ghost': 836, 'roll': 837, 'mad': 838, 'public': 839, 'depict': 840, 'badli': 841, 'jane': 842, 'week': 843, 'moral': 844, 'earlier': 845, 'fi': 846, 'dumb': 847, 'flaw': 848, 'grow': 849, 'sci': 850, 'deep': 851, 'cat': 852, 'maker': 853, 'older': 854, 'connect': 855, 'footag': 856, 'bother': 857, 'plenti': 858, 'outsid': 859, 'stick': 860, 'gay': 861, 'catch': 862, 'plu': 863, 'co': 864, 'popular': 865, 'equal': 866, 'social': 867, 'quickli': 868, 'disturb': 869, 'perfectli': 870, 'dress': 871, '90': 872, 'era': 873, 'mistak': 874, 'lie': 875, 'ride': 876, 'previou': 877, 'combin': 878, 'concept': 879, 'band': 880, 'surviv': 881, 'answer': 882, 'rich': 883, 'front': 884, 'sweet': 885, 'christma': 886, 'insid': 887, 'bare': 888, 'concern': 889, 'eat': 890, 'ben': 891, 'beat': 892, 'listen': 893, 'c': 894, 'term': 895, 'serv': 896, 'la': 897, 'meant': 898, 'german': 899, 'hardli': 900, 'stereotyp': 901, 'innoc': 902, 'law': 903, 'desper': 904, 'memori': 905, 'promis': 906, 'cute': 907, 'intent': 908, 'variou': 909, 'inform': 910, 'steal': 911, 'brain': 912, 'post': 913, 'tone': 914, 'island': 915, 'amount': 916, 'nuditi': 917, 'compani': 918, 'track': 919, 'store': 920, 'claim': 921, '50': 922, 'hair': 923, 'flat': 924, 'land': 925, 'univers': 926, 'fairli': 927, 'danger': 928, 'scott': 929, 'kick': 930, 'player': 931, 'step': 932, 'crew': 933, 'plain': 934, 'toni': 935, 'share': 936, 'centuri': 937, 'tast': 938, 'engag': 939, 'achiev': 940, 'cold': 941, 'travel': 942, 'record': 943, 'rip': 944, 'suit': 945, 'sadli': 946, 'manner': 947, 'spot': 948, 'wrote': 949, 'tension': 950, 'fascin': 951, 'intens': 952, 'familiar': 953, 'remark': 954, 'depth': 955, 'burn': 956, 'destroy': 957, 'histor': 958, 'sleep': 959, 'purpos': 960, 'languag': 961, 'ignor': 962, 'ruin': 963, 'delight': 964, 'italian': 965, 'unbeliev': 966, 'soul': 967, 'abil': 968, 'collect': 969, 'clever': 970, 'detect': 971, 'violent': 972, 'rape': 973, 'reach': 974, 'door': 975, 'trash': 976, 'liter': 977, 'scienc': 978, 'commun': 979, 'caught': 980, 'reveng': 981, 'creatur': 982, 'trip': 983, 'approach': 984, 'intrigu': 985, 'fashion': 986, 'skill': 987, 'introduc': 988, 'paint': 989, 'channel': 990, 'complex': 991, 'camp': 992, 'christian': 993, 'extra': 994, 'hole': 995, 'limit': 996, 'immedi': 997, 'ann': 998, 'mental': 999, 'mere': 1000, 'slightli': 1001, 'million': 1002, 'comput': 1003, '6': 1004, 'conclus': 1005, 'slasher': 1006, 'imposs': 1007, 'suddenli': 1008, 'crimin': 1009, 'teen': 1010, 'neither': 1011, 'spent': 1012, 'physic': 1013, 'nation': 1014, 'respons': 1015, 'planet': 1016, 'receiv': 1017, 'fake': 1018, 'blue': 1019, 'sick': 1020, 'bizarr': 1021, 'embarrass': 1022, 'indian': 1023, 'ring': 1024, '15': 1025, 'pop': 1026, 'drop': 1027, 'drag': 1028, 'haunt': 1029, 'pointless': 1030, 'suspect': 1031, 'edg': 1032, 'search': 1033, 'handl': 1034, 'common': 1035, 'biggest': 1036, 'faith': 1037, 'arriv': 1038, 'hurt': 1039, 'technic': 1040, 'angel': 1041, 'dad': 1042, 'genuin': 1043, 'awesom': 1044, 'f': 1045, 'solid': 1046, 'former': 1047, 'focu': 1048, 'colleg': 1049, 'van': 1050, 'count': 1051, 'tear': 1052, 'heavi': 1053, 'wall': 1054, 'rais': 1055, 'younger': 1056, 'laughabl': 1057, 'visit': 1058, 'fair': 1059, 'excus': 1060, 'sign': 1061, 'cult': 1062, 'motion': 1063, 'tough': 1064, 'key': 1065, 'super': 1066, 'desir': 1067, 'addit': 1068, 'stun': 1069, 'cloth': 1070, 'exploit': 1071, 'tortur': 1072, 'smith': 1073, 'davi': 1074, 'race': 1075, 'author': 1076, 'cross': 1077, 'jim': 1078, 'consist': 1079, 'focus': 1080, 'minor': 1081, 'compel': 1082, 'chemistri': 1083, 'pathet': 1084, 'commit': 1085, 'park': 1086, 'tradit': 1087, 'obsess': 1088, 'frank': 1089, 'grade': 1090, '60': 1091, 'asid': 1092, 'brutal': 1093, 'steve': 1094, 'somewher': 1095, 'opportun': 1096, 'rule': 1097, 'depress': 1098, 'u': 1099, 'explor': 1100, 'grant': 1101, 'honest': 1102, 'besid': 1103, 'anti': 1104, 'dub': 1105, 'trailer': 1106, 'intend': 1107, 'bar': 1108, 'regard': 1109, 'west': 1110, 'scientist': 1111, 'longer': 1112, 'judg': 1113, 'decad': 1114, 'silent': 1115, 'armi': 1116, 'creativ': 1117, 'wild': 1118, 'south': 1119, 'stewart': 1120, 'g': 1121, 'draw': 1122, 'road': 1123, 'govern': 1124, 'ex': 1125, 'boss': 1126, 'practic': 1127, 'surprisingli': 1128, 'festiv': 1129, 'gang': 1130, 'motiv': 1131, 'club': 1132, 'green': 1133, 'page': 1134, 'london': 1135, 'redeem': 1136, 'aliv': 1137, 'display': 1138, 'machin': 1139, 'idiot': 1140, 'militari': 1141, 'repeat': 1142, 'thrill': 1143, 'yeah': 1144, 'nobodi': 1145, 'folk': 1146, '100': 1147, '40': 1148, 'journey': 1149, 'garbag': 1150, 'smile': 1151, 'tire': 1152, 'ground': 1153, 'mood': 1154, 'bought': 1155, 'sam': 1156, 'stone': 1157, 'cost': 1158, 'noir': 1159, 'mouth': 1160, 'agent': 1161, 'terrif': 1162, 'requir': 1163, 'utterli': 1164, 'area': 1165, 'honestli': 1166, 'sexi': 1167, 'report': 1168, 'geniu': 1169, 'humour': 1170, 'enter': 1171, 'investig': 1172, 'glad': 1173, 'serial': 1174, 'narr': 1175, 'passion': 1176, 'occasion': 1177, 'marriag': 1178, 'climax': 1179, 'industri': 1180, 'studi': 1181, 'nowher': 1182, 'demon': 1183, 'charli': 1184, 'ship': 1185, 'center': 1186, 'loos': 1187, 'hors': 1188, 'bear': 1189, 'hang': 1190, 'wow': 1191, 'graphic': 1192, 'admir': 1193, 'giant': 1194, 'send': 1195, 'loud': 1196, 'damn': 1197, 'rel': 1198, 'nake': 1199, 'subtl': 1200, 'profession': 1201, 'blow': 1202, 'bottom': 1203, 'insult': 1204, 'batman': 1205, 'doubl': 1206, 'kelli': 1207, 'r': 1208, 'boyfriend': 1209, 'initi': 1210, 'frame': 1211, 'gem': 1212, 'opera': 1213, 'cinemat': 1214, 'drawn': 1215, 'affect': 1216, 'challeng': 1217, 'church': 1218, 'nightmar': 1219, 'j': 1220, 'fulli': 1221, 'evid': 1222, 'seek': 1223, 'l': 1224, 'conflict': 1225, 'essenti': 1226, 'arm': 1227, 'henri': 1228, 'christoph': 1229, 'grace': 1230, 'wind': 1231, 'witch': 1232, 'assum': 1233, 'narrat': 1234, 'push': 1235, 'hunt': 1236, 'wise': 1237, 'chri': 1238, 'nomin': 1239, 'month': 1240, 'repres': 1241, 'affair': 1242, 'sceneri': 1243, 'avail': 1244, 'hide': 1245, 'smart': 1246, 'thu': 1247, 'bond': 1248, 'justic': 1249, 'outstand': 1250, 'flashback': 1251, 'interview': 1252, 'satisfi': 1253, 'presenc': 1254, 'constantli': 1255, 'central': 1256, 'bed': 1257, 'content': 1258, 'iron': 1259, 'sell': 1260, 'gag': 1261, 'everybodi': 1262, 'slowli': 1263, 'hotel': 1264, 'hire': 1265, 'system': 1266, 'individu': 1267, 'charl': 1268, 'adam': 1269, 'hey': 1270, 'thrown': 1271, 'jone': 1272, 'allen': 1273, 'mediocr': 1274, 'lesson': 1275, 'billi': 1276, 'ray': 1277, 'cameo': 1278, 'photographi': 1279, 'pari': 1280, 'fellow': 1281, 'strike': 1282, 'brief': 1283, 'independ': 1284, 'absurd': 1285, 'rise': 1286, 'neg': 1287, 'phone': 1288, 'impact': 1289, 'ill': 1290, 'born': 1291, 'model': 1292, 'angl': 1293, 'spoil': 1294, 'fresh': 1295, 'abus': 1296, 'likabl': 1297, 'discuss': 1298, 'hill': 1299, 'ahead': 1300, 'sight': 1301, 'photograph': 1302, 'sent': 1303, 'logic': 1304, 'shine': 1305, 'occur': 1306, 'blame': 1307, 'mainli': 1308, 'bruce': 1309, 'commerci': 1310, 'skip': 1311, 'forev': 1312, 'surround': 1313, 'held': 1314, 'segment': 1315, 'teacher': 1316, 'zero': 1317, 'blond': 1318, 'trap': 1319, 'satir': 1320, 'resembl': 1321, 'summer': 1322, 'fool': 1323, 'ball': 1324, 'six': 1325, 'queen': 1326, 'tragedi': 1327, 'sub': 1328, 'twice': 1329, 'pack': 1330, 'reaction': 1331, 'bomb': 1332, 'protagonist': 1333, 'will': 1334, 'hospit': 1335, 'sport': 1336, 'mile': 1337, 'trust': 1338, 'mom': 1339, 'vote': 1340, 'jerri': 1341, 'drink': 1342, 'encount': 1343, 'plane': 1344, 'current': 1345, 'al': 1346, 'program': 1347, 'station': 1348, 'martin': 1349, 'choos': 1350, 'celebr': 1351, 'join': 1352, 'favourit': 1353, 'lord': 1354, 'tragic': 1355, 'field': 1356, 'round': 1357, 'jean': 1358, 'vision': 1359, 'robot': 1360, 'tie': 1361, 'arthur': 1362, 'roger': 1363, 'fortun': 1364, 'random': 1365, 'psycholog': 1366, 'intern': 1367, 'dread': 1368, 'epic': 1369, 'nonsens': 1370, 'improv': 1371, 'prefer': 1372, 'formula': 1373, 'highlight': 1374, 'legend': 1375, 'pleasur': 1376, 'tape': 1377, 'dollar': 1378, '11': 1379, 'wide': 1380, 'thin': 1381, 'gorgeou': 1382, 'object': 1383, 'fox': 1384, 'porn': 1385, 'buddi': 1386, 'ugli': 1387, 'influenc': 1388, 'nasti': 1389, 'ii': 1390, 'prepar': 1391, 'reflect': 1392, 'supposedli': 1393, 'progress': 1394, 'warm': 1395, 'youth': 1396, 'worthi': 1397, 'latter': 1398, 'length': 1399, 'unusu': 1400, 'crash': 1401, 'childhood': 1402, 'superior': 1403, 'shop': 1404, 'seven': 1405, 'remot': 1406, 'theatr': 1407, 'pilot': 1408, 'paid': 1409, 'funniest': 1410, 'disgust': 1411, 'convers': 1412, 'fell': 1413, 'trick': 1414, 'castl': 1415, 'establish': 1416, 'gangster': 1417, 'rob': 1418, 'disast': 1419, 'suicid': 1420, 'heaven': 1421, 'ident': 1422, 'disappear': 1423, 'mine': 1424, 'singer': 1425, 'heroin': 1426, 'forgotten': 1427, 'decis': 1428, 'tend': 1429, 'mask': 1430, 'brian': 1431, 'partner': 1432, 'recogn': 1433, 'alan': 1434, 'desert': 1435, 'thoroughli': 1436, 'p': 1437, 'stuck': 1438, 'ms': 1439, 'sky': 1440, 'replac': 1441, 'accur': 1442, 'market': 1443, 'uncl': 1444, 'clue': 1445, 'seemingli': 1446, 'danni': 1447, 'eddi': 1448, 'commentari': 1449, 'andi': 1450, 'jackson': 1451, 'devil': 1452, 'refus': 1453, 'that': 1454, 'therefor': 1455, 'pair': 1456, 'river': 1457, 'fault': 1458, 'fate': 1459, 'unit': 1460, 'ed': 1461, 'accid': 1462, 'tune': 1463, 'afraid': 1464, 'russian': 1465, 'hidden': 1466, 'clean': 1467, 'stephen': 1468, 'convey': 1469, 'quick': 1470, 'test': 1471, 'readi': 1472, 'captain': 1473, 'instanc': 1474, 'irrit': 1475, 'european': 1476, 'frustrat': 1477, 'insan': 1478, 'daniel': 1479, 'rescu': 1480, 'food': 1481, 'wed': 1482, '1950': 1483, 'chines': 1484, 'angri': 1485, 'dirti': 1486, 'lock': 1487, 'joy': 1488, 'price': 1489, 'steven': 1490, 'cage': 1491, 'bland': 1492, 'rang': 1493, 'anymor': 1494, 'wooden': 1495, 'rush': 1496, 'news': 1497, 'jason': 1498, 'n': 1499, '12': 1500, 'martial': 1501, 'twenti': 1502, 'board': 1503, 'worri': 1504, 'led': 1505, 'transform': 1506, 'cgi': 1507, 'symbol': 1508, 'hunter': 1509, 'piti': 1510, 'onto': 1511, 'x': 1512, 'invent': 1513, 'johnni': 1514, 'sentiment': 1515, 'explan': 1516, 'process': 1517, 'attitud': 1518, 'owner': 1519, 'awar': 1520, 'aim': 1521, 'energi': 1522, 'necessari': 1523, 'target': 1524, 'favor': 1525, 'floor': 1526, 'religi': 1527, 'opposit': 1528, 'insight': 1529, 'window': 1530, 'chick': 1531, 'blind': 1532, 'movement': 1533, 'possess': 1534, 'comparison': 1535, 'mountain': 1536, 'research': 1537, 'deepli': 1538, 'grand': 1539, 'whatsoev': 1540, 'rain': 1541, 'comed': 1542, 'shadow': 1543, 'began': 1544, 'mid': 1545, 'bank': 1546, 'parodi': 1547, 'princ': 1548, 'weapon': 1549, 'pre': 1550, 'friendship': 1551, 'credibl': 1552, 'taylor': 1553, 'flesh': 1554, 'teach': 1555, 'dougla': 1556, 'bloodi': 1557, 'hint': 1558, 'terror': 1559, 'protect': 1560, 'marvel': 1561, 'superman': 1562, 'leader': 1563, 'anybodi': 1564, 'watchabl': 1565, 'drunk': 1566, 'accord': 1567, 'load': 1568, 'brown': 1569, 'freddi': 1570, 'seat': 1571, 'hitler': 1572, 'appropri': 1573, 'tim': 1574, 'jeff': 1575, 'knock': 1576, 'villag': 1577, 'keaton': 1578, 'charg': 1579, 'unknown': 1580, 'unnecessari': 1581, 'england': 1582, 'media': 1583, 'enemi': 1584, 'empti': 1585, 'dare': 1586, 'craft': 1587, 'wave': 1588, 'utter': 1589, 'perspect': 1590, 'buck': 1591, 'strength': 1592, 'contrast': 1593, 'kiss': 1594, 'correct': 1595, 'nativ': 1596, 'ford': 1597, 'knowledg': 1598, 'distract': 1599, 'magnific': 1600, 'anywher': 1601, 'chill': 1602, 'speed': 1603, 'soap': 1604, 'nazi': 1605, 'fred': 1606, 'breath': 1607, '1980': 1608, 'mission': 1609, 'ice': 1610, 'jr': 1611, 'crowd': 1612, 'joan': 1613, 'moon': 1614, 'frighten': 1615, '000': 1616, 'soft': 1617, 'kate': 1618, 'hundr': 1619, 'dan': 1620, 'dick': 1621, 'nick': 1622, 'radio': 1623, 'simon': 1624, 'somebodi': 1625, 'dozen': 1626, 'thousand': 1627, 'loss': 1628, 'shakespear': 1629, 'andrew': 1630, 'academi': 1631, 'vehicl': 1632, 'root': 1633, 'quot': 1634, 'account': 1635, 'sum': 1636, '1970': 1637, 'behavior': 1638, 'convent': 1639, 'leg': 1640, 'regular': 1641, 'gold': 1642, 'demand': 1643, 'pretenti': 1644, 'worker': 1645, 'compet': 1646, 'explos': 1647, 'lynch': 1648, 'privat': 1649, 'japan': 1650, 'notabl': 1651, 'interpret': 1652, 'candi': 1653, 'stretch': 1654, 'debut': 1655, 'constant': 1656, 'tarzan': 1657, 'sea': 1658, 'revolv': 1659, 'translat': 1660, 'spi': 1661, 'prais': 1662, 'technolog': 1663, 'ass': 1664, 'sat': 1665, 'franc': 1666, 'threaten': 1667, 'failur': 1668, 'quiet': 1669, 'jesu': 1670, 'punch': 1671, 'kevin': 1672, 'higher': 1673, 'aid': 1674, 'toy': 1675, 'met': 1676, 'abandon': 1677, 'interact': 1678, 'vh': 1679, 'mike': 1680, 'confront': 1681, 'command': 1682, 'separ': 1683, 'bet': 1684, 'recal': 1685, 'gotten': 1686, 'servic': 1687, 'techniqu': 1688, 'site': 1689, 'stunt': 1690, 'belong': 1691, 'bug': 1692, 'cabl': 1693, 'foot': 1694, 'freak': 1695, 'jimmi': 1696, 'fu': 1697, 'capabl': 1698, 'bright': 1699, 'african': 1700, 'fat': 1701, 'succeed': 1702, 'stock': 1703, 'clark': 1704, 'presid': 1705, 'boat': 1706, 'spanish': 1707, 'gene': 1708, 'structur': 1709, 'paper': 1710, 'kidnap': 1711, 'factor': 1712, 'belief': 1713, 'whilst': 1714, 'realism': 1715, 'complic': 1716, 'witti': 1717, 'educ': 1718, 'tree': 1719, 'bob': 1720, 'realis': 1721, 'attend': 1722, 'assist': 1723, 'finest': 1724, 'santa': 1725, 'broken': 1726, 'depart': 1727, 'up': 1728, 'observ': 1729, 'smoke': 1730, 'v': 1731, 'determin': 1732, 'hat': 1733, 'lewi': 1734, 'oper': 1735, 'rubbish': 1736, 'fame': 1737, 'domin': 1738, 'routin': 1739, 'hook': 1740, 'safe': 1741, 'foreign': 1742, 'morgan': 1743, 'kinda': 1744, 'advanc': 1745, 'lone': 1746, 'rank': 1747, 'numer': 1748, 'shallow': 1749, 'werewolf': 1750, 'rose': 1751, 'civil': 1752, 'shape': 1753, 'washington': 1754, 'vs': 1755, 'gari': 1756, 'morn': 1757, 'accomplish': 1758, 'kong': 1759, 'ordinari': 1760, 'winner': 1761, 'peac': 1762, 'virtual': 1763, 'whenev': 1764, 'grab': 1765, 'luck': 1766, 'h': 1767, 'offens': 1768, 'activ': 1769, 'bigger': 1770, 'contriv': 1771, 'welcom': 1772, 'complain': 1773, 'unfunni': 1774, 'patient': 1775, 'pretend': 1776, 'dimension': 1777, 'con': 1778, 'trek': 1779, 'eric': 1780, 'code': 1781, 'cain': 1782, 'lesbian': 1783, 'wake': 1784, 'flash': 1785, 'dri': 1786, 'statu': 1787, 'guard': 1788, 'albert': 1789, 'manipul': 1790, 'dancer': 1791, 'corrupt': 1792, 'signific': 1793, 'gain': 1794, 'awkward': 1795, 'sourc': 1796, 'context': 1797, 'speech': 1798, 'clip': 1799, '13': 1800, 'anthoni': 1801, 'corni': 1802, 'psycho': 1803, 'sean': 1804, 'theatric': 1805, 'religion': 1806, 'w': 1807, 'curiou': 1808, 'advic': 1809, 'reli': 1810, 'priest': 1811, 'flow': 1812, 'addict': 1813, 'secur': 1814, 'asian': 1815, 'jennif': 1816, 'skin': 1817, 'specif': 1818, 'howard': 1819, 'core': 1820, 'organ': 1821, 'promot': 1822, 'golden': 1823, 'comfort': 1824, 'luke': 1825, 'cheat': 1826, 'lucki': 1827, 'cash': 1828, 'dislik': 1829, 'lower': 1830, 'associ': 1831, 'contribut': 1832, 'devic': 1833, 'spell': 1834, 'degre': 1835, 'balanc': 1836, 'regret': 1837, 'frankli': 1838, 'wing': 1839, 'frequent': 1840, 'forgiv': 1841, 'print': 1842, 'sake': 1843, 'lake': 1844, 'thoma': 1845, 'betti': 1846, 'mass': 1847, 'unexpect': 1848, 'crack': 1849, 'gordon': 1850, 'unfold': 1851, 'invit': 1852, 'grown': 1853, 'categori': 1854, 'amateur': 1855, 'depend': 1856, 'construct': 1857, 'intellectu': 1858, 'condit': 1859, 'honor': 1860, 'grew': 1861, 'walter': 1862, 'matur': 1863, 'anna': 1864, 'spectacular': 1865, 'sole': 1866, 'sudden': 1867, 'veteran': 1868, 'mirror': 1869, 'meanwhil': 1870, 'liner': 1871, 'gift': 1872, 'robin': 1873, 'experienc': 1874, 'grip': 1875, 'demonstr': 1876, 'freedom': 1877, 'card': 1878, 'overli': 1879, 'unabl': 1880, 'theori': 1881, 'circumst': 1882, 'brilliantli': 1883, 'colour': 1884, 'oliv': 1885, 'subtitl': 1886, 'crappi': 1887, 'section': 1888, 'drew': 1889, 'sheriff': 1890, 'path': 1891, 'sheer': 1892, 'matt': 1893, 'altern': 1894, 'cook': 1895, 'laughter': 1896, 'parker': 1897, 'pile': 1898, 'lawyer': 1899, 'relief': 1900, 'hall': 1901, 'defin': 1902, 'accident': 1903, 'treatment': 1904, 'wander': 1905, 'sinatra': 1906, 'dragon': 1907, 'hank': 1908, 'captiv': 1909, 'gratuit': 1910, 'halloween': 1911, 'moor': 1912, 'barbara': 1913, 'broadway': 1914, 'unintent': 1915, 'wound': 1916, 'kung': 1917, 'k': 1918, 'jacki': 1919, 'cowboy': 1920, 'wayn': 1921, 'statement': 1922, 'winter': 1923, 'surreal': 1924, 'canadian': 1925, 'spoof': 1926, 'fish': 1927, 'compos': 1928, 'treasur': 1929, 'fare': 1930, 'cheer': 1931, 'gonna': 1932, 'victor': 1933, 'emerg': 1934, 'unrealist': 1935, 'sensit': 1936, 'woodi': 1937, 'ran': 1938, 'driven': 1939, 'neighbor': 1940, 'sympathet': 1941, 'overlook': 1942, 'expos': 1943, 'menac': 1944, 'glass': 1945, 'topic': 1946, 'authent': 1947, 'ancient': 1948, 'michel': 1949, 'chief': 1950, 'gross': 1951, 'handsom': 1952, 'built': 1953, 'network': 1954, 'pleasant': 1955, 'contemporari': 1956, 'stranger': 1957, 'nevertheless': 1958, 'russel': 1959, 'comedian': 1960, 'feet': 1961, 'cinderella': 1962, 'consider': 1963, 'endless': 1964, 'blockbust': 1965, 'gori': 1966, 'earn': 1967, 'letter': 1968, 'underr': 1969, 'miser': 1970, 'solv': 1971, 'brook': 1972, 'switch': 1973, 'edward': 1974, 'bullet': 1975, 'virgin': 1976, 'joseph': 1977, 'convict': 1978, 'victoria': 1979, 'scale': 1980, 'chosen': 1981, '0': 1982, 'cynic': 1983, 'alex': 1984, 'scenario': 1985, 'curs': 1986, 'sword': 1987, 'com': 1988, 'outrag': 1989, 'gut': 1990, 'uk': 1991, 'screenwrit': 1992, 'wrap': 1993, 'substanc': 1994, 'driver': 1995, 'proper': 1996, 'juli': 1997, 'monkey': 1998, 'bird': 1999, 'indic': 2000, 'remov': 2001, 'par': 2002, 'court': 2003, 'rental': 2004, 'loser': 2005, 'inevit': 2006, 'consequ': 2007, 'roy': 2008, 'naiv': 2009, 'advertis': 2010, 'grave': 2011, 'nanci': 2012, 'fatal': 2013, 'brave': 2014, 'slap': 2015, 'invis': 2016, 'bridg': 2017, 'germani': 2018, 'le': 2019, 'ador': 2020, 'loui': 2021, 'provok': 2022, 'footbal': 2023, 'anger': 2024, 'alcohol': 2025, 'anderson': 2026, 'chan': 2027, 'ryan': 2028, 'stumbl': 2029, 'willi': 2030, 'professor': 2031, '1930': 2032, 'sharp': 2033, 'assassin': 2034, 'patrick': 2035, 'bat': 2036, 'australian': 2037, 'saturday': 2038, 'ape': 2039, 'liber': 2040, 'amateurish': 2041, 'deni': 2042, 'refresh': 2043, 'lousi': 2044, 'strongli': 2045, 'eight': 2046, 'heck': 2047, 'cell': 2048, 'trilog': 2049, 'sin': 2050, 'vagu': 2051, 'san': 2052, 'justifi': 2053, 'resid': 2054, 'mini': 2055, 'terrifi': 2056, 'creator': 2057, 'defeat': 2058, 'sympathi': 2059, 'reput': 2060, 'indi': 2061, 'expert': 2062, 'tediou': 2063, 'tabl': 2064, 'task': 2065, 'endur': 2066, 'prevent': 2067, 'imit': 2068, 'offend': 2069, 'trial': 2070, 'rival': 2071, 'employ': 2072, 'basebal': 2073, 'che': 2074, 'pitch': 2075, 'dig': 2076, 'beach': 2077, 'fairi': 2078, 'max': 2079, 'europ': 2080, 'weekend': 2081, 'complaint': 2082, 'format': 2083, 'purchas': 2084, 'murphi': 2085, 'risk': 2086, 'powel': 2087, 'bite': 2088, 'nois': 2089, 'harsh': 2090, 'hype': 2091, 'glimps': 2092, 'tini': 2093, 'reminisc': 2094, 'titan': 2095, 'prime': 2096, '14': 2097, 'till': 2098, 'strip': 2099, 'asleep': 2100, 'fals': 2101, 'north': 2102, 'destruct': 2103, 'africa': 2104, 'descript': 2105, 'texa': 2106, 'revel': 2107, 'spin': 2108, 'inner': 2109, 'semi': 2110, 'surfac': 2111, 'uninterest': 2112, 'excess': 2113, 'sitcom': 2114, 'arrest': 2115, 'makeup': 2116, 'massiv': 2117, 'maintain': 2118, 'twin': 2119, 'hitchcock': 2120, 'argu': 2121, 'controversi': 2122, 'dinosaur': 2123, 'melodrama': 2124, 'ideal': 2125, 'ludicr': 2126, 'stare': 2127, 'reject': 2128, 'insist': 2129, 'expens': 2130, 'kim': 2131, 'ala': 2132, 'columbo': 2133, 'supernatur': 2134, 'host': 2135, 'subplot': 2136, 'erot': 2137, 'ga': 2138, 'press': 2139, 'nail': 2140, 'forest': 2141, 'atroci': 2142, 'dude': 2143, 'notch': 2144, 'presum': 2145, 'cant': 2146, 'identifi': 2147, 'crude': 2148, 'forgett': 2149, 'guest': 2150, 'character': 2151, 'closer': 2152, 'method': 2153, 'plagu': 2154, 'landscap': 2155, 'border': 2156, 'ear': 2157, 'beast': 2158, 'princess': 2159, 'lion': 2160, 'foster': 2161, 'pacino': 2162, 'urban': 2163, 'accus': 2164, 'damag': 2165, 'previous': 2166, 'jungl': 2167, 'birth': 2168, 'aunt': 2169, 'storytel': 2170, 'bound': 2171, 'guid': 2172, 'chose': 2173, 'propaganda': 2174, 'doll': 2175, 'thirti': 2176, 'nude': 2177, 'jess': 2178, 'emma': 2179, 'whoever': 2180, 'mate': 2181, 'pet': 2182, 'warrior': 2183, 'mainstream': 2184, '25': 2185, 'exact': 2186, 'latest': 2187, 'upset': 2188, 'deadli': 2189, 'merit': 2190, 'poster': 2191, 'gritti': 2192, 'cooper': 2193, 'friday': 2194, 'size': 2195, 'wilson': 2196, 'ton': 2197, 'corps': 2198, 'contest': 2199, 'contact': 2200, 'citizen': 2201, 'popul': 2202, 'settl': 2203, 'sun': 2204, 'blend': 2205, 'rough': 2206, 'buff': 2207, 'warner': 2208, '1990': 2209, 'mgm': 2210, 'pitt': 2211, 'environ': 2212, 'rat': 2213, 'widow': 2214, 'overcom': 2215, 'bu': 2216, 'alic': 2217, 'metal': 2218, 'select': 2219, 'particip': 2220, 'guilti': 2221, 'link': 2222, 'lift': 2223, 'revolut': 2224, 'ted': 2225, 'afternoon': 2226, 'matrix': 2227, 'exagger': 2228, 'corpor': 2229, 'accompani': 2230, 'prostitut': 2231, 'johnson': 2232, '1960': 2233, 'corner': 2234, 'moron': 2235, 'multipl': 2236, 'hood': 2237, 'doom': 2238, 'sincer': 2239, 'holm': 2240, 'leagu': 2241, 'friendli': 2242, 'instal': 2243, 'clair': 2244, 'string': 2245, 'sunday': 2246, 'advis': 2247, 'aka': 2248, 'hip': 2249, 'campi': 2250, 'defend': 2251, 'lugosi': 2252, 'blah': 2253, 'junk': 2254, 'irish': 2255, 'examin': 2256, 'grim': 2257, 'icon': 2258, 'confid': 2259, 'tight': 2260, 'varieti': 2261, 'rachel': 2262, 'shake': 2263, 'shut': 2264, 'pro': 2265, 'sullivan': 2266, 'denni': 2267, 'medic': 2268, 'goal': 2269, 'directli': 2270, 'mexican': 2271, 'jaw': 2272, 'attach': 2273, 'legendari': 2274, 'courag': 2275, 'breast': 2276, 'dean': 2277, 'prior': 2278, 'terrorist': 2279, 'duke': 2280, 'sentenc': 2281, 'sarah': 2282, 'vietnam': 2283, 'truck': 2284, 'bourn': 2285, 'un': 2286, 'proceed': 2287, 'behav': 2288, 'hong': 2289, 'nose': 2290, 'entri': 2291, 'donald': 2292, 'yell': 2293, 'split': 2294, 'jerk': 2295, 'everywher': 2296, 'borrow': 2297, 'stolen': 2298, 'confess': 2299, 'crush': 2300, 'forth': 2301, 'lifetim': 2302, 'gather': 2303, 'concentr': 2304, 'buri': 2305, 'swim': 2306, 'unconvinc': 2307, 'lip': 2308, 'pan': 2309, 'spite': 2310, 'california': 2311, 'deliveri': 2312, 'turkey': 2313, 'julia': 2314, 'downright': 2315, 'hoffman': 2316, 'china': 2317, 'flight': 2318, 'proud': 2319, 'reward': 2320, 'freeman': 2321, 'quest': 2322, 'offici': 2323, 'worthwhil': 2324, 'inept': 2325, 'notori': 2326, 'fabul': 2327, 'sir': 2328, 'betray': 2329, 'encourag': 2330, 'jon': 2331, 'lazi': 2332, 'fade': 2333, 'sink': 2334, 'jail': 2335, 'cousin': 2336, 'relev': 2337, 'susan': 2338, 'shower': 2339, 'imageri': 2340, 'survivor': 2341, 'bag': 2342, 'teeth': 2343, 'storm': 2344, 'lisa': 2345, 'bell': 2346, 'retard': 2347, 'branagh': 2348, 'mexico': 2349, 'trade': 2350, 'tremend': 2351, 'quirki': 2352, 'bride': 2353, 'summari': 2354, 'finger': 2355, 'facial': 2356, 'alright': 2357, 'hugh': 2358, 'toler': 2359, 'stab': 2360, 'shark': 2361, 'pose': 2362, 'blown': 2363, 'hyster': 2364, 'von': 2365, 'ha': 2366, 'bitter': 2367, 'ned': 2368, 'scheme': 2369, 'address': 2370, 'bone': 2371, 'christ': 2372, 'larri': 2373, 'afterward': 2374, 'ron': 2375, 'cruel': 2376, 'pursu': 2377, 'swear': 2378, 'beg': 2379, 'screw': 2380, 'traci': 2381, 'distinct': 2382, 'thumb': 2383, 'snake': 2384, 'feed': 2385, 'tour': 2386, 'occas': 2387, 'mechan': 2388, 'photo': 2389, 'stomach': 2390, 'raw': 2391, 'chair': 2392, 'obscur': 2393, 'sidney': 2394, 'heavili': 2395, 'resist': 2396, 'hardi': 2397, 'southern': 2398, 'argument': 2399, 'chain': 2400, 'gruesom': 2401, 'necessarili': 2402, 'render': 2403, 'holiday': 2404, 'cabin': 2405, 'understood': 2406, 'satan': 2407, 'philip': 2408, 'indulg': 2409, 'india': 2410, 'racist': 2411, 'pregnant': 2412, 'fourth': 2413, 'tongu': 2414, 'forgot': 2415, 'integr': 2416, 'obnoxi': 2417, 'belov': 2418, 'outfit': 2419, 'lay': 2420, 'midnight': 2421, 'stalk': 2422, '17': 2423, 'garden': 2424, 'inhabit': 2425, 'deeper': 2426, 'magazin': 2427, 'carol': 2428, 'slapstick': 2429, 'ticket': 2430, 'restor': 2431, 'incid': 2432, 'devot': 2433, 'shoe': 2434, 'brad': 2435, 'lincoln': 2436, 'disbelief': 2437, 'maria': 2438, 'anticip': 2439, 'underground': 2440, 'guarante': 2441, 'divorc': 2442, 'benefit': 2443, 'sandler': 2444, 'elizabeth': 2445, 'lili': 2446, 'creation': 2447, 'princip': 2448, 'explod': 2449, 'bbc': 2450, 'amazingli': 2451, 'cring': 2452, 'greater': 2453, 'mildli': 2454, 'capit': 2455, 'slave': 2456, 'halfway': 2457, 'lesli': 2458, 'funnier': 2459, 'introduct': 2460, 'extraordinari': 2461, 'transfer': 2462, 'advantag': 2463, 'extent': 2464, 'tap': 2465, 'punish': 2466, 'wreck': 2467, 'enhanc': 2468, 'overwhelm': 2469, 'text': 2470, 'horrif': 2471, 'east': 2472, 'lane': 2473, 'deliber': 2474, 'error': 2475, 'preview': 2476, 'jessica': 2477, 'lo': 2478, 'plant': 2479, 'dynam': 2480, 'vacat': 2481, 'miller': 2482, '2000': 2483, 'sophist': 2484, 'miscast': 2485, 'appli': 2486, 'basi': 2487, 'vincent': 2488, 'homosexu': 2489, 'ensu': 2490, 'bollywood': 2491, 'spoken': 2492, 'measur': 2493, 'elev': 2494, 'extend': 2495, 'sleazi': 2496, 'via': 2497, 'uncomfort': 2498, 'mansion': 2499, 'steel': 2500, 'reed': 2501, 'mous': 2502, 'conceiv': 2503, 'fix': 2504, 'alter': 2505, 'overact': 2506, 'goofi': 2507, 'assign': 2508, 'stanley': 2509, 'hippi': 2510, 'melt': 2511, 'breathtak': 2512, 'savag': 2513, 'daili': 2514, 'cathol': 2515, 'beer': 2516, 'blair': 2517, 'dentist': 2518, 'burt': 2519, 'subsequ': 2520, 'inspector': 2521, 'succe': 2522, 'everyday': 2523, 'sacrific': 2524, 'properli': 2525, 'oppos': 2526, 'carpent': 2527, 'nowaday': 2528, 'massacr': 2529, 'neck': 2530, 'circl': 2531, 'block': 2532, 'laura': 2533, 'grey': 2534, 'concert': 2535, 'access': 2536, 'mob': 2537, 'fallen': 2538, 'lesser': 2539, 'fay': 2540, 'pool': 2541, 'portrait': 2542, 'christi': 2543, 'seagal': 2544, 'isol': 2545, 'usa': 2546, 'relax': 2547, 'sinist': 2548, 'jewish': 2549, 'react': 2550, 'competit': 2551, 'chees': 2552, 'jake': 2553, 'lyric': 2554, 'chop': 2555, 'suitabl': 2556, 'appal': 2557, 'nonetheless': 2558, '2006': 2559, 'ironi': 2560, 'immens': 2561, 'stink': 2562, 'spiritu': 2563, 'creep': 2564, 'nine': 2565, 'reduc': 2566, 'luci': 2567, 'retir': 2568, 'user': 2569, 'navi': 2570, 'nut': 2571, 'showcas': 2572, 'shirt': 2573, 'franchis': 2574, 'sold': 2575, 'spring': 2576, 'adopt': 2577, 'needless': 2578, 'rage': 2579, 'stanwyck': 2580, 'uninspir': 2581, 'jay': 2582, 'per': 2583, 'digit': 2584, 'bath': 2585, 'nurs': 2586, 'bulli': 2587, 'zone': 2588, 'asham': 2589, 'amongst': 2590, 'oddli': 2591, 'illustr': 2592, 'sutherland': 2593, '2001': 2594, 'upper': 2595, 'broadcast': 2596, 'laid': 2597, '1940': 2598, 'disguis': 2599, 'fulfil': 2600, 'aspir': 2601, 'throat': 2602, 'baker': 2603, 'stylish': 2604, 'brando': 2605, 'wwii': 2606, 'em': 2607, '18': 2608, 'endear': 2609, 'impli': 2610, 'thief': 2611, 'nobl': 2612, 'pride': 2613, 'neighborhood': 2614, 'pound': 2615, 'wanna': 2616, 'albeit': 2617, '16': 2618, 'dinner': 2619, 'coher': 2620, 'diseas': 2621, 'tens': 2622, 'dawn': 2623, 'shift': 2624, 'bo': 2625, 'shoulder': 2626, 'cinematograph': 2627, 'rochest': 2628, 'distribut': 2629, 'prop': 2630, 'bett': 2631, 'forti': 2632, 'rebel': 2633, 'snow': 2634, 'silenc': 2635, 'wash': 2636, 'matthau': 2637, 'function': 2638, 'poignant': 2639, 'shout': 2640, 'knife': 2641, 'contract': 2642, 'surf': 2643, 'instinct': 2644, 'silver': 2645, 'henc': 2646, 'proof': 2647, 'mindless': 2648, 'elvira': 2649, 'derek': 2650, 'chuck': 2651, 'cannib': 2652, 'widmark': 2653, 'reunion': 2654, 'horrend': 2655, 'duti': 2656, 'internet': 2657, 'eeri': 2658, 'heat': 2659, 'height': 2660, 'cancel': 2661, 'glori': 2662, 'torn': 2663, 'alik': 2664, 'mill': 2665, 'musician': 2666, 'premier': 2667, 'pie': 2668, 'neat': 2669, 'etern': 2670, 'repetit': 2671, 'incoher': 2672, 'greatli': 2673, 'spielberg': 2674, 'absorb': 2675, 'innov': 2676, 'elvi': 2677, 'crisi': 2678, 'diamond': 2679, 'horrifi': 2680, 'announc': 2681, 'lovabl': 2682, 'nelson': 2683, 'burton': 2684, 'trite': 2685, 'bang': 2686, 'infam': 2687, 'homag': 2688, 'fbi': 2689, 'precis': 2690, 'wealthi': 2691, 'britain': 2692, 'redempt': 2693, 'blank': 2694, 'itali': 2695, 'racism': 2696, 'wilder': 2697, 'helen': 2698, 'chaplin': 2699, 'happili': 2700, 'streisand': 2701, 'parallel': 2702, 'dedic': 2703, 'hammer': 2704, 'resolut': 2705, 'flop': 2706, 'ensembl': 2707, 'pat': 2708, 'conclud': 2709, 'plastic': 2710, 'carter': 2711, 'oil': 2712, 'broke': 2713, 'disagre': 2714, 'factori': 2715, 'triumph': 2716, 'cube': 2717, 'st': 2718, 'mar': 2719, 'chuckl': 2720, 'climb': 2721, 'bush': 2722, 'march': 2723, 'row': 2724, 'own': 2725, 'vega': 2726, 'weight': 2727, 'rocket': 2728, 'fighter': 2729, 'meaning': 2730, 'enorm': 2731, 'wherea': 2732, 'spare': 2733, 'lust': 2734, 'sensibl': 2735, 'kurt': 2736, 'dump': 2737, 'unforgett': 2738, 'dane': 2739, 'thug': 2740, 'luca': 2741, 'boot': 2742, 'mst3k': 2743, 'stress': 2744, 'dear': 2745, 'brand': 2746, 'fifti': 2747, 'engin': 2748, 'threat': 2749, 'caricatur': 2750, 'karloff': 2751, 'butt': 2752, 'arnold': 2753, 'rap': 2754, 'adequ': 2755, 'difficulti': 2756, 'bobbi': 2757, 'barri': 2758, 'ralph': 2759, 'fest': 2760, 'elabor': 2761, 'ego': 2762, 'journalist': 2763, 'polish': 2764, 'swing': 2765, 'arrog': 2766, 'secretari': 2767, 'homeless': 2768, 'hamlet': 2769, 'flynn': 2770, 'arrang': 2771, 'grate': 2772, 'resort': 2773, 'tool': 2774, 'unbear': 2775, 'fanci': 2776, 'simpson': 2777, 'puppet': 2778, 'induc': 2779, 'spike': 2780, 'conspiraci': 2781, 'float': 2782, 'choreograph': 2783, 'basement': 2784, 'cruis': 2785, 'pig': 2786, 'guilt': 2787, 'exercis': 2788, 'tribut': 2789, 'phillip': 2790, 'boll': 2791, 'muppet': 2792, 'medium': 2793, 'toilet': 2794, 'puzzl': 2795, 'korean': 2796, 'fianc': 2797, 'document': 2798, 'layer': 2799, 'ham': 2800, 'editor': 2801, '24': 2802, 'file': 2803, 'tower': 2804, 'ward': 2805, 'item': 2806, 'scarecrow': 2807, 'babe': 2808, 'stan': 2809, 'slip': 2810, 'philosoph': 2811, 'larger': 2812, 'portion': 2813, 'glover': 2814, 'persona': 2815, 'assur': 2816, 'catherin': 2817, 'inexplic': 2818, 'denzel': 2819, 'minim': 2820, 'slaughter': 2821, 'transit': 2822, 'spark': 2823, 'superfici': 2824, 'orient': 2825, 'doc': 2826, 'territori': 2827, 'librari': 2828, 'financi': 2829, 'shi': 2830, 'pg': 2831, 'curti': 2832, 'boredom': 2833, 'owe': 2834, 'jeremi': 2835, 'ban': 2836, 'wolf': 2837, 'dorothi': 2838, 'sneak': 2839, 'jet': 2840, 'walken': 2841, 'multi': 2842, 'cusack': 2843, 'ambigu': 2844, 'metaphor': 2845, 'backdrop': 2846, 'whale': 2847, 'hudson': 2848, 'eleph': 2849, 'profound': 2850, 'birthday': 2851, 'union': 2852, 'ultra': 2853, 'implaus': 2854, 'rave': 2855, 'notion': 2856, 'viru': 2857, 'hack': 2858, 'stiff': 2859, 'elsewher': 2860, '2005': 2861, 'gadget': 2862, 'hawk': 2863, 'slight': 2864, 'deriv': 2865, 'afford': 2866, 'urg': 2867, 'reader': 2868, 'newspap': 2869, '1st': 2870, 'eva': 2871, 'lloyd': 2872, 'superhero': 2873, 'poison': 2874, 'canada': 2875, 'distanc': 2876, 'bibl': 2877, 'pad': 2878, 'disc': 2879, 'squar': 2880, 'eastwood': 2881, 'essenc': 2882, 'button': 2883, 'montag': 2884, 'restaur': 2885, 'drown': 2886, 'sadist': 2887, 'cure': 2888, 'charisma': 2889, 'health': 2890, 'huh': 2891, 'spread': 2892, 'skit': 2893, 'heston': 2894, 'fetch': 2895, 'peak': 2896, 'lab': 2897, 'dealt': 2898, 'gradual': 2899, 'muslim': 2900, 'maniac': 2901, 'companion': 2902, 'scoobi': 2903, 'estat': 2904, 'invest': 2905, 'godfath': 2906, 'subtleti': 2907, 'kane': 2908, 'miik': 2909, 'gothic': 2910, 'servant': 2911, 'cup': 2912, 'countless': 2913, 'alli': 2914, 'tea': 2915, 'ritter': 2916, 'briefli': 2917, 'heroic': 2918, 'salli': 2919, 'charismat': 2920, 'electr': 2921, 'elect': 2922, 'iii': 2923, 'tender': 2924, 'wannab': 2925, 'neil': 2926, 'admittedli': 2927, 'toss': 2928, 'bud': 2929, 'resourc': 2930, 'nuanc': 2931, 'ingredi': 2932, 'grandmoth': 2933, 'reel': 2934, 'cole': 2935, 'shall': 2936, 'label': 2937, 'reev': 2938, 'mild': 2939, 'pit': 2940, 'mafia': 2941, 'poverti': 2942, 'carrey': 2943, 'stronger': 2944, 'punk': 2945, 'dawson': 2946, 'stood': 2947, 'pauli': 2948, 'gate': 2949, 'kubrick': 2950, 'astair': 2951, 'cox': 2952, 'cardboard': 2953, 'smash': 2954, 'outcom': 2955, 'easier': 2956, 'fond': 2957, 'terri': 2958, 'burst': 2959, 'ian': 2960, 'updat': 2961, 'assault': 2962, 'useless': 2963, 'smooth': 2964, 'tag': 2965, 'bakshi': 2966, 'resolv': 2967, 'rex': 2968, 'increasingli': 2969, 'exchang': 2970, 'vari': 2971, 'divers': 2972, 'fist': 2973, 'qualifi': 2974, 'sketch': 2975, '2002': 2976, 'coincid': 2977, 'melodramat': 2978, 'vulner': 2979, 'samurai': 2980, 'reynold': 2981, 'suspend': 2982, 'blast': 2983, 'tame': 2984, 'conveni': 2985, 'be': 2986, 'luckili': 2987, 'insert': 2988, 'scratch': 2989, 'brillianc': 2990, 'templ': 2991, 'seventi': 2992, 'ambiti': 2993, 'jami': 2994, 'coach': 2995, 'gotta': 2996, 'walker': 2997, 'soprano': 2998, 'strictli': 2999, 'matthew': 3000, 'meat': 3001, 'farm': 3002, 'hamilton': 3003, 'nuclear': 3004, 'pin': 3005, 'fisher': 3006, 'ninja': 3007, 'spooki': 3008, 'kudo': 3009, 'convolut': 3010, 'instantli': 3011, 'recreat': 3012, 'timeless': 3013, 'struck': 3014, 'monk': 3015, 'worthless': 3016, 'cave': 3017, 'discoveri': 3018, 'grasp': 3019, 'eccentr': 3020, 'joey': 3021, 'clock': 3022, 'revers': 3023, 'empir': 3024, 'closet': 3025, 'brosnan': 3026, 'butcher': 3027, 'bleak': 3028, 'eighti': 3029, 'gray': 3030, 'sidekick': 3031, 'sloppi': 3032, 'clown': 3033, 'selfish': 3034, 'declar': 3035, 'fifteen': 3036, 'inconsist': 3037, 'importantli': 3038, 'miracl': 3039, 'wipe': 3040, 'partli': 3041, 'seller': 3042, 'norman': 3043, 'communist': 3044, 'evok': 3045, 'mitchel': 3046, 'cliff': 3047, 'pal': 3048, 'debat': 3049, 'ho': 3050, 'aforement': 3051, 'enthusiast': 3052, 'cheek': 3053, '45': 3054, 'farc': 3055, 'flawless': 3056, 'piano': 3057, 'psychiatrist': 3058, 'seed': 3059, 'destin': 3060, 'websit': 3061, 'lifestyl': 3062, 'stoog': 3063, 'superbl': 3064, 'chew': 3065, 'australia': 3066, 'soviet': 3067, 'abc': 3068, 'drivel': 3069, 'regardless': 3070, 'slice': 3071, 'emili': 3072, 'splatter': 3073, 'bash': 3074, 'kitchen': 3075, 'dire': 3076, 'dash': 3077, 'wick': 3078, 'incompet': 3079, 'akshay': 3080, 'pressur': 3081, 'directori': 3082, 'wrestl': 3083, 'anni': 3084, 'cia': 3085, 'suppli': 3086, 'seduc': 3087, 'chapter': 3088, 'boil': 3089, 'curios': 3090, 'mann': 3091, 'jar': 3092, 'artifici': 3093, 'flower': 3094, 'distant': 3095, 'recov': 3096, 'prize': 3097, 'pleasantli': 3098, 'glow': 3099, 'beaten': 3100, 'duo': 3101, 'dave': 3102, 'judi': 3103, 'lou': 3104, 'helicopt': 3105, 'increas': 3106, 'blob': 3107, 'doo': 3108, 'cagney': 3109, 'cameron': 3110, 'ken': 3111, 'favour': 3112, 'psychot': 3113, 'splendid': 3114, 'laurel': 3115, 'turner': 3116, 'web': 3117, 'drunken': 3118, 'ranger': 3119, 'combat': 3120, 'ellen': 3121, 'panic': 3122, 'craig': 3123, 'perri': 3124, 'goldberg': 3125, 'francisco': 3126, 'hop': 3127, 'glenn': 3128, 'eleg': 3129, 'craven': 3130, '20th': 3131, 'greek': 3132, 'gentl': 3133, 'slightest': 3134, 'fx': 3135, 'min': 3136, 'flip': 3137, 'philosophi': 3138, 'rid': 3139, 'shortli': 3140, 'modesti': 3141, 'graduat': 3142, 'plausibl': 3143, 'alexand': 3144, 'falk': 3145, 'wizard': 3146, 'gandhi': 3147, 'hatr': 3148, 'ruth': 3149, 'lend': 3150, 'preciou': 3151, 'knight': 3152, 'dracula': 3153, 'holi': 3154, 'jealou': 3155, 'unpleas': 3156, 'fund': 3157, 'manhattan': 3158, 'legal': 3159, 'harm': 3160, 'felix': 3161, 'futurist': 3162, 'tall': 3163, 'ocean': 3164, 'we': 3165, 'ami': 3166, 'mock': 3167, 'giallo': 3168, 'overdon': 3169, 'scientif': 3170, 'thread': 3171, 'explicit': 3172, 'nod': 3173, 'bless': 3174, 'digniti': 3175, 'childish': 3176, 'forbidden': 3177, 'tank': 3178, 'reviv': 3179, 'yesterday': 3180, 'broad': 3181, 'verhoeven': 3182, 'repeatedli': 3183, 'awe': 3184, 'awaken': 3185, 'elderli': 3186, 'pirat': 3187, 'eve': 3188, 'torment': 3189, 'nerv': 3190, 'thick': 3191, '2004': 3192, 'margaret': 3193, 'unwatch': 3194, 'mel': 3195, 'fever': 3196, '99': 3197, 'lean': 3198, 'automat': 3199, 'ambit': 3200, 'rivet': 3201, 'eas': 3202, 'politician': 3203, 'royal': 3204, 'publish': 3205, 'stiller': 3206, 'custom': 3207, 'absenc': 3208, 'roman': 3209, 'bin': 3210, 'launch': 3211, 'timothi': 3212, 'kay': 3213, 'acclaim': 3214, 'ah': 3215, 'griffith': 3216, 'romero': 3217, 'uniform': 3218, 'antic': 3219, 'stinker': 3220, 'transport': 3221, 'bathroom': 3222, 'foul': 3223, 'crook': 3224, 'darker': 3225, 'termin': 3226, 'wallac': 3227, 'gabriel': 3228, 'homicid': 3229, 'warren': 3230, 'tomato': 3231, 'phrase': 3232, 'purpl': 3233, 'sunshin': 3234, 'pierc': 3235, 'pulp': 3236, 'sixti': 3237, 'evolv': 3238, 'hollow': 3239, 'q': 3240, 'brazil': 3241, 'kenneth': 3242, 'juvenil': 3243, 'saint': 3244, 'pray': 3245, 'coloni': 3246, 'marin': 3247, 'choreographi': 3248, 'awak': 3249, 'horrid': 3250, 'karen': 3251, 'ought': 3252, 'rambo': 3253, '2003': 3254, 'eyr': 3255, 'donna': 3256, 'li': 3257, 'album': 3258, 'revolutionari': 3259, 'viciou': 3260, 'contrari': 3261, 'packag': 3262, 'prom': 3263, 'beatti': 3264, 'dose': 3265, 'boast': 3266, 'conserv': 3267, 'overr': 3268, 'option': 3269, 'blade': 3270, 'nerd': 3271, 'candid': 3272, 'mummi': 3273, 'ramon': 3274, 'ireland': 3275, 'twelv': 3276, 'stole': 3277, 'defi': 3278, 'kapoor': 3279, 'mildr': 3280, 'detract': 3281, 'fulci': 3282, 'astonish': 3283, 'altman': 3284, 'flame': 3285, 'funer': 3286, 'jazz': 3287, 'trio': 3288, 'kirk': 3289, 'protest': 3290, 'natali': 3291, 'global': 3292, 'collabor': 3293, 'confirm': 3294, 'whip': 3295, 'bottl': 3296, 'spit': 3297, 'blake': 3298, 'yellow': 3299, 'destini': 3300, 'leap': 3301, 'bull': 3302, 'tommi': 3303, 'racial': 3304, 'shade': 3305, 'delici': 3306, 'mystic': 3307, 'enterpris': 3308, 'audio': 3309, 'nicholson': 3310, 'harder': 3311, 'swedish': 3312, 'altogeth': 3313, 'adolesc': 3314, 'bedroom': 3315, 'inherit': 3316, 'staff': 3317, 'popcorn': 3318, 'enchant': 3319, 'pseudo': 3320, 'threw': 3321, 'visibl': 3322, 'todd': 3323, 'neo': 3324, 'meaningless': 3325, 'vivid': 3326, 'reunit': 3327, 'fonda': 3328, 'merci': 3329, 'voight': 3330, 'lemmon': 3331, 'await': 3332, 'bust': 3333, 'lawrenc': 3334, 'reserv': 3335, 'befriend': 3336, 'roommat': 3337, 'uneven': 3338, 'decor': 3339, 'fanat': 3340, 'atlanti': 3341, 'ruthless': 3342, 'edi': 3343, 'jew': 3344, 'leonard': 3345, 'madonna': 3346, 'tip': 3347, 'exhibit': 3348, 'crocodil': 3349, 'kennedi': 3350, 'wire': 3351, 'synopsi': 3352, 'moodi': 3353, 'suspici': 3354, 'respond': 3355, 'bold': 3356, 'dimens': 3357, 'incident': 3358, 'clumsi': 3359, 'rural': 3360, 'audit': 3361, 'abysm': 3362, 'garner': 3363, 'palma': 3364, 'bargain': 3365, 'ventur': 3366, '2007': 3367, 'carl': 3368, 'bradi': 3369, 'centr': 3370, 'unsettl': 3371, 'clint': 3372, 'chao': 3373, 'holli': 3374, 'voyag': 3375, 'poetic': 3376, 'neglect': 3377, 'characterist': 3378, 'echo': 3379, 'lit': 3380, 'imperson': 3381, 'tiger': 3382, 'cuba': 3383, '2nd': 3384, 'ant': 3385, 'nearbi': 3386, 'humili': 3387, 'troop': 3388, 'cd': 3389, 'wealth': 3390, 'trail': 3391, 'hart': 3392, 'versu': 3393, 'daddi': 3394, 'immigr': 3395, 'mall': 3396, 'timon': 3397, 'acknowledg': 3398, 'elimin': 3399, 'cari': 3400, 'celluloid': 3401, 'pun': 3402, 'solo': 3403, 'collaps': 3404, 'domest': 3405, 'mistaken': 3406, 'repuls': 3407, 'prejudic': 3408, 'infect': 3409, 'paus': 3410, 'saga': 3411, 'mickey': 3412, 'marshal': 3413, 'homer': 3414, 'jeffrey': 3415, 'ginger': 3416, 'undoubtedli': 3417, 'interrupt': 3418, 'inan': 3419, 'assembl': 3420, '1996': 3421, 'leon': 3422, 'promin': 3423, 'inappropri': 3424, 'apolog': 3425, 'coat': 3426, 'milk': 3427, 'cake': 3428, 'sore': 3429, 'pant': 3430, 'equip': 3431, 'hbo': 3432, 'coffe': 3433, 'olivi': 3434, 'chest': 3435, 'gear': 3436, 'harvey': 3437, 'tribe': 3438, 'airplan': 3439, 'vulgar': 3440, 'retain': 3441, 'florida': 3442, 'primari': 3443, 'exot': 3444, 'brooklyn': 3445, 'polanski': 3446, 'colonel': 3447, 'colleagu': 3448, 'solut': 3449, 'furthermor': 3450, 'highest': 3451, 'pen': 3452, 'embrac': 3453, 'trace': 3454, 'aveng': 3455, 'humbl': 3456, 'consum': 3457, 'maggi': 3458, 'pot': 3459, 'institut': 3460, 'jenni': 3461, 'instant': 3462, 'devast': 3463, 'smaller': 3464, '1999': 3465, 'descend': 3466, 'sale': 3467, 'disabl': 3468, 'wive': 3469, 'cope': 3470, 'rick': 3471, 'godzilla': 3472, 'illog': 3473, 'gender': 3474, 'ya': 3475, 'poke': 3476, '3rd': 3477, 'strain': 3478, 'bowl': 3479, 'seduct': 3480, 'dian': 3481, 'linda': 3482, 'principl': 3483, 'dutch': 3484, 'outer': 3485, 'devoid': 3486, 'cue': 3487, 'mixtur': 3488, 'scope': 3489, 'blatant': 3490, 'lol': 3491, 'glamor': 3492, 'bubbl': 3493, 'inferior': 3494, 'predecessor': 3495, 'yard': 3496, 'vast': 3497, 'secondli': 3498, 'hal': 3499, 'primarili': 3500, 'dud': 3501, 'rabbit': 3502, 'gloriou': 3503, 'dive': 3504, 'beneath': 3505, 'gundam': 3506, 'trademark': 3507, 'aggress': 3508, 'invas': 3509, 'et': 3510, 'disjoint': 3511, 'alert': 3512, 'alfr': 3513, 'casual': 3514, 'museum': 3515, 'senseless': 3516, 'simplist': 3517, 'countrysid': 3518, 'april': 3519, 'z': 3520, 'garbo': 3521, 'hideou': 3522, 'shelf': 3523, 'talki': 3524, 'myer': 3525, 'grinch': 3526, 'domino': 3527, 'pearl': 3528, 'arab': 3529, 'breed': 3530, 'shirley': 3531, 'streep': 3532, 'vanish': 3533, 'khan': 3534, 'hopeless': 3535, 'robberi': 3536, 'rendit': 3537, 'acid': 3538, 'unhappi': 3539, 'sh': 3540, 'obtain': 3541, 'defens': 3542, 'stir': 3543, 'illeg': 3544, 'stellar': 3545, 'mail': 3546, 'stack': 3547, 'boom': 3548, 'hardcor': 3549, 'experiment': 3550, 'maci': 3551, 'robinson': 3552, 'oz': 3553, 'slide': 3554, 'applaud': 3555, 'mayor': 3556, 'disgrac': 3557, 'uwe': 3558, 'loyal': 3559, 'berlin': 3560, 'span': 3561, 'emphasi': 3562, 'psychic': 3563, 'craze': 3564, 'amanda': 3565, 'grandfath': 3566, 'spider': 3567, 'rifl': 3568, 'dismiss': 3569, 'counter': 3570, 'topless': 3571, 'incomprehens': 3572, 'wont': 3573, 'tenant': 3574, 'fri': 3575, 'tempt': 3576, 'blew': 3577, 'dicken': 3578, 'scroog': 3579, 'recruit': 3580, 'declin': 3581, 'soccer': 3582, 'hartley': 3583, 'diana': 3584, 'trashi': 3585, 'lumet': 3586, 'wet': 3587, 'riot': 3588, 'resurrect': 3589, 'revolt': 3590, 'faster': 3591, 'niro': 3592, 'goer': 3593, 'shed': 3594, 'shaw': 3595, 'bitch': 3596, 'woo': 3597, 'sibl': 3598, 'intim': 3599, 'sympath': 3600, 'ethnic': 3601, 'porno': 3602, 'parad': 3603, 'justin': 3604, 'ration': 3605, 'nephew': 3606, 'gap': 3607, 'choru': 3608, 'lena': 3609, 'hesit': 3610, 'enlighten': 3611, 'commend': 3612, 'honesti': 3613, 'andr': 3614, 'worm': 3615, 'ballet': 3616, 'wheel': 3617, 'weakest': 3618, 'patriot': 3619, '00': 3620, 'unreal': 3621, 'farmer': 3622, 'eager': 3623, 'rider': 3624, 'slick': 3625, 'partial': 3626, 'ensur': 3627, 'biographi': 3628, 'mario': 3629, 'feminist': 3630, 'wendi': 3631, 'immort': 3632, 'jonathan': 3633, 'steam': 3634, 'dealer': 3635, 'hopper': 3636, 'region': 3637, 'similarli': 3638, 'composit': 3639, 'sappi': 3640, 'snap': 3641, 'confin': 3642, 'wore': 3643, 'morri': 3644, 'kingdom': 3645, 'safeti': 3646, 'prequel': 3647, 'vice': 3648, 'util': 3649, 'repress': 3650, 'nostalg': 3651, 'victori': 3652, 'properti': 3653, 'hung': 3654, 'charlott': 3655, 'skull': 3656, 'psychopath': 3657, 'leo': 3658, 'mutant': 3659, 'franco': 3660, 'sandra': 3661, 'owen': 3662, 'macarthur': 3663, 'blunt': 3664, 'rope': 3665, 'compens': 3666, 'exit': 3667, 'farrel': 3668, 'compass': 3669, 'deed': 3670, 'acquir': 3671, 'bonu': 3672, 'hyde': 3673, '1972': 3674, 'rocki': 3675, 'drain': 3676, 'strand': 3677, 'dust': 3678, 'latin': 3679, 'recycl': 3680, 'thru': 3681, 'rambl': 3682, 'drum': 3683, 'cg': 3684, 'speci': 3685, 'tail': 3686, 'kyle': 3687, 'bumbl': 3688, 'dalton': 3689, 'bow': 3690, 'heartbreak': 3691, 'snl': 3692, 'nervou': 3693, 'tad': 3694, 'whoopi': 3695, 'bergman': 3696, 'campbel': 3697, 'despair': 3698, 'del': 3699, 'miseri': 3700, 'repli': 3701, 'montana': 3702, 'valuabl': 3703, 'emperor': 3704, 'pattern': 3705, 'romp': 3706, 'slug': 3707, 'mistress': 3708, 'downhil': 3709, 'da': 3710, 'radic': 3711, 'tonight': 3712, '35': 3713, 'rotten': 3714, 'roth': 3715, 'gal': 3716, 'oppress': 3717, 'orson': 3718, 'rapist': 3719, 'wacki': 3720, 'chess': 3721, 'bleed': 3722, 'carradin': 3723, 'contempl': 3724, 'gimmick': 3725, 'martian': 3726, 'olli': 3727, 'percept': 3728, 'pour': 3729, 'airport': 3730, 'melodi': 3731, 'pervers': 3732, 'heal': 3733, 'shelley': 3734, 'pursuit': 3735, 'mislead': 3736, 'belt': 3737, 'arguabl': 3738, 'attorney': 3739, 'taught': 3740, '1983': 3741, 'banal': 3742, 'programm': 3743, 'dazzl': 3744, 'preach': 3745, 'arc': 3746, 'stilt': 3747, 'champion': 3748, 'unpredict': 3749, 'tooth': 3750, 'edgar': 3751, 'slash': 3752, 'tackl': 3753, 'pervert': 3754, 'paltrow': 3755, 'orang': 3756, 'cleverli': 3757, 'sensat': 3758, 'rubi': 3759, 'graham': 3760, 'vocal': 3761, 'tiresom': 3762, 'vengeanc': 3763, 'gambl': 3764, 'bela': 3765, 'employe': 3766, 'maid': 3767, 'virginia': 3768, 'marti': 3769, 'conneri': 3770, 'plight': 3771, 'raymond': 3772, 'uplift': 3773, 'duval': 3774, 'chicken': 3775, 'franki': 3776, 'closest': 3777, 'mesmer': 3778, 'passeng': 3779, 'poem': 3780, 'dixon': 3781, 'outing': 3782, 'climact': 3783, 'calm': 3784, 'quarter': 3785, 'profan': 3786, 'paranoia': 3787, 'volum': 3788, 'secretli': 3789, 'extens': 3790, 'giggl': 3791, 'monologu': 3792, 'inject': 3793, 'abraham': 3794, 'yawn': 3795, 'habit': 3796, 'convincingli': 3797, 'swallow': 3798, 'tube': 3799, 'numb': 3800, 'mute': 3801, 'sirk': 3802, 'engross': 3803, 'amitabh': 3804, '1968': 3805, 'iran': 3806, 'whine': 3807, 'clone': 3808, 'scottish': 3809, 'crystal': 3810, 'suffic': 3811, 'gerard': 3812, 'lundgren': 3813, 'bay': 3814, 'pokemon': 3815, 'expand': 3816, 'ethan': 3817, 'poetri': 3818, 'backward': 3819, 'profess': 3820, 'im': 3821, 'underst': 3822, 'linger': 3823, 'bend': 3824, 'trend': 3825, 'franci': 3826, 'fed': 3827, 'frankenstein': 3828, 'junior': 3829, 'dispos': 3830, 'grotesqu': 3831, 'lowest': 3832, 'septemb': 3833, 'spock': 3834, 'chicago': 3835, 'abort': 3836, 'surpass': 3837, 'nichola': 3838, 'earl': 3839, 'richardson': 3840, 'taxi': 3841, 'meander': 3842, 'austen': 3843, 'plod': 3844, 'lure': 3845, 'rant': 3846, 'eugen': 3847, 'muddl': 3848, 'econom': 3849, 'stallon': 3850, 'dysfunct': 3851, 'hum': 3852, 'der': 3853, 'compliment': 3854, 'descent': 3855, 'instrument': 3856, 'cannon': 3857, 'nostalgia': 3858, 'household': 3859, 'mundan': 3860, 'simplic': 3861, 'greedi': 3862, 'tourist': 3863, 'sue': 3864, 'rubber': 3865, 'myth': 3866, 'literatur': 3867, 'waitress': 3868, 'catchi': 3869, 'spoke': 3870, 'recognis': 3871, 'crucial': 3872, 'randi': 3873, 'insur': 3874, 'stale': 3875, 'occupi': 3876, 'mortal': 3877, 'lang': 3878, 'june': 3879, 'sissi': 3880, 'carel': 3881, 'damon': 3882, 'dement': 3883, 'map': 3884, 'equival': 3885, 'molli': 3886, 'cent': 3887, 'mankind': 3888, 'phantom': 3889, 'furi': 3890, 'recognit': 3891, 'bacal': 3892, 'flee': 3893, 'dictat': 3894, 'coast': 3895, 'deaf': 3896, 'eaten': 3897, 'hello': 3898, 'firstli': 3899, 'louis': 3900, 'phoni': 3901, 'irrelev': 3902, 'alongsid': 3903, 'duck': 3904, 'omen': 3905, 'labor': 3906, 'reign': 3907, 'freez': 3908, 'blackmail': 3909, 'rude': 3910, 'newli': 3911, 'loyalti': 3912, 'bump': 3913, 'onlin': 3914, 'heel': 3915, 'biko': 3916, 'cyborg': 3917, 'likewis': 3918, 'drake': 3919, 'wisdom': 3920, 'lengthi': 3921, 'distinguish': 3922, 'grayson': 3923, 'twilight': 3924, '1973': 3925, 'buffalo': 3926, 'rooney': 3927, 'dreari': 3928, 'bike': 3929, 'damm': 3930, 'daisi': 3931, 'ashley': 3932, 'antwon': 3933, 'inher': 3934, 'exposur': 3935, 'approv': 3936, 'proce': 3937, 'analysi': 3938, 'unorigin': 3939, 'ridden': 3940, 'emphas': 3941, 'startl': 3942, 'nineti': 3943, 'keith': 3944, 'attribut': 3945, 'prey': 3946, 'basketbal': 3947, 'barrymor': 3948, 'tunnel': 3949, 'provoc': 3950, 'interior': 3951, 'baddi': 3952, 'chronicl': 3953, 'worn': 3954, 'boxer': 3955, 'incorpor': 3956, 'butler': 3957, 'sailor': 3958, 'pink': 3959, 'vein': 3960, 'fleet': 3961, 'unrel': 3962, 'stalker': 3963, 'nicol': 3964, 'predat': 3965, 'mormon': 3966, 'robbin': 3967, 'meg': 3968, 'improvis': 3969, 'undeni': 3970, 'othello': 3971, 'substitut': 3972, 'hypnot': 3973, 'condemn': 3974, 'belushi': 3975, 'er': 3976, 'elm': 3977, 'degrad': 3978, 'indiffer': 3979, 'simmon': 3980, 'millionair': 3981, 'meyer': 3982, 'drift': 3983, 'underli': 3984, 'julian': 3985, 'barrel': 3986, 'walsh': 3987, 'mighti': 3988, 'carla': 3989, 'bunni': 3990, 'shove': 3991, 'vital': 3992, 'priceless': 3993, 'alarm': 3994, 'mtv': 3995, 'unawar': 3996, 'alison': 3997, 'greed': 3998, 'exquisit': 3999, 'rukh': 4000, '3d': 4001, 'disord': 4002, 'hay': 4003, 'palac': 4004, 'lampoon': 4005, 'agenda': 4006, 'roof': 4007, 'reid': 4008, 'marion': 4009, 'edgi': 4010, 'firm': 4011, 'novak': 4012, 'watson': 4013, 'nyc': 4014, 'enthusiasm': 4015, 'warmth': 4016, 'errol': 4017, 'dolph': 4018, 'petti': 4019, 'minimum': 4020, 'testament': 4021, 'spain': 4022, 'eastern': 4023, 'iraq': 4024, 'preserv': 4025, 'distort': 4026, 'session': 4027, 'simultan': 4028, '1933': 4029, 'zizek': 4030, 'randomli': 4031, 'israel': 4032, 'unleash': 4033, 'crown': 4034, 'peril': 4035, 'showdown': 4036, 'pamela': 4037, 'peck': 4038, 'thompson': 4039, 'cassidi': 4040, '13th': 4041, 'orlean': 4042, 'what': 4043, 'gestur': 4044, 'nun': 4045, 'beatl': 4046, 'sergeant': 4047, 'glanc': 4048, 'campaign': 4049, 'drip': 4050, 'ponder': 4051, 'valentin': 4052, 'angela': 4053, 'championship': 4054, 'coup': 4055, 'profit': 4056, 'stake': 4057, 'perpetu': 4058, 'exposit': 4059, 'mon': 4060, 'quinn': 4061, 'crow': 4062, '1984': 4063, 'miyazaki': 4064, 'kurosawa': 4065, 'realm': 4066, 'travesti': 4067, 'contradict': 4068, 'rout': 4069, 'calib': 4070, 'valley': 4071, 'regist': 4072, 'unimagin': 4073, 'han': 4074, 'bro': 4075, 'wig': 4076, 'empathi': 4077, 'stroke': 4078, 'restrain': 4079, 'buster': 4080, 'cooki': 4081, 'jan': 4082, 'scotland': 4083, 'sabrina': 4084, 'climat': 4085, 'represent': 4086, 'reson': 4087, 'brenda': 4088, 'crawl': 4089, 'din': 4090, 'shootout': 4091, 'cream': 4092, 'gentleman': 4093, 'fido': 4094, 'perceiv': 4095, 'shaki': 4096, 'cloud': 4097, 'dana': 4098, 'passabl': 4099, 'geek': 4100, 'sammi': 4101, 'traumat': 4102, 'shoddi': 4103, 'ross': 4104, 'monoton': 4105, 'distress': 4106, 'derang': 4107, 'abomin': 4108, 'wax': 4109, 'baldwin': 4110, 'mclaglen': 4111, 'pole': 4112, '1987': 4113, 'stargat': 4114, 'spacey': 4115, 'pretens': 4116, 'compromis': 4117, 'delic': 4118, 'unseen': 4119, 'fuller': 4120, 'soderbergh': 4121, 'darren': 4122, 'businessman': 4123, 'unsatisfi': 4124, 'sucker': 4125, 'meryl': 4126, 'warrant': 4127, 'josh': 4128, 'painter': 4129, 'femm': 4130, 'ustinov': 4131, 'greg': 4132, '1997': 4133, 'censor': 4134, 'tacki': 4135, 'absent': 4136, 'demis': 4137, 'crawford': 4138, 'tarantino': 4139, '1993': 4140, 'unravel': 4141, 'verbal': 4142, 'clash': 4143, 'click': 4144, 'sid': 4145, 'deceas': 4146, 'anchor': 4147, 'valid': 4148, 'norm': 4149, 'expedit': 4150, 'correctli': 4151, 'deniro': 4152, 'fenc': 4153, 'austin': 4154, 'seal': 4155, 'kumar': 4156, 'jewel': 4157, 'reluct': 4158, 'judgment': 4159, 'furiou': 4160, 'exclus': 4161, 'primit': 4162, 'wholli': 4163, 'nathan': 4164, 'tech': 4165, 'accuraci': 4166, 'uncov': 4167, 'polici': 4168, 'fog': 4169, 'dee': 4170, 'antonioni': 4171, 'temper': 4172, 'mode': 4173, 'debt': 4174, 'roller': 4175, '1971': 4176, 'fought': 4177, 'sheet': 4178, 'wretch': 4179, 'hallucin': 4180, 'trait': 4181, 'slam': 4182, 'ritual': 4183, 'bake': 4184, 'patienc': 4185, 'dreck': 4186, '1995': 4187, 'sustain': 4188, 'malon': 4189, 'behold': 4190, 'murray': 4191, '3000': 4192, 'fart': 4193, 'crippl': 4194, 'enforc': 4195, '2008': 4196, 'fabric': 4197, 'sunni': 4198, 'shanghai': 4199, 'joel': 4200, 'alec': 4201, 'darn': 4202, 'sand': 4203, 'wang': 4204, 'clerk': 4205, 'conduct': 4206, 'unfair': 4207, 'logan': 4208, 'nicola': 4209, 'vanc': 4210, 'pocket': 4211, 'seldom': 4212, 'tax': 4213, 'preposter': 4214, 'stark': 4215, 'schedul': 4216, 'exhaust': 4217, 'grief': 4218, 'isabel': 4219, 'conscious': 4220, 'helpless': 4221, 'fundament': 4222, 'legaci': 4223, 'pete': 4224, 'tactic': 4225, 'squad': 4226, 'canyon': 4227, 'guitar': 4228, 'critiqu': 4229, 'despis': 4230, 'bias': 4231, 'clau': 4232, 'phil': 4233, 'runner': 4234, 'preston': 4235, 'rita': 4236, 'robber': 4237, 'divid': 4238, 'scriptwrit': 4239, 'bridget': 4240, 'shell': 4241, 'technicolor': 4242, 'soup': 4243, 'stuart': 4244, 'sweep': 4245, 'outlin': 4246, 'penni': 4247, 'boyl': 4248, 'consciou': 4249, 'inabl': 4250, 'unexpectedli': 4251, 'alley': 4252, 'implic': 4253, 'restrict': 4254, 'cigarett': 4255, 'agenc': 4256, 'gregori': 4257, 'invad': 4258, 'lacklust': 4259, 'connor': 4260, 'culmin': 4261, 'vomit': 4262, 'delv': 4263, 'kansa': 4264, 'liberti': 4265, 'flair': 4266, 'palanc': 4267, 'jacket': 4268, 'rear': 4269, 'sugar': 4270, 'passag': 4271, 'rehash': 4272, 'bloom': 4273, 'drove': 4274, 'sentinel': 4275, 'alicia': 4276, 'downey': 4277, 'propos': 4278, 'sniper': 4279, 'marc': 4280, 'jodi': 4281, 'russia': 4282, 'newman': 4283, 'foxx': 4284, 'delet': 4285, 'karl': 4286, 'rehears': 4287, 'bacon': 4288, 'horn': 4289, 'rampag': 4290, 'tendenc': 4291, 'arrow': 4292, 'cap': 4293, 'yeti': 4294, 'tripe': 4295, '1936': 4296, 'vet': 4297, 'behaviour': 4298, 'lush': 4299, 'awhil': 4300, 'wrench': 4301, 'asylum': 4302, 'aesthet': 4303, 'kolchak': 4304, '22': 4305, 'pale': 4306, 'ladder': 4307, 'chainsaw': 4308, 'feat': 4309, 'sharon': 4310, 'improb': 4311, 'mccoy': 4312, 'rod': 4313, 'el': 4314, 'paramount': 4315, 'coaster': 4316, 'minu': 4317, 'visitor': 4318, 'fright': 4319, 'financ': 4320, 'sung': 4321, '1978': 4322, 'scoop': 4323, 'globe': 4324, 'newcom': 4325, 'elit': 4326, 'tasteless': 4327, 'conscienc': 4328, 'filler': 4329, 'lurk': 4330, 'underneath': 4331, 'wagner': 4332, '19th': 4333, 'shortcom': 4334, '1988': 4335, 'amazon': 4336, 'suspicion': 4337, 'hungri': 4338, 'tomorrow': 4339, 'prank': 4340, 'aristocrat': 4341, 'wildli': 4342, 'rumor': 4343, 'stream': 4344, 'suffici': 4345, '1920': 4346, 'hulk': 4347, 'rhythm': 4348, 'spice': 4349, 'weav': 4350, 'loneli': 4351, 'paradis': 4352, 'basing': 4353, 'hackney': 4354, 'thunderbird': 4355, 'heist': 4356, 'tierney': 4357, 'lectur': 4358, 'recogniz': 4359, 'quietli': 4360, '75': 4361, 'atroc': 4362, 'entranc': 4363, 'worship': 4364, 'impos': 4365, 'standout': 4366, 'ingeni': 4367, 'bread': 4368, 'couch': 4369, 'leigh': 4370, 'naughti': 4371, 'springer': 4372, 'paxton': 4373, 'en': 4374, 'abrupt': 4375, 'smell': 4376, 'beverli': 4377, 'immers': 4378, 'literari': 4379, 'secondari': 4380, 'ram': 4381, '1989': 4382, 'inmat': 4383, 'dirt': 4384, 'counterpart': 4385, 'rub': 4386, 'hopkin': 4387, 'straightforward': 4388, 'curli': 4389, 'penn': 4390, 'brit': 4391, 'cancer': 4392, 'choppi': 4393, '1939': 4394, 'minist': 4395, 'posey': 4396, 'teas': 4397, 'grudg': 4398, 'wwe': 4399, 'iv': 4400, 'chavez': 4401, 'chamberlain': 4402, 'ace': 4403, 'convert': 4404, 'quaid': 4405, 'variat': 4406, 'bernard': 4407, 'nemesi': 4408, 'enthral': 4409, 'attenborough': 4410, 'misguid': 4411, '1986': 4412, 'skeptic': 4413, 'morbid': 4414, 'yearn': 4415, 'moreov': 4416, 'watcher': 4417, 'clan': 4418, 'injuri': 4419, 'net': 4420, 'sublim': 4421, 'transcend': 4422, 'nolan': 4423, 'lindsay': 4424, 'entitl': 4425, 'duel': 4426, 'policeman': 4427, 'cattl': 4428, 'heartfelt': 4429, 'ratso': 4430, 'laurenc': 4431, 'esther': 4432, 'geni': 4433, 'sassi': 4434, 'missil': 4435, 'rosemari': 4436, 'spiral': 4437, 'artsi': 4438, 'mytholog': 4439, 'setup': 4440, 'kidman': 4441, 'characteris': 4442, 'puppi': 4443, 'out': 4444, 'graini': 4445, 'dont': 4446, 'hopelessli': 4447, 'reliabl': 4448, 'diari': 4449, 'enabl': 4450, 'moder': 4451, 'poe': 4452, 'hk': 4453, 'steadi': 4454, 'kitti': 4455, 'brood': 4456, 'grin': 4457, 'facil': 4458, 'bean': 4459, 'buzz': 4460, 'tyler': 4461, 'uncut': 4462, 'carlito': 4463, 'unexplain': 4464, '1979': 4465, 'egg': 4466, 'youngest': 4467, 'cruelti': 4468, 'obstacl': 4469, 'vader': 4470, 'bye': 4471, 'disastr': 4472, 'effici': 4473, 'preming': 4474, 'fuel': 4475, '1969': 4476, 'exterior': 4477, 'narrow': 4478, 'athlet': 4479, 'niec': 4480, 'sweat': 4481, 'bewar': 4482, 'underworld': 4483, 'hammi': 4484, 'spontan': 4485, 'oblig': 4486, 'patricia': 4487, 'hain': 4488, 'kline': 4489, 'gillian': 4490, 'christin': 4491, 'clueless': 4492, 'heap': 4493, 'martha': 4494, 'gina': 4495, 'baffl': 4496, 'despic': 4497, 'bronson': 4498, 'decept': 4499, 'bounc': 4500, 'acquaint': 4501, 'weather': 4502, 'brendan': 4503, 'insipid': 4504, 'sooner': 4505, 'hepburn': 4506, '19': 4507, 'headach': 4508, '73': 4509, 'angst': 4510, 'harmless': 4511, 'suprem': 4512, 'trigger': 4513, 'sleepwalk': 4514, 'viewpoint': 4515, 'tick': 4516, 'mermaid': 4517, 'lester': 4518, 'loi': 4519, 'virtu': 4520, 'shatter': 4521, 'taboo': 4522, 'preachi': 4523, 'loath': 4524, 'rome': 4525, 'analyz': 4526, 'candl': 4527, 'scar': 4528, 'astound': 4529, 'fontain': 4530, 'dilemma': 4531, 'outlaw': 4532, 'injur': 4533, 'goof': 4534, 'dandi': 4535, 'circu': 4536, 'mayhem': 4537, 'uh': 4538, 'renaiss': 4539, 'housewif': 4540, 'biker': 4541, 'enlist': 4542, 'amor': 4543, 'oldest': 4544, 'fluff': 4545, 'tripl': 4546, 'foolish': 4547, 'salt': 4548, 'zoom': 4549, 'idol': 4550, 'camcord': 4551, 'hostag': 4552, 'ariel': 4553, 'stimul': 4554, 'gere': 4555, 'filth': 4556, 'surgeri': 4557, 'macho': 4558, 'dismal': 4559, 'bent': 4560, 'glorifi': 4561, 'steer': 4562, 'whore': 4563, 'claustrophob': 4564, 'contempt': 4565, 'spade': 4566, 'slimi': 4567, 'ebert': 4568, 'immatur': 4569, 'boston': 4570, 'phenomenon': 4571, 'hokey': 4572, 'redund': 4573, 'overlong': 4574, 'stair': 4575, 'dish': 4576, 'guin': 4577, 'cassavet': 4578, 'hooker': 4579, 'intric': 4580, 'sox': 4581, 'scorses': 4582, 'corbett': 4583, 'gasp': 4584, 'joker': 4585, 'conquer': 4586, 'flirt': 4587, 'preced': 4588, 'proport': 4589, 'messi': 4590, 'spinal': 4591, '1976': 4592, 'cow': 4593, '1981': 4594, 'dwarf': 4595, 'shred': 4596, 'remad': 4597, 'cush': 4598, 'spree': 4599, 'strongest': 4600, 'flashi': 4601, 'mount': 4602, 'beard': 4603, 'antagonist': 4604, 'flag': 4605, 'assert': 4606, 'corman': 4607, 'naschi': 4608, 'harold': 4609, 'fascist': 4610, 'down': 4611, 'rhyme': 4612, 'muscl': 4613, 'widescreen': 4614, 'perman': 4615, 'trivia': 4616, 'cohen': 4617, 'faint': 4618, 'frantic': 4619, 'keen': 4620, 'margin': 4621, 'transplant': 4622, 'shield': 4623, 'nolt': 4624, 'astronaut': 4625, 'alvin': 4626, 'radiat': 4627, 'gabl': 4628, 'obligatori': 4629, 'mutual': 4630, 'zane': 4631, 'schlock': 4632, 'brush': 4633, 'persuad': 4634, 'triangl': 4635, 'raj': 4636, 'strive': 4637, 'boob': 4638, 'sensual': 4639, 'departur': 4640, '95': 4641, 'wield': 4642, 'www': 4643, 'resum': 4644, 'danish': 4645, 'archiv': 4646, 'discern': 4647, 'vaniti': 4648, 'carey': 4649, 'divin': 4650, '28': 4651, 'ritchi': 4652, 'claud': 4653, 'off': 4654, 'mobil': 4655, 'instruct': 4656, 'someday': 4657, 'info': 4658, 'hara': 4659, 'repris': 4660, 'bachelor': 4661, 'interestingli': 4662, 'scandal': 4663, '1945': 4664, 'fishburn': 4665, 'barn': 4666, 'mol': 4667, 'bitten': 4668, 'neurot': 4669, 'deer': 4670, 'flock': 4671, 'aborigin': 4672, 'inflict': 4673, 'fragil': 4674, 'cher': 4675, 'ish': 4676, 'cb': 4677, 'bate': 4678, 'jade': 4679, 'undermin': 4680, 'dim': 4681, 'cliffhang': 4682, 'recit': 4683, 'mobster': 4684, 'biblic': 4685, 'rot': 4686, 'earnest': 4687, 'banter': 4688, 'hapless': 4689, 'neill': 4690, 'europa': 4691, 'cycl': 4692, 'parson': 4693, 'hilar': 4694, 'prophet': 4695, 'dylan': 4696, 'artwork': 4697, 'frontier': 4698, 'miracul': 4699, 'luka': 4700, 'hug': 4701, 'traffic': 4702, 'anton': 4703, 'pickford': 4704, 'vibrant': 4705, 'colin': 4706, 'melissa': 4707, 'pixar': 4708, 'helm': 4709, 'kathryn': 4710, 'axe': 4711, 'proclaim': 4712, 'heartwarm': 4713, 'pacif': 4714, 'carlo': 4715, 'timberlak': 4716, 'senior': 4717, 'dame': 4718, 'loretta': 4719, 'clad': 4720, 'harrison': 4721, 'submit': 4722, 'wendigo': 4723, 'casino': 4724, 'static': 4725, 'estrang': 4726, 'marlon': 4727, 'vanessa': 4728, 'sicken': 4729, 'northern': 4730, 'choke': 4731, 'milo': 4732, 'lui': 4733, 'bondag': 4734, 'winchest': 4735, 'toronto': 4736, 'foil': 4737, 'pc': 4738, 'wardrob': 4739, 'mathieu': 4740, 'flavor': 4741, 'orphan': 4742, 'feast': 4743, 'antholog': 4744, 'trier': 4745, 'http': 4746, 'vile': 4747, 'blatantli': 4748, 'breakfast': 4749, 'jordan': 4750, 'jo': 4751, 'rooki': 4752, 'cerebr': 4753, 'isra': 4754, 'aris': 4755, 'nope': 4756, 'holocaust': 4757, 'legitim': 4758, 'articl': 4759, 'shepherd': 4760, 'razor': 4761, 'akin': 4762, 'eli': 4763, 'seedi': 4764, 'misfortun': 4765, 'redneck': 4766, 'bikini': 4767, 'lucil': 4768, 'mason': 4769, 'uma': 4770, 'illus': 4771, 'token': 4772, 'electron': 4773, 'alexandr': 4774, 'venom': 4775, 'comprehend': 4776, 'linear': 4777, 'ceremoni': 4778, 'howl': 4779, 'audrey': 4780, 'tack': 4781, 'highway': 4782, 'disregard': 4783, 'fifth': 4784, 'smack': 4785, 'feminin': 4786, 'oppon': 4787, 'glare': 4788, 'clinic': 4789, 'magician': 4790, 'deem': 4791, 'gilbert': 4792, 'nightclub': 4793, 'affleck': 4794, 'dudley': 4795, 'huston': 4796, 'frog': 4797, 'abund': 4798, 'ideolog': 4799, 'wrestler': 4800, 'cartoonish': 4801, 'boyer': 4802, 'outdat': 4803, 'gunga': 4804, 'turd': 4805, 'shorter': 4806, 'charlton': 4807, 'leather': 4808, 'retriev': 4809, 'psych': 4810, 'peer': 4811, 'styliz': 4812, 'knightley': 4813, 'swept': 4814, 'deliver': 4815, 'salman': 4816, 'breakdown': 4817, 'whack': 4818, 'compris': 4819, 'boo': 4820, 'senat': 4821, 'monument': 4822, 'cuban': 4823, 'lighter': 4824, 'uniformli': 4825, 'snatch': 4826, 'einstein': 4827, 'phenomen': 4828, 'durat': 4829, 'sleaz': 4830, 'client': 4831, 'btw': 4832, 'braveheart': 4833, 'plate': 4834, 'spawn': 4835, 'evolut': 4836, 'conrad': 4837, 'greet': 4838, 'chip': 4839, 'newer': 4840, '1991': 4841, 'mitch': 4842, 'corn': 4843, 'energet': 4844, '1994': 4845, 'bastard': 4846, 'lifeless': 4847, 'spine': 4848, 'goldsworthi': 4849, 'lavish': 4850, 'collector': 4851, 'toe': 4852, '4th': 4853, 'bogu': 4854, 'summar': 4855, 'tara': 4856, 'cemeteri': 4857, 'moe': 4858, 'potter': 4859, 'embark': 4860, 'ol': 4861, 'alleg': 4862, 'fluid': 4863, 'cecil': 4864, 'trauma': 4865, 'constitut': 4866, 'wtf': 4867, 'randolph': 4868, 'bulk': 4869, 'jare': 4870, 'appl': 4871, 'bori': 4872, 'kent': 4873, 'lex': 4874, 'creek': 4875, 'capot': 4876, 'occup': 4877, 'signal': 4878, 'undead': 4879, 'jedi': 4880, 'historian': 4881, 'clara': 4882, 'evelyn': 4883, 'healthi': 4884, 'sorrow': 4885, 'neatli': 4886, '1974': 4887, 'spectacl': 4888, 'eleven': 4889, 'outright': 4890, 'inaccuraci': 4891, 'firmli': 4892, 'gilliam': 4893, 'armstrong': 4894, '1977': 4895, 'mcqueen': 4896, 'jam': 4897, 'belli': 4898, 'kazan': 4899, 'pronounc': 4900, 'undertak': 4901, 'judd': 4902, 'nina': 4903, 'liu': 4904, 'luxuri': 4905, 'jule': 4906, 'replay': 4907, 'ie': 4908, 'inclus': 4909, 'decapit': 4910, 'knee': 4911, 'propheci': 4912, 'antonio': 4913, 'miami': 4914, 'palm': 4915, 'congratul': 4916, 'genet': 4917, 'subtli': 4918, 'vignett': 4919, 'cape': 4920, 'id': 4921, 'lanc': 4922, 'pepper': 4923, 'carmen': 4924, 'abound': 4925, 'blur': 4926, 'groan': 4927, 'unattract': 4928, 'galaxi': 4929, 'miniseri': 4930, 'truman': 4931, '1985': 4932, 'lauren': 4933, 'fruit': 4934, 'relentless': 4935, 'porter': 4936, 'paula': 4937, 'curtain': 4938, 'inaccur': 4939, 'sidewalk': 4940, 'vain': 4941, 'goldblum': 4942, 'poker': 4943, 'pioneer': 4944, 'walt': 4945, 'comb': 4946, 'sacrif': 4947, 'basket': 4948, 'unsuspect': 4949, 'spray': 4950, 'aussi': 4951, 'ash': 4952, 'forgiven': 4953, 'meal': 4954, 'roar': 4955, 'kiddi': 4956, 'conan': 4957, 'bait': 4958, 'tokyo': 4959, 'comprehens': 4960, 'rosario': 4961, 'mum': 4962, 'bsg': 4963, 'sparkl': 4964, 'monti': 4965, 'verg': 4966, 'masterson': 4967, 'drone': 4968, 'weaker': 4969, 'casper': 4970, 'handicap': 4971, 'rapidli': 4972, 'ingrid': 4973, 'profil': 4974, 'bach': 4975, 'hackman': 4976, 'epitom': 4977, '21st': 4978, 'victorian': 4979, 'omin': 4980, 'orchestr': 4981, 'assort': 4982, 'spill': 4983, 'ghetto': 4984, 'playboy': 4985, 'reincarn': 4986, 'hostil': 4987, 'modest': 4988, 'weari': 4989, 'sophi': 4990, 'dubiou': 4991, 'asset': 4992, 'optimist': 4993, 'bravo': 4994, 'substanti': 4995, 'scariest': 4996, 'growth': 4997, 'evan': 4998, 'jill': 4999}\n"
     ]
    }
   ],
   "source": [
    "# TODO: Use this space to determine the five most frequently appearing words in the training set.\n",
    "print(word_dict)"
   ]
  },
  {
   "cell_type": "markdown",
   "metadata": {},
   "source": [
    "### Save `word_dict`\n",
    "\n",
    "Later on when we construct an endpoint which processes a submitted review we will need to make use of the `word_dict` which we have created. As such, we will save it to a file now for future use."
   ]
  },
  {
   "cell_type": "code",
   "execution_count": 14,
   "metadata": {},
   "outputs": [],
   "source": [
    "data_dir = '../data/pytorch' # The folder we will use for storing data\n",
    "if not os.path.exists(data_dir): # Make sure that the folder exists\n",
    "    os.makedirs(data_dir)"
   ]
  },
  {
   "cell_type": "code",
   "execution_count": 15,
   "metadata": {},
   "outputs": [],
   "source": [
    "with open(os.path.join(data_dir, 'word_dict.pkl'), \"wb\") as f:\n",
    "    pickle.dump(word_dict, f)"
   ]
  },
  {
   "cell_type": "markdown",
   "metadata": {},
   "source": [
    "### Transform the reviews\n",
    "\n",
    "Now that we have our word dictionary which allows us to transform the words appearing in the reviews into integers, it is time to make use of it and convert our reviews to their integer sequence representation, making sure to pad or truncate to a fixed length, which in our case is `500`."
   ]
  },
  {
   "cell_type": "code",
   "execution_count": 16,
   "metadata": {},
   "outputs": [],
   "source": [
    "def convert_and_pad(word_dict, sentence, pad=500):\n",
    "    NOWORD = 0 # We will use 0 to represent the 'no word' category\n",
    "    INFREQ = 1 # and we use 1 to represent the infrequent words, i.e., words not appearing in word_dict\n",
    "    \n",
    "    working_sentence = [NOWORD] * pad\n",
    "    \n",
    "    for word_index, word in enumerate(sentence[:pad]):\n",
    "        if word in word_dict:\n",
    "            working_sentence[word_index] = word_dict[word]\n",
    "        else:\n",
    "            working_sentence[word_index] = INFREQ\n",
    "            \n",
    "    return working_sentence, min(len(sentence), pad)\n",
    "\n",
    "def convert_and_pad_data(word_dict, data, pad=500):\n",
    "    result = []\n",
    "    lengths = []\n",
    "    \n",
    "    for sentence in data:\n",
    "        converted, leng = convert_and_pad(word_dict, sentence, pad)\n",
    "        result.append(converted)\n",
    "        lengths.append(leng)\n",
    "        \n",
    "    return np.array(result), np.array(lengths)"
   ]
  },
  {
   "cell_type": "code",
   "execution_count": 17,
   "metadata": {},
   "outputs": [],
   "source": [
    "train_X, train_X_len = convert_and_pad_data(word_dict, train_X)\n",
    "test_X, test_X_len = convert_and_pad_data(word_dict, test_X)"
   ]
  },
  {
   "cell_type": "markdown",
   "metadata": {},
   "source": [
    "As a quick check to make sure that things are working as intended, check to see what one of the reviews in the training set looks like after having been processeed. Does this look reasonable? What is the length of a review in the training set?"
   ]
  },
  {
   "cell_type": "code",
   "execution_count": 18,
   "metadata": {},
   "outputs": [
    {
     "name": "stdout",
     "output_type": "stream",
     "text": [
      "[ 301  396  587  888  140  307   53   63    2    4  250  687   95   22\n",
      " 1137   17 2529  456  240 3872   41  467  158  121 2864    1    6  729\n",
      "  689    2   45   20   18   51   14    3 3845 2148  654 4734 1072  906\n",
      "    1  976 1167  102  342   10   62  276  198    4 3785    3  245    7\n",
      "  465    5  111 2831 1800 1068   34   21  196   22   80 1016 2039    2\n",
      "   12    4  132 3296  178  465  122    0    0    0    0    0    0    0\n",
      "    0    0    0    0    0    0    0    0    0    0    0    0    0    0\n",
      "    0    0    0    0    0    0    0    0    0    0    0    0    0    0\n",
      "    0    0    0    0    0    0    0    0    0    0    0    0    0    0\n",
      "    0    0    0    0    0    0    0    0    0    0    0    0    0    0\n",
      "    0    0    0    0    0    0    0    0    0    0    0    0    0    0\n",
      "    0    0    0    0    0    0    0    0    0    0    0    0    0    0\n",
      "    0    0    0    0    0    0    0    0    0    0    0    0    0    0\n",
      "    0    0    0    0    0    0    0    0    0    0    0    0    0    0\n",
      "    0    0    0    0    0    0    0    0    0    0    0    0    0    0\n",
      "    0    0    0    0    0    0    0    0    0    0    0    0    0    0\n",
      "    0    0    0    0    0    0    0    0    0    0    0    0    0    0\n",
      "    0    0    0    0    0    0    0    0    0    0    0    0    0    0\n",
      "    0    0    0    0    0    0    0    0    0    0    0    0    0    0\n",
      "    0    0    0    0    0    0    0    0    0    0    0    0    0    0\n",
      "    0    0    0    0    0    0    0    0    0    0    0    0    0    0\n",
      "    0    0    0    0    0    0    0    0    0    0    0    0    0    0\n",
      "    0    0    0    0    0    0    0    0    0    0    0    0    0    0\n",
      "    0    0    0    0    0    0    0    0    0    0    0    0    0    0\n",
      "    0    0    0    0    0    0    0    0    0    0    0    0    0    0\n",
      "    0    0    0    0    0    0    0    0    0    0    0    0    0    0\n",
      "    0    0    0    0    0    0    0    0    0    0    0    0    0    0\n",
      "    0    0    0    0    0    0    0    0    0    0    0    0    0    0\n",
      "    0    0    0    0    0    0    0    0    0    0    0    0    0    0\n",
      "    0    0    0    0    0    0    0    0    0    0    0    0    0    0\n",
      "    0    0    0    0    0    0    0    0    0    0    0    0    0    0\n",
      "    0    0    0    0    0    0    0    0    0    0    0    0    0    0\n",
      "    0    0    0    0    0    0    0    0    0    0    0    0    0    0\n",
      "    0    0    0    0    0    0    0    0    0    0    0    0    0    0\n",
      "    0    0    0    0    0    0    0    0    0    0    0    0    0    0\n",
      "    0    0    0    0    0    0    0    0    0    0]\n",
      "77\n"
     ]
    }
   ],
   "source": [
    "# Use this cell to examine one of the processed reviews to make sure everything is working as intended.\n",
    "print(train_X[55])\n",
    "print(train_X_len[55])"
   ]
  },
  {
   "cell_type": "markdown",
   "metadata": {},
   "source": [
    "**Question:** In the cells above we use the `preprocess_data` and `convert_and_pad_data` methods to process both the training and testing set. Why or why not might this be a problem?"
   ]
  },
  {
   "cell_type": "markdown",
   "metadata": {},
   "source": [
    "**Answer:**\n",
    "Preprocessing data to remove any HTML tags or punctuations is good for the simplicity of the data representation for training/testing purposes but might pose a problem if we wanted to deduce accurate sentiments such as if the reviewer writes `Bad? Not at all.` - it is a positive review but the wordings used are negative which our network might not be able to infer.\n",
    "\n",
    "Also, converting the sentences to integres using `word_dict` helps training/testing but a short sentence might induce a lot of zeros (due to constant `padding=500`), hence, slow learning due to zero gradient problem."
   ]
  },
  {
   "cell_type": "markdown",
   "metadata": {},
   "source": [
    "## Step 3: Upload the data to S3\n",
    "\n",
    "As in the XGBoost notebook, we will need to upload the training dataset to S3 in order for our training code to access it. For now we will save it locally and we will upload to S3 later on.\n",
    "\n",
    "### Save the processed training dataset locally\n",
    "\n",
    "It is important to note the format of the data that we are saving as we will need to know it when we write the training code. In our case, each row of the dataset has the form `label`, `length`, `review[500]` where `review[500]` is a sequence of `500` integers representing the words in the review."
   ]
  },
  {
   "cell_type": "code",
   "execution_count": 19,
   "metadata": {},
   "outputs": [],
   "source": [
    "import pandas as pd\n",
    "    \n",
    "pd.concat([pd.DataFrame(train_y), pd.DataFrame(train_X_len), pd.DataFrame(train_X)], axis=1) \\\n",
    "        .to_csv(os.path.join(data_dir, 'train.csv'), header=False, index=False)"
   ]
  },
  {
   "cell_type": "markdown",
   "metadata": {},
   "source": [
    "### Uploading the training data\n",
    "\n",
    "\n",
    "Next, we need to upload the training data to the SageMaker default S3 bucket so that we can provide access to it while training our model."
   ]
  },
  {
   "cell_type": "code",
   "execution_count": 20,
   "metadata": {},
   "outputs": [],
   "source": [
    "import sagemaker\n",
    "\n",
    "sagemaker_session = sagemaker.Session()\n",
    "\n",
    "bucket = sagemaker_session.default_bucket()\n",
    "prefix = 'sagemaker/sentiment_rnn'\n",
    "\n",
    "role = sagemaker.get_execution_role()"
   ]
  },
  {
   "cell_type": "code",
   "execution_count": 21,
   "metadata": {},
   "outputs": [],
   "source": [
    "input_data = sagemaker_session.upload_data(path=data_dir, bucket=bucket, key_prefix=prefix)"
   ]
  },
  {
   "cell_type": "markdown",
   "metadata": {},
   "source": [
    "**NOTE:** The cell above uploads the entire contents of our data directory. This includes the `word_dict.pkl` file. This is fortunate as we will need this later on when we create an endpoint that accepts an arbitrary review. For now, we will just take note of the fact that it resides in the data directory (and so also in the S3 training bucket) and that we will need to make sure it gets saved in the model directory."
   ]
  },
  {
   "cell_type": "markdown",
   "metadata": {},
   "source": [
    "## Step 4: Build and Train the PyTorch Model\n",
    "\n",
    "In the XGBoost notebook we discussed what a model is in the SageMaker framework. In particular, a model comprises three objects\n",
    "\n",
    " - Model Artifacts,\n",
    " - Training Code, and\n",
    " - Inference Code,\n",
    " \n",
    "each of which interact with one another. In the XGBoost example we used training and inference code that was provided by Amazon. Here we will still be using containers provided by Amazon with the added benefit of being able to include our own custom code.\n",
    "\n",
    "We will start by implementing our own neural network in PyTorch along with a training script. For the purposes of this project we have provided the necessary model object in the `model.py` file, inside of the `train` folder. You can see the provided implementation by running the cell below."
   ]
  },
  {
   "cell_type": "code",
   "execution_count": 22,
   "metadata": {},
   "outputs": [
    {
     "name": "stdout",
     "output_type": "stream",
     "text": [
      "\u001b[34mimport\u001b[39;49;00m \u001b[04m\u001b[36mtorch.nn\u001b[39;49;00m \u001b[34mas\u001b[39;49;00m \u001b[04m\u001b[36mnn\u001b[39;49;00m\r\n",
      "\r\n",
      "\u001b[34mclass\u001b[39;49;00m \u001b[04m\u001b[32mLSTMClassifier\u001b[39;49;00m(nn.Module):\r\n",
      "    \u001b[33m\"\"\"\u001b[39;49;00m\r\n",
      "\u001b[33m    This is the simple RNN model we will be using to perform Sentiment Analysis.\u001b[39;49;00m\r\n",
      "\u001b[33m    \"\"\"\u001b[39;49;00m\r\n",
      "\r\n",
      "    \u001b[34mdef\u001b[39;49;00m \u001b[32m__init__\u001b[39;49;00m(\u001b[36mself\u001b[39;49;00m, embedding_dim, hidden_dim, vocab_size):\r\n",
      "        \u001b[33m\"\"\"\u001b[39;49;00m\r\n",
      "\u001b[33m        Initialize the model by settingg up the various layers.\u001b[39;49;00m\r\n",
      "\u001b[33m        \"\"\"\u001b[39;49;00m\r\n",
      "        \u001b[36msuper\u001b[39;49;00m(LSTMClassifier, \u001b[36mself\u001b[39;49;00m).\u001b[32m__init__\u001b[39;49;00m()\r\n",
      "\r\n",
      "        \u001b[36mself\u001b[39;49;00m.embedding = nn.Embedding(vocab_size, embedding_dim, padding_idx=\u001b[34m0\u001b[39;49;00m)\r\n",
      "        \u001b[36mself\u001b[39;49;00m.lstm = nn.LSTM(embedding_dim, hidden_dim)\r\n",
      "        \u001b[36mself\u001b[39;49;00m.dense = nn.Linear(in_features=hidden_dim, out_features=\u001b[34m1\u001b[39;49;00m)\r\n",
      "        \u001b[36mself\u001b[39;49;00m.sig = nn.Sigmoid()\r\n",
      "        \r\n",
      "        \u001b[36mself\u001b[39;49;00m.word_dict = \u001b[36mNone\u001b[39;49;00m\r\n",
      "\r\n",
      "    \u001b[34mdef\u001b[39;49;00m \u001b[32mforward\u001b[39;49;00m(\u001b[36mself\u001b[39;49;00m, x):\r\n",
      "        \u001b[33m\"\"\"\u001b[39;49;00m\r\n",
      "\u001b[33m        Perform a forward pass of our model on some input.\u001b[39;49;00m\r\n",
      "\u001b[33m        \"\"\"\u001b[39;49;00m\r\n",
      "        x = x.t()\r\n",
      "        lengths = x[\u001b[34m0\u001b[39;49;00m,:]\r\n",
      "        reviews = x[\u001b[34m1\u001b[39;49;00m:,:]\r\n",
      "        embeds = \u001b[36mself\u001b[39;49;00m.embedding(reviews)\r\n",
      "        lstm_out, _ = \u001b[36mself\u001b[39;49;00m.lstm(embeds)\r\n",
      "        out = \u001b[36mself\u001b[39;49;00m.dense(lstm_out)\r\n",
      "        out = out[lengths - \u001b[34m1\u001b[39;49;00m, \u001b[36mrange\u001b[39;49;00m(\u001b[36mlen\u001b[39;49;00m(lengths))]\r\n",
      "        \u001b[34mreturn\u001b[39;49;00m \u001b[36mself\u001b[39;49;00m.sig(out.squeeze())\r\n"
     ]
    }
   ],
   "source": [
    "!pygmentize train/model.py"
   ]
  },
  {
   "cell_type": "markdown",
   "metadata": {},
   "source": [
    "The important takeaway from the implementation provided is that there are three parameters that we may wish to tweak to improve the performance of our model. These are the embedding dimension, the hidden dimension and the size of the vocabulary. We will likely want to make these parameters configurable in the training script so that if we wish to modify them we do not need to modify the script itself. We will see how to do this later on. To start we will write some of the training code in the notebook so that we can more easily diagnose any issues that arise.\n",
    "\n",
    "First we will load a small portion of the training data set to use as a sample. It would be very time consuming to try and train the model completely in the notebook as we do not have access to a gpu and the compute instance that we are using is not particularly powerful. However, we can work on a small bit of the data to get a feel for how our training script is behaving."
   ]
  },
  {
   "cell_type": "code",
   "execution_count": 23,
   "metadata": {},
   "outputs": [],
   "source": [
    "import torch\n",
    "import torch.utils.data\n",
    "\n",
    "# Read in only the first 250 rows\n",
    "train_sample = pd.read_csv(os.path.join(data_dir, 'train.csv'), header=None, names=None, nrows=250)\n",
    "\n",
    "# Turn the input pandas dataframe into tensors\n",
    "train_sample_y = torch.from_numpy(train_sample[[0]].values).float().squeeze()\n",
    "train_sample_X = torch.from_numpy(train_sample.drop([0], axis=1).values).long()\n",
    "\n",
    "# Build the dataset\n",
    "train_sample_ds = torch.utils.data.TensorDataset(train_sample_X, train_sample_y)\n",
    "# Build the dataloader\n",
    "train_sample_dl = torch.utils.data.DataLoader(train_sample_ds, batch_size=50)"
   ]
  },
  {
   "cell_type": "markdown",
   "metadata": {},
   "source": [
    "### (TODO) Writing the training method\n",
    "\n",
    "Next we need to write the training code itself. This should be very similar to training methods that you have written before to train PyTorch models. We will leave any difficult aspects such as model saving / loading and parameter loading until a little later."
   ]
  },
  {
   "cell_type": "code",
   "execution_count": 24,
   "metadata": {},
   "outputs": [],
   "source": [
    "def train(model, train_loader, epochs, optimizer, loss_fn, device):\n",
    "    for epoch in range(1, epochs + 1):\n",
    "        model.train()\n",
    "        total_loss = 0\n",
    "        for batch in train_loader:         \n",
    "            batch_X, batch_y = batch\n",
    "            \n",
    "            batch_X = batch_X.to(device)\n",
    "            batch_y = batch_y.to(device)\n",
    "            \n",
    "            # TODO: Complete this train method to train the model provided.\n",
    "            \n",
    "            # zero accumulated gradients\n",
    "            model.zero_grad()\n",
    "            \n",
    "            # get the output from the model\n",
    "            output = model(batch_X)\n",
    "            \n",
    "            \n",
    "            # calculate the loss\n",
    "            loss = loss_fn(output, batch_y)\n",
    "            \n",
    "            # zero gradients\n",
    "            optimizer.zero_grad()\n",
    "           \n",
    "            # perform backprop and update weights\n",
    "            loss.backward()\n",
    "            optimizer.step()         \n",
    "            \n",
    "            total_loss += loss.data.item()\n",
    "        print(\"Epoch: {}, BCELoss: {}\".format(epoch, total_loss / len(train_loader)))"
   ]
  },
  {
   "cell_type": "markdown",
   "metadata": {},
   "source": [
    "Supposing we have the training method above, we will test that it is working by writing a bit of code in the notebook that executes our training method on the small sample training set that we loaded earlier. The reason for doing this in the notebook is so that we have an opportunity to fix any errors that arise early when they are easier to diagnose."
   ]
  },
  {
   "cell_type": "code",
   "execution_count": 25,
   "metadata": {},
   "outputs": [
    {
     "name": "stdout",
     "output_type": "stream",
     "text": [
      "Epoch: 1, BCELoss: 0.6937438368797302\n",
      "Epoch: 2, BCELoss: 0.6858460307121277\n",
      "Epoch: 3, BCELoss: 0.6791215777397156\n",
      "Epoch: 4, BCELoss: 0.6716423153877258\n",
      "Epoch: 5, BCELoss: 0.6624814510345459\n"
     ]
    }
   ],
   "source": [
    "import torch.optim as optim\n",
    "from train.model import LSTMClassifier\n",
    "\n",
    "device = torch.device(\"cuda\" if torch.cuda.is_available() else \"cpu\")\n",
    "model = LSTMClassifier(32, 100, 5000).to(device)\n",
    "optimizer = optim.Adam(model.parameters())\n",
    "loss_fn = torch.nn.BCELoss()\n",
    "\n",
    "train(model, train_sample_dl, 5, optimizer, loss_fn, device)"
   ]
  },
  {
   "cell_type": "markdown",
   "metadata": {},
   "source": [
    "In order to construct a PyTorch model using SageMaker we must provide SageMaker with a training script. We may optionally include a directory which will be copied to the container and from which our training code will be run. When the training container is executed it will check the uploaded directory (if there is one) for a `requirements.txt` file and install any required Python libraries, after which the training script will be run."
   ]
  },
  {
   "cell_type": "markdown",
   "metadata": {},
   "source": [
    "### (TODO) Training the model\n",
    "\n",
    "When a PyTorch model is constructed in SageMaker, an entry point must be specified. This is the Python file which will be executed when the model is trained. Inside of the `train` directory is a file called `train.py` which has been provided and which contains most of the necessary code to train our model. The only thing that is missing is the implementation of the `train()` method which you wrote earlier in this notebook.\n",
    "\n",
    "**TODO**: Copy the `train()` method written above and paste it into the `train/train.py` file where required.\n",
    "\n",
    "The way that SageMaker passes hyperparameters to the training script is by way of arguments. These arguments can then be parsed and used in the training script. To see how this is done take a look at the provided `train/train.py` file."
   ]
  },
  {
   "cell_type": "code",
   "execution_count": 27,
   "metadata": {},
   "outputs": [],
   "source": [
    "from sagemaker.pytorch import PyTorch\n",
    "\n",
    "estimator = PyTorch(entry_point=\"train.py\",\n",
    "                    source_dir=\"train\",\n",
    "                    role=role,\n",
    "                    framework_version='0.4.0',\n",
    "                    train_instance_count=1,\n",
    "                    train_instance_type='ml.p2.xlarge',\n",
    "                    hyperparameters={\n",
    "                        'epochs': 50,\n",
    "                        'hidden_dim': 200,\n",
    "                    })"
   ]
  },
  {
   "cell_type": "code",
   "execution_count": 28,
   "metadata": {},
   "outputs": [
    {
     "name": "stdout",
     "output_type": "stream",
     "text": [
      "2019-06-03 03:57:11 Starting - Starting the training job...\n",
      "2019-06-03 03:57:13 Starting - Launching requested ML instances......\n",
      "2019-06-03 03:58:13 Starting - Preparing the instances for training......\n",
      "2019-06-03 03:59:37 Downloading - Downloading input data......\n",
      "2019-06-03 04:00:40 Training - Training image download completed. Training in progress..\n",
      "\u001b[31mbash: cannot set terminal process group (-1): Inappropriate ioctl for device\u001b[0m\n",
      "\u001b[31mbash: no job control in this shell\u001b[0m\n",
      "\u001b[31m2019-06-03 04:00:41,266 sagemaker-containers INFO     Imported framework sagemaker_pytorch_container.training\u001b[0m\n",
      "\u001b[31m2019-06-03 04:00:41,289 sagemaker_pytorch_container.training INFO     Block until all host DNS lookups succeed.\u001b[0m\n",
      "\u001b[31m2019-06-03 04:00:44,297 sagemaker_pytorch_container.training INFO     Invoking user training script.\u001b[0m\n",
      "\u001b[31m2019-06-03 04:00:44,513 sagemaker-containers INFO     Module train does not provide a setup.py. \u001b[0m\n",
      "\u001b[31mGenerating setup.py\u001b[0m\n",
      "\u001b[31m2019-06-03 04:00:44,513 sagemaker-containers INFO     Generating setup.cfg\u001b[0m\n",
      "\u001b[31m2019-06-03 04:00:44,513 sagemaker-containers INFO     Generating MANIFEST.in\u001b[0m\n",
      "\u001b[31m2019-06-03 04:00:44,514 sagemaker-containers INFO     Installing module with the following command:\u001b[0m\n",
      "\u001b[31m/usr/bin/python -m pip install -U . -r requirements.txt\u001b[0m\n",
      "\u001b[31mProcessing /opt/ml/code\u001b[0m\n",
      "\u001b[31mCollecting pandas (from -r requirements.txt (line 1))\n",
      "  Downloading https://files.pythonhosted.org/packages/74/24/0cdbf8907e1e3bc5a8da03345c23cbed7044330bb8f73bb12e711a640a00/pandas-0.24.2-cp35-cp35m-manylinux1_x86_64.whl (10.0MB)\u001b[0m\n",
      "\u001b[31mCollecting numpy (from -r requirements.txt (line 2))\u001b[0m\n",
      "\u001b[31m  Downloading https://files.pythonhosted.org/packages/bb/ef/d5a21cbc094d3f4d5b5336494dbcc9550b70c766a8345513c7c24ed18418/numpy-1.16.4-cp35-cp35m-manylinux1_x86_64.whl (17.2MB)\u001b[0m\n",
      "\u001b[31mCollecting nltk (from -r requirements.txt (line 3))\n",
      "  Downloading https://files.pythonhosted.org/packages/73/56/90178929712ce427ebad179f8dc46c8deef4e89d4c853092bee1efd57d05/nltk-3.4.1.zip (3.1MB)\u001b[0m\n",
      "\u001b[31mCollecting beautifulsoup4 (from -r requirements.txt (line 4))\n",
      "  Downloading https://files.pythonhosted.org/packages/1d/5d/3260694a59df0ec52f8b4883f5d23b130bc237602a1411fa670eae12351e/beautifulsoup4-4.7.1-py3-none-any.whl (94kB)\u001b[0m\n",
      "\u001b[31mCollecting html5lib (from -r requirements.txt (line 5))\n",
      "  Downloading https://files.pythonhosted.org/packages/a5/62/bbd2be0e7943ec8504b517e62bab011b4946e1258842bc159e5dfde15b96/html5lib-1.0.1-py2.py3-none-any.whl (117kB)\u001b[0m\n",
      "\u001b[31mCollecting pytz>=2011k (from pandas->-r requirements.txt (line 1))\n",
      "  Downloading https://files.pythonhosted.org/packages/3d/73/fe30c2daaaa0713420d0382b16fbb761409f532c56bdcc514bf7b6262bb6/pytz-2019.1-py2.py3-none-any.whl (510kB)\u001b[0m\n",
      "\u001b[31mRequirement already satisfied, skipping upgrade: python-dateutil>=2.5.0 in /usr/local/lib/python3.5/dist-packages (from pandas->-r requirements.txt (line 1)) (2.7.5)\u001b[0m\n",
      "\u001b[31mRequirement already satisfied, skipping upgrade: six in /usr/local/lib/python3.5/dist-packages (from nltk->-r requirements.txt (line 3)) (1.11.0)\u001b[0m\n",
      "\u001b[31mCollecting soupsieve>=1.2 (from beautifulsoup4->-r requirements.txt (line 4))\n",
      "  Downloading https://files.pythonhosted.org/packages/b9/a5/7ea40d0f8676bde6e464a6435a48bc5db09b1a8f4f06d41dd997b8f3c616/soupsieve-1.9.1-py2.py3-none-any.whl\u001b[0m\n",
      "\u001b[31mCollecting webencodings (from html5lib->-r requirements.txt (line 5))\n",
      "  Downloading https://files.pythonhosted.org/packages/f4/24/2a3e3df732393fed8b3ebf2ec078f05546de641fe1b667ee316ec1dcf3b7/webencodings-0.5.1-py2.py3-none-any.whl\u001b[0m\n",
      "\u001b[31mBuilding wheels for collected packages: nltk, train\n",
      "  Running setup.py bdist_wheel for nltk: started\u001b[0m\n",
      "\u001b[31m  Running setup.py bdist_wheel for nltk: finished with status 'done'\n",
      "  Stored in directory: /root/.cache/pip/wheels/97/8a/10/d646015f33c525688e91986c4544c68019b19a473cb33d3b55\u001b[0m\n",
      "\u001b[31m  Running setup.py bdist_wheel for train: started\n",
      "  Running setup.py bdist_wheel for train: finished with status 'done'\n",
      "  Stored in directory: /tmp/pip-ephem-wheel-cache-q_4rc39v/wheels/35/24/16/37574d11bf9bde50616c67372a334f94fa8356bc7164af8ca3\u001b[0m\n",
      "\u001b[31mSuccessfully built nltk train\u001b[0m\n",
      "\u001b[31mInstalling collected packages: pytz, numpy, pandas, nltk, soupsieve, beautifulsoup4, webencodings, html5lib, train\n",
      "  Found existing installation: numpy 1.15.4\n",
      "    Uninstalling numpy-1.15.4:\u001b[0m\n",
      "\u001b[31m      Successfully uninstalled numpy-1.15.4\u001b[0m\n",
      "\u001b[31mSuccessfully installed beautifulsoup4-4.7.1 html5lib-1.0.1 nltk-3.4.1 numpy-1.16.4 pandas-0.24.2 pytz-2019.1 soupsieve-1.9.1 train-1.0.0 webencodings-0.5.1\u001b[0m\n",
      "\u001b[31mYou are using pip version 18.1, however version 19.1.1 is available.\u001b[0m\n",
      "\u001b[31mYou should consider upgrading via the 'pip install --upgrade pip' command.\u001b[0m\n",
      "\u001b[31m2019-06-03 04:00:56,157 sagemaker-containers INFO     Invoking user script\n",
      "\u001b[0m\n",
      "\u001b[31mTraining Env:\n",
      "\u001b[0m\n",
      "\u001b[31m{\n",
      "    \"input_dir\": \"/opt/ml/input\",\n",
      "    \"module_dir\": \"s3://sagemaker-us-east-2-207178436781/sagemaker-pytorch-2019-06-03-03-57-10-678/source/sourcedir.tar.gz\",\n",
      "    \"channel_input_dirs\": {\n",
      "        \"training\": \"/opt/ml/input/data/training\"\n",
      "    },\n",
      "    \"additional_framework_parameters\": {},\n",
      "    \"input_data_config\": {\n",
      "        \"training\": {\n",
      "            \"TrainingInputMode\": \"File\",\n",
      "            \"RecordWrapperType\": \"None\",\n",
      "            \"S3DistributionType\": \"FullyReplicated\"\n",
      "        }\n",
      "    },\n",
      "    \"job_name\": \"sagemaker-pytorch-2019-06-03-03-57-10-678\",\n",
      "    \"log_level\": 20,\n",
      "    \"output_intermediate_dir\": \"/opt/ml/output/intermediate\",\n",
      "    \"resource_config\": {\n",
      "        \"hosts\": [\n",
      "            \"algo-1\"\n",
      "        ],\n",
      "        \"network_interface_name\": \"ethwe\",\n",
      "        \"current_host\": \"algo-1\"\n",
      "    },\n",
      "    \"output_data_dir\": \"/opt/ml/output/data\",\n",
      "    \"hyperparameters\": {\n",
      "        \"epochs\": 50,\n",
      "        \"hidden_dim\": 200\n",
      "    },\n",
      "    \"current_host\": \"algo-1\",\n",
      "    \"output_dir\": \"/opt/ml/output\",\n",
      "    \"input_config_dir\": \"/opt/ml/input/config\",\n",
      "    \"num_cpus\": 4,\n",
      "    \"hosts\": [\n",
      "        \"algo-1\"\n",
      "    ],\n",
      "    \"model_dir\": \"/opt/ml/model\",\n",
      "    \"module_name\": \"train\",\n",
      "    \"num_gpus\": 1,\n",
      "    \"framework_module\": \"sagemaker_pytorch_container.training:main\",\n",
      "    \"network_interface_name\": \"ethwe\",\n",
      "    \"user_entry_point\": \"train.py\"\u001b[0m\n",
      "\u001b[31m}\n",
      "\u001b[0m\n",
      "\u001b[31mEnvironment variables:\n",
      "\u001b[0m\n",
      "\u001b[31mSM_CHANNEL_TRAINING=/opt/ml/input/data/training\u001b[0m\n",
      "\u001b[31mSM_OUTPUT_DATA_DIR=/opt/ml/output/data\u001b[0m\n",
      "\u001b[31mSM_NUM_CPUS=4\u001b[0m\n",
      "\u001b[31mSM_NETWORK_INTERFACE_NAME=ethwe\u001b[0m\n",
      "\u001b[31mSM_NUM_GPUS=1\u001b[0m\n",
      "\u001b[31mSM_INPUT_DIR=/opt/ml/input\u001b[0m\n",
      "\u001b[31mPYTHONPATH=/usr/local/bin:/usr/lib/python35.zip:/usr/lib/python3.5:/usr/lib/python3.5/plat-x86_64-linux-gnu:/usr/lib/python3.5/lib-dynload:/usr/local/lib/python3.5/dist-packages:/usr/lib/python3/dist-packages\u001b[0m\n",
      "\u001b[31mSM_FRAMEWORK_MODULE=sagemaker_pytorch_container.training:main\u001b[0m\n",
      "\u001b[31mSM_USER_ARGS=[\"--epochs\",\"50\",\"--hidden_dim\",\"200\"]\u001b[0m\n",
      "\u001b[31mSM_CHANNELS=[\"training\"]\u001b[0m\n",
      "\u001b[31mSM_CURRENT_HOST=algo-1\u001b[0m\n",
      "\u001b[31mSM_INPUT_DATA_CONFIG={\"training\":{\"RecordWrapperType\":\"None\",\"S3DistributionType\":\"FullyReplicated\",\"TrainingInputMode\":\"File\"}}\u001b[0m\n",
      "\u001b[31mSM_HP_EPOCHS=50\u001b[0m\n",
      "\u001b[31mSM_OUTPUT_INTERMEDIATE_DIR=/opt/ml/output/intermediate\u001b[0m\n",
      "\u001b[31mSM_RESOURCE_CONFIG={\"current_host\":\"algo-1\",\"hosts\":[\"algo-1\"],\"network_interface_name\":\"ethwe\"}\u001b[0m\n",
      "\u001b[31mSM_HPS={\"epochs\":50,\"hidden_dim\":200}\u001b[0m\n",
      "\u001b[31mSM_MODULE_DIR=s3://sagemaker-us-east-2-207178436781/sagemaker-pytorch-2019-06-03-03-57-10-678/source/sourcedir.tar.gz\u001b[0m\n",
      "\u001b[31mSM_HOSTS=[\"algo-1\"]\u001b[0m\n",
      "\u001b[31mSM_TRAINING_ENV={\"additional_framework_parameters\":{},\"channel_input_dirs\":{\"training\":\"/opt/ml/input/data/training\"},\"current_host\":\"algo-1\",\"framework_module\":\"sagemaker_pytorch_container.training:main\",\"hosts\":[\"algo-1\"],\"hyperparameters\":{\"epochs\":50,\"hidden_dim\":200},\"input_config_dir\":\"/opt/ml/input/config\",\"input_data_config\":{\"training\":{\"RecordWrapperType\":\"None\",\"S3DistributionType\":\"FullyReplicated\",\"TrainingInputMode\":\"File\"}},\"input_dir\":\"/opt/ml/input\",\"job_name\":\"sagemaker-pytorch-2019-06-03-03-57-10-678\",\"log_level\":20,\"model_dir\":\"/opt/ml/model\",\"module_dir\":\"s3://sagemaker-us-east-2-207178436781/sagemaker-pytorch-2019-06-03-03-57-10-678/source/sourcedir.tar.gz\",\"module_name\":\"train\",\"network_interface_name\":\"ethwe\",\"num_cpus\":4,\"num_gpus\":1,\"output_data_dir\":\"/opt/ml/output/data\",\"output_dir\":\"/opt/ml/output\",\"output_intermediate_dir\":\"/opt/ml/output/intermediate\",\"resource_config\":{\"current_host\":\"algo-1\",\"hosts\":[\"algo-1\"],\"network_interface_name\":\"ethwe\"},\"user_entry_point\":\"train.py\"}\u001b[0m\n",
      "\u001b[31mSM_USER_ENTRY_POINT=train.py\u001b[0m\n",
      "\u001b[31mSM_HP_HIDDEN_DIM=200\u001b[0m\n",
      "\u001b[31mSM_MODULE_NAME=train\u001b[0m\n",
      "\u001b[31mSM_FRAMEWORK_PARAMS={}\u001b[0m\n",
      "\u001b[31mSM_MODEL_DIR=/opt/ml/model\u001b[0m\n",
      "\u001b[31mSM_LOG_LEVEL=20\u001b[0m\n",
      "\u001b[31mSM_OUTPUT_DIR=/opt/ml/output\u001b[0m\n",
      "\u001b[31mSM_INPUT_CONFIG_DIR=/opt/ml/input/config\n",
      "\u001b[0m\n",
      "\u001b[31mInvoking script with the following command:\n",
      "\u001b[0m\n",
      "\u001b[31m/usr/bin/python -m train --epochs 50 --hidden_dim 200\n",
      "\n",
      "\u001b[0m\n",
      "\u001b[31mUsing device cuda.\u001b[0m\n",
      "\u001b[31mGet train data loader.\u001b[0m\n"
     ]
    },
    {
     "name": "stdout",
     "output_type": "stream",
     "text": [
      "\u001b[31mModel loaded with embedding_dim 32, hidden_dim 200, vocab_size 5000.\u001b[0m\n",
      "\u001b[31mEpoch: 1, BCELoss: 0.6692716406316174\u001b[0m\n",
      "\u001b[31mEpoch: 2, BCELoss: 0.5885879592019685\u001b[0m\n",
      "\u001b[31mEpoch: 3, BCELoss: 0.5049050967304074\u001b[0m\n",
      "\u001b[31mEpoch: 4, BCELoss: 0.427003660980536\u001b[0m\n",
      "\u001b[31mEpoch: 5, BCELoss: 0.38458692966675273\u001b[0m\n",
      "\u001b[31mEpoch: 6, BCELoss: 0.3452346349249081\u001b[0m\n",
      "\u001b[31mEpoch: 7, BCELoss: 0.32070683703130604\u001b[0m\n",
      "\u001b[31mEpoch: 8, BCELoss: 0.2985800529012875\u001b[0m\n",
      "\u001b[31mEpoch: 9, BCELoss: 0.3186277576855251\u001b[0m\n",
      "\u001b[31mEpoch: 10, BCELoss: 0.2856541580083419\u001b[0m\n",
      "\u001b[31mEpoch: 11, BCELoss: 0.2618279657801803\u001b[0m\n",
      "\u001b[31mEpoch: 12, BCELoss: 0.2490101268096846\u001b[0m\n",
      "\u001b[31mEpoch: 13, BCELoss: 0.2799270393288865\u001b[0m\n",
      "\u001b[31mEpoch: 14, BCELoss: 0.407645266579122\u001b[0m\n",
      "\u001b[31mEpoch: 15, BCELoss: 0.2608489673964831\u001b[0m\n",
      "\u001b[31mEpoch: 16, BCELoss: 0.23298433909610827\u001b[0m\n",
      "\u001b[31mEpoch: 17, BCELoss: 0.2210633739524958\u001b[0m\n",
      "\u001b[31mEpoch: 18, BCELoss: 0.22185994654285665\u001b[0m\n",
      "\u001b[31mEpoch: 19, BCELoss: 0.21805580081988354\u001b[0m\n",
      "\u001b[31mEpoch: 20, BCELoss: 0.20224206849020354\u001b[0m\n",
      "\u001b[31mEpoch: 21, BCELoss: 0.22092346238846683\u001b[0m\n",
      "\u001b[31mEpoch: 22, BCELoss: 0.19073301219210334\u001b[0m\n",
      "\u001b[31mEpoch: 23, BCELoss: 0.17429137959772226\u001b[0m\n",
      "\u001b[31mEpoch: 24, BCELoss: 0.15788051242731055\u001b[0m\n",
      "\u001b[31mEpoch: 25, BCELoss: 0.14180278914923572\u001b[0m\n",
      "\u001b[31mEpoch: 26, BCELoss: 0.13069235518270608\u001b[0m\n",
      "\u001b[31mEpoch: 27, BCELoss: 0.12683630795503148\u001b[0m\n",
      "\u001b[31mEpoch: 28, BCELoss: 0.11925596637385232\u001b[0m\n",
      "\u001b[31mEpoch: 29, BCELoss: 0.11072959203501137\u001b[0m\n",
      "\u001b[31mEpoch: 30, BCELoss: 0.1212872114716744\u001b[0m\n",
      "\u001b[31mEpoch: 31, BCELoss: 0.12230812210817726\u001b[0m\n",
      "\u001b[31mEpoch: 32, BCELoss: 0.1473046340504471\u001b[0m\n",
      "\u001b[31mEpoch: 33, BCELoss: 0.11235189635534676\u001b[0m\n",
      "\u001b[31mEpoch: 34, BCELoss: 0.12028910280490408\u001b[0m\n",
      "\u001b[31mEpoch: 35, BCELoss: 0.13885045028766807\u001b[0m\n",
      "\u001b[31mEpoch: 36, BCELoss: 0.15808386446870104\u001b[0m\n",
      "\u001b[31mEpoch: 37, BCELoss: 0.1234272719950092\u001b[0m\n",
      "\u001b[31mEpoch: 38, BCELoss: 0.07883499471508727\u001b[0m\n",
      "\u001b[31mEpoch: 39, BCELoss: 0.05588224560630565\u001b[0m\n",
      "\u001b[31mEpoch: 40, BCELoss: 0.05197007102625711\u001b[0m\n",
      "\u001b[31mEpoch: 41, BCELoss: 0.0487671862071266\u001b[0m\n",
      "\u001b[31mEpoch: 42, BCELoss: 0.041215407148915896\u001b[0m\n",
      "\u001b[31mEpoch: 43, BCELoss: 0.035770091095141\u001b[0m\n",
      "\u001b[31mEpoch: 44, BCELoss: 0.028624763921359365\u001b[0m\n",
      "\u001b[31mEpoch: 45, BCELoss: 0.026476783639922435\u001b[0m\n",
      "\u001b[31mEpoch: 46, BCELoss: 0.028437829500406374\u001b[0m\n",
      "\u001b[31mEpoch: 47, BCELoss: 0.027379066626332244\u001b[0m\n",
      "\u001b[31mEpoch: 48, BCELoss: 0.03440280473429938\u001b[0m\n",
      "\u001b[31mEpoch: 49, BCELoss: 0.05378627721980518\u001b[0m\n",
      "\u001b[31mEpoch: 50, BCELoss: 0.05454207787632334\u001b[0m\n",
      "\u001b[31m2019-06-03 04:15:15,200 sagemaker-containers INFO     Reporting training SUCCESS\u001b[0m\n",
      "\n",
      "2019-06-03 04:15:48 Uploading - Uploading generated training model\n",
      "2019-06-03 04:15:53 Completed - Training job completed\n",
      "Billable seconds: 977\n"
     ]
    }
   ],
   "source": [
    "estimator.fit({'training': input_data})"
   ]
  },
  {
   "cell_type": "markdown",
   "metadata": {},
   "source": [
    "## Step 5: Testing the model\n",
    "\n",
    "As mentioned at the top of this notebook, we will be testing this model by first deploying it and then sending the testing data to the deployed endpoint. We will do this so that we can make sure that the deployed model is working correctly.\n",
    "\n",
    "## Step 6: Deploy the model for testing\n",
    "\n",
    "Now that we have trained our model, we would like to test it to see how it performs. Currently our model takes input of the form `review_length, review[500]` where `review[500]` is a sequence of `500` integers which describe the words present in the review, encoded using `word_dict`. Fortunately for us, SageMaker provides built-in inference code for models with simple inputs such as this.\n",
    "\n",
    "There is one thing that we need to provide, however, and that is a function which loads the saved model. This function must be called `model_fn()` and takes as its only parameter a path to the directory where the model artifacts are stored. This function must also be present in the python file which we specified as the entry point. In our case the model loading function has been provided and so no changes need to be made.\n",
    "\n",
    "**NOTE**: When the built-in inference code is run it must import the `model_fn()` method from the `train.py` file. This is why the training code is wrapped in a main guard ( ie, `if __name__ == '__main__':` )\n",
    "\n",
    "Since we don't need to change anything in the code that was uploaded during training, we can simply deploy the current model as-is.\n",
    "\n",
    "**NOTE:** When deploying a model you are asking SageMaker to launch an compute instance that will wait for data to be sent to it. As a result, this compute instance will continue to run until *you* shut it down. This is important to know since the cost of a deployed endpoint depends on how long it has been running for.\n",
    "\n",
    "In other words **If you are no longer using a deployed endpoint, shut it down!**\n",
    "\n",
    "**TODO:** Deploy the trained model."
   ]
  },
  {
   "cell_type": "code",
   "execution_count": 29,
   "metadata": {},
   "outputs": [
    {
     "name": "stdout",
     "output_type": "stream",
     "text": [
      "---------------------------------------------------------------------------!"
     ]
    }
   ],
   "source": [
    "# TODO: Deploy the trained model\n",
    "predictor = estimator.deploy(initial_instance_count=1,\n",
    "                             instance_type='ml.m4.xlarge')"
   ]
  },
  {
   "cell_type": "markdown",
   "metadata": {},
   "source": [
    "## Step 7 - Use the model for testing\n",
    "\n",
    "Once deployed, we can read in the test data and send it off to our deployed model to get some results. Once we collect all of the results we can determine how accurate our model is."
   ]
  },
  {
   "cell_type": "code",
   "execution_count": 30,
   "metadata": {},
   "outputs": [],
   "source": [
    "test_X = pd.concat([pd.DataFrame(test_X_len), pd.DataFrame(test_X)], axis=1)"
   ]
  },
  {
   "cell_type": "code",
   "execution_count": 31,
   "metadata": {},
   "outputs": [],
   "source": [
    "# We split the data into chunks and send each chunk seperately, accumulating the results.\n",
    "\n",
    "def predict(data, rows=512):\n",
    "    split_array = np.array_split(data, int(data.shape[0] / float(rows) + 1))\n",
    "    predictions = np.array([])\n",
    "    for array in split_array:\n",
    "        predictions = np.append(predictions, predictor.predict(array))\n",
    "    \n",
    "    return predictions"
   ]
  },
  {
   "cell_type": "code",
   "execution_count": 32,
   "metadata": {},
   "outputs": [],
   "source": [
    "predictions = predict(test_X.values)\n",
    "predictions = [round(num) for num in predictions]"
   ]
  },
  {
   "cell_type": "code",
   "execution_count": 33,
   "metadata": {},
   "outputs": [
    {
     "data": {
      "text/plain": [
       "0.84488"
      ]
     },
     "execution_count": 33,
     "metadata": {},
     "output_type": "execute_result"
    }
   ],
   "source": [
    "from sklearn.metrics import accuracy_score\n",
    "accuracy_score(test_y, predictions)"
   ]
  },
  {
   "cell_type": "markdown",
   "metadata": {},
   "source": [
    "**Question:** How does this model compare to the XGBoost model you created earlier? Why might these two models perform differently on this dataset? Which do *you* think is better for sentiment analysis?"
   ]
  },
  {
   "cell_type": "markdown",
   "metadata": {},
   "source": [
    "**Answer:** This model uses LSTM rather than ensemble of models to predict. These models shall perform differently because one uses layers of LSTM cells to predict whereas XGBoost may use several different models for inference on a single review. For sentiment analysis, I think LSTM is better for sentiment analysis and XGBoost for categorical classification."
   ]
  },
  {
   "cell_type": "markdown",
   "metadata": {},
   "source": [
    "### (TODO) More testing\n",
    "\n",
    "We now have a trained model which has been deployed and which we can send processed reviews to and which returns the predicted sentiment. However, ultimately we would like to be able to send our model an unprocessed review. That is, we would like to send the review itself as a string. For example, suppose we wish to send the following review to our model."
   ]
  },
  {
   "cell_type": "code",
   "execution_count": 34,
   "metadata": {},
   "outputs": [],
   "source": [
    "test_review = 'The simplest pleasures in life are the best, and this film is one of them. Combining a rather basic storyline of love and adventure this movie transcends the usual weekend fair with wit and unmitigated charm.'"
   ]
  },
  {
   "cell_type": "markdown",
   "metadata": {},
   "source": [
    "The question we now need to answer is, how do we send this review to our model?\n",
    "\n",
    "Recall in the first section of this notebook we did a bunch of data processing to the IMDb dataset. In particular, we did two specific things to the provided reviews.\n",
    " - Removed any html tags and stemmed the input\n",
    " - Encoded the review as a sequence of integers using `word_dict`\n",
    " \n",
    "In order process the review we will need to repeat these two steps.\n",
    "\n",
    "**TODO**: Using the `review_to_words` and `convert_and_pad` methods from section one, convert `test_review` into a numpy array `test_data` suitable to send to our model. Remember that our model expects input of the form `review_length, review[500]`."
   ]
  },
  {
   "cell_type": "code",
   "execution_count": 35,
   "metadata": {},
   "outputs": [
    {
     "data": {
      "text/plain": [
       "((1, 501), array([  20,    1, 1376,   50,   53]))"
      ]
     },
     "execution_count": 35,
     "metadata": {},
     "output_type": "execute_result"
    }
   ],
   "source": [
    "# TODO: Convert test_review into a form usable by the model and save the results in test_data\n",
    "test_review_words = review_to_words(test_review)\n",
    "test_review_words, length = convert_and_pad(word_dict, test_review_words)\n",
    "test_data = np.array([[length] + test_review_words])\n",
    "test_data.shape, test_data[0, :5]"
   ]
  },
  {
   "cell_type": "markdown",
   "metadata": {},
   "source": [
    "Now that we have processed the review, we can send the resulting array to our model to predict the sentiment of the review."
   ]
  },
  {
   "cell_type": "code",
   "execution_count": 36,
   "metadata": {},
   "outputs": [
    {
     "data": {
      "text/plain": [
       "array(0.9987587, dtype=float32)"
      ]
     },
     "execution_count": 36,
     "metadata": {},
     "output_type": "execute_result"
    }
   ],
   "source": [
    "predictor.predict(test_data)"
   ]
  },
  {
   "cell_type": "markdown",
   "metadata": {},
   "source": [
    "Since the return value of our model is close to `1`, we can be certain that the review we submitted is positive."
   ]
  },
  {
   "cell_type": "markdown",
   "metadata": {},
   "source": [
    "### Delete the endpoint\n",
    "\n",
    "Of course, just like in the XGBoost notebook, once we've deployed an endpoint it continues to run until we tell it to shut down. Since we are done using our endpoint for now, we can delete it."
   ]
  },
  {
   "cell_type": "code",
   "execution_count": 37,
   "metadata": {},
   "outputs": [],
   "source": [
    "estimator.delete_endpoint()"
   ]
  },
  {
   "cell_type": "markdown",
   "metadata": {},
   "source": [
    "## Step 6 (again) - Deploy the model for the web app\n",
    "\n",
    "Now that we know that our model is working, it's time to create some custom inference code so that we can send the model a review which has not been processed and have it determine the sentiment of the review.\n",
    "\n",
    "As we saw above, by default the estimator which we created, when deployed, will use the entry script and directory which we provided when creating the model. However, since we now wish to accept a string as input and our model expects a processed review, we need to write some custom inference code.\n",
    "\n",
    "We will store the code that we write in the `serve` directory. Provided in this directory is the `model.py` file that we used to construct our model, a `utils.py` file which contains the `review_to_words` and `convert_and_pad` pre-processing functions which we used during the initial data processing, and `predict.py`, the file which will contain our custom inference code. Note also that `requirements.txt` is present which will tell SageMaker what Python libraries are required by our custom inference code.\n",
    "\n",
    "When deploying a PyTorch model in SageMaker, you are expected to provide four functions which the SageMaker inference container will use.\n",
    " - `model_fn`: This function is the same function that we used in the training script and it tells SageMaker how to load our model.\n",
    " - `input_fn`: This function receives the raw serialized input that has been sent to the model's endpoint and its job is to de-serialize and make the input available for the inference code.\n",
    " - `output_fn`: This function takes the output of the inference code and its job is to serialize this output and return it to the caller of the model's endpoint.\n",
    " - `predict_fn`: The heart of the inference script, this is where the actual prediction is done and is the function which you will need to complete.\n",
    "\n",
    "For the simple website that we are constructing during this project, the `input_fn` and `output_fn` methods are relatively straightforward. We only require being able to accept a string as input and we expect to return a single value as output. You might imagine though that in a more complex application the input or output may be image data or some other binary data which would require some effort to serialize.\n",
    "\n",
    "### (TODO) Writing inference code\n",
    "\n",
    "Before writing our custom inference code, we will begin by taking a look at the code which has been provided."
   ]
  },
  {
   "cell_type": "code",
   "execution_count": 38,
   "metadata": {},
   "outputs": [
    {
     "name": "stdout",
     "output_type": "stream",
     "text": [
      "\u001b[34mimport\u001b[39;49;00m \u001b[04m\u001b[36margparse\u001b[39;49;00m\r\n",
      "\u001b[34mimport\u001b[39;49;00m \u001b[04m\u001b[36mjson\u001b[39;49;00m\r\n",
      "\u001b[34mimport\u001b[39;49;00m \u001b[04m\u001b[36mos\u001b[39;49;00m\r\n",
      "\u001b[34mimport\u001b[39;49;00m \u001b[04m\u001b[36mpickle\u001b[39;49;00m\r\n",
      "\u001b[34mimport\u001b[39;49;00m \u001b[04m\u001b[36msys\u001b[39;49;00m\r\n",
      "\u001b[34mimport\u001b[39;49;00m \u001b[04m\u001b[36msagemaker_containers\u001b[39;49;00m\r\n",
      "\u001b[34mimport\u001b[39;49;00m \u001b[04m\u001b[36mpandas\u001b[39;49;00m \u001b[34mas\u001b[39;49;00m \u001b[04m\u001b[36mpd\u001b[39;49;00m\r\n",
      "\u001b[34mimport\u001b[39;49;00m \u001b[04m\u001b[36mnumpy\u001b[39;49;00m \u001b[34mas\u001b[39;49;00m \u001b[04m\u001b[36mnp\u001b[39;49;00m\r\n",
      "\u001b[34mimport\u001b[39;49;00m \u001b[04m\u001b[36mtorch\u001b[39;49;00m\r\n",
      "\u001b[34mimport\u001b[39;49;00m \u001b[04m\u001b[36mtorch.nn\u001b[39;49;00m \u001b[34mas\u001b[39;49;00m \u001b[04m\u001b[36mnn\u001b[39;49;00m\r\n",
      "\u001b[34mimport\u001b[39;49;00m \u001b[04m\u001b[36mtorch.optim\u001b[39;49;00m \u001b[34mas\u001b[39;49;00m \u001b[04m\u001b[36moptim\u001b[39;49;00m\r\n",
      "\u001b[34mimport\u001b[39;49;00m \u001b[04m\u001b[36mtorch.utils.data\u001b[39;49;00m\r\n",
      "\r\n",
      "\u001b[34mfrom\u001b[39;49;00m \u001b[04m\u001b[36mmodel\u001b[39;49;00m \u001b[34mimport\u001b[39;49;00m LSTMClassifier\r\n",
      "\r\n",
      "\u001b[34mfrom\u001b[39;49;00m \u001b[04m\u001b[36mutils\u001b[39;49;00m \u001b[34mimport\u001b[39;49;00m review_to_words, convert_and_pad\r\n",
      "\r\n",
      "\u001b[34mdef\u001b[39;49;00m \u001b[32mmodel_fn\u001b[39;49;00m(model_dir):\r\n",
      "    \u001b[33m\"\"\"Load the PyTorch model from the `model_dir` directory.\"\"\"\u001b[39;49;00m\r\n",
      "    \u001b[34mprint\u001b[39;49;00m(\u001b[33m\"\u001b[39;49;00m\u001b[33mLoading model.\u001b[39;49;00m\u001b[33m\"\u001b[39;49;00m)\r\n",
      "\r\n",
      "    \u001b[37m# First, load the parameters used to create the model.\u001b[39;49;00m\r\n",
      "    model_info = {}\r\n",
      "    model_info_path = os.path.join(model_dir, \u001b[33m'\u001b[39;49;00m\u001b[33mmodel_info.pth\u001b[39;49;00m\u001b[33m'\u001b[39;49;00m)\r\n",
      "    \u001b[34mwith\u001b[39;49;00m \u001b[36mopen\u001b[39;49;00m(model_info_path, \u001b[33m'\u001b[39;49;00m\u001b[33mrb\u001b[39;49;00m\u001b[33m'\u001b[39;49;00m) \u001b[34mas\u001b[39;49;00m f:\r\n",
      "        model_info = torch.load(f)\r\n",
      "\r\n",
      "    \u001b[34mprint\u001b[39;49;00m(\u001b[33m\"\u001b[39;49;00m\u001b[33mmodel_info: {}\u001b[39;49;00m\u001b[33m\"\u001b[39;49;00m.format(model_info))\r\n",
      "\r\n",
      "    \u001b[37m# Determine the device and construct the model.\u001b[39;49;00m\r\n",
      "    device = torch.device(\u001b[33m\"\u001b[39;49;00m\u001b[33mcuda\u001b[39;49;00m\u001b[33m\"\u001b[39;49;00m \u001b[34mif\u001b[39;49;00m torch.cuda.is_available() \u001b[34melse\u001b[39;49;00m \u001b[33m\"\u001b[39;49;00m\u001b[33mcpu\u001b[39;49;00m\u001b[33m\"\u001b[39;49;00m)\r\n",
      "    model = LSTMClassifier(model_info[\u001b[33m'\u001b[39;49;00m\u001b[33membedding_dim\u001b[39;49;00m\u001b[33m'\u001b[39;49;00m], model_info[\u001b[33m'\u001b[39;49;00m\u001b[33mhidden_dim\u001b[39;49;00m\u001b[33m'\u001b[39;49;00m], model_info[\u001b[33m'\u001b[39;49;00m\u001b[33mvocab_size\u001b[39;49;00m\u001b[33m'\u001b[39;49;00m])\r\n",
      "\r\n",
      "    \u001b[37m# Load the store model parameters.\u001b[39;49;00m\r\n",
      "    model_path = os.path.join(model_dir, \u001b[33m'\u001b[39;49;00m\u001b[33mmodel.pth\u001b[39;49;00m\u001b[33m'\u001b[39;49;00m)\r\n",
      "    \u001b[34mwith\u001b[39;49;00m \u001b[36mopen\u001b[39;49;00m(model_path, \u001b[33m'\u001b[39;49;00m\u001b[33mrb\u001b[39;49;00m\u001b[33m'\u001b[39;49;00m) \u001b[34mas\u001b[39;49;00m f:\r\n",
      "        model.load_state_dict(torch.load(f))\r\n",
      "\r\n",
      "    \u001b[37m# Load the saved word_dict.\u001b[39;49;00m\r\n",
      "    word_dict_path = os.path.join(model_dir, \u001b[33m'\u001b[39;49;00m\u001b[33mword_dict.pkl\u001b[39;49;00m\u001b[33m'\u001b[39;49;00m)\r\n",
      "    \u001b[34mwith\u001b[39;49;00m \u001b[36mopen\u001b[39;49;00m(word_dict_path, \u001b[33m'\u001b[39;49;00m\u001b[33mrb\u001b[39;49;00m\u001b[33m'\u001b[39;49;00m) \u001b[34mas\u001b[39;49;00m f:\r\n",
      "        model.word_dict = pickle.load(f)\r\n",
      "\r\n",
      "    model.to(device).eval()\r\n",
      "\r\n",
      "    \u001b[34mprint\u001b[39;49;00m(\u001b[33m\"\u001b[39;49;00m\u001b[33mDone loading model.\u001b[39;49;00m\u001b[33m\"\u001b[39;49;00m)\r\n",
      "    \u001b[34mreturn\u001b[39;49;00m model\r\n",
      "\r\n",
      "\u001b[34mdef\u001b[39;49;00m \u001b[32minput_fn\u001b[39;49;00m(serialized_input_data, content_type):\r\n",
      "    \u001b[34mprint\u001b[39;49;00m(\u001b[33m'\u001b[39;49;00m\u001b[33mDeserializing the input data.\u001b[39;49;00m\u001b[33m'\u001b[39;49;00m)\r\n",
      "    \u001b[34mif\u001b[39;49;00m content_type == \u001b[33m'\u001b[39;49;00m\u001b[33mtext/plain\u001b[39;49;00m\u001b[33m'\u001b[39;49;00m:\r\n",
      "        data = serialized_input_data.decode(\u001b[33m'\u001b[39;49;00m\u001b[33mutf-8\u001b[39;49;00m\u001b[33m'\u001b[39;49;00m)\r\n",
      "        \u001b[34mreturn\u001b[39;49;00m data\r\n",
      "    \u001b[34mraise\u001b[39;49;00m \u001b[36mException\u001b[39;49;00m(\u001b[33m'\u001b[39;49;00m\u001b[33mRequested unsupported ContentType in content_type: \u001b[39;49;00m\u001b[33m'\u001b[39;49;00m + content_type)\r\n",
      "\r\n",
      "\u001b[34mdef\u001b[39;49;00m \u001b[32moutput_fn\u001b[39;49;00m(prediction_output, accept):\r\n",
      "    \u001b[34mprint\u001b[39;49;00m(\u001b[33m'\u001b[39;49;00m\u001b[33mSerializing the generated output.\u001b[39;49;00m\u001b[33m'\u001b[39;49;00m)\r\n",
      "    \u001b[34mreturn\u001b[39;49;00m \u001b[36mstr\u001b[39;49;00m(prediction_output)\r\n",
      "\r\n",
      "\u001b[34mdef\u001b[39;49;00m \u001b[32mpredict_fn\u001b[39;49;00m(input_data, model):\r\n",
      "    \u001b[34mprint\u001b[39;49;00m(\u001b[33m'\u001b[39;49;00m\u001b[33mInferring sentiment of input data.\u001b[39;49;00m\u001b[33m'\u001b[39;49;00m)\r\n",
      "\r\n",
      "    device = torch.device(\u001b[33m\"\u001b[39;49;00m\u001b[33mcuda\u001b[39;49;00m\u001b[33m\"\u001b[39;49;00m \u001b[34mif\u001b[39;49;00m torch.cuda.is_available() \u001b[34melse\u001b[39;49;00m \u001b[33m\"\u001b[39;49;00m\u001b[33mcpu\u001b[39;49;00m\u001b[33m\"\u001b[39;49;00m)\r\n",
      "    \r\n",
      "    \u001b[34mif\u001b[39;49;00m model.word_dict \u001b[35mis\u001b[39;49;00m \u001b[36mNone\u001b[39;49;00m:\r\n",
      "        \u001b[34mraise\u001b[39;49;00m \u001b[36mException\u001b[39;49;00m(\u001b[33m'\u001b[39;49;00m\u001b[33mModel has not been loaded properly, no word_dict.\u001b[39;49;00m\u001b[33m'\u001b[39;49;00m)\r\n",
      "    \r\n",
      "    \u001b[37m# TODO: Process input_data so that it is ready to be sent to our model.\u001b[39;49;00m\r\n",
      "    \u001b[37m#       You should produce two variables:\u001b[39;49;00m\r\n",
      "    \u001b[37m#         data_X   - A sequence of length 500 which represents the converted review\u001b[39;49;00m\r\n",
      "    \u001b[37m#         data_len - The length of the review\u001b[39;49;00m\r\n",
      "\r\n",
      "    data_X = \u001b[36mNone\u001b[39;49;00m\r\n",
      "    data_len = \u001b[36mNone\u001b[39;49;00m\r\n",
      "\r\n",
      "    \u001b[37m# Using data_X and data_len we construct an appropriate input tensor. Remember\u001b[39;49;00m\r\n",
      "    \u001b[37m# that our model expects input data of the form 'len, review[500]'.\u001b[39;49;00m\r\n",
      "    data_pack = np.hstack((data_len, data_X))\r\n",
      "    data_pack = data_pack.reshape(\u001b[34m1\u001b[39;49;00m, -\u001b[34m1\u001b[39;49;00m)\r\n",
      "    \r\n",
      "    data = torch.from_numpy(data_pack)\r\n",
      "    data = data.to(device)\r\n",
      "\r\n",
      "    \u001b[37m# Make sure to put the model into evaluation mode\u001b[39;49;00m\r\n",
      "    model.eval()\r\n",
      "\r\n",
      "    \u001b[37m# TODO: Compute the result of applying the model to the input data. The variable `result` should\u001b[39;49;00m\r\n",
      "    \u001b[37m#       be a numpy array which contains a single integer which is either 1 or 0\u001b[39;49;00m\r\n",
      "\r\n",
      "    result = \u001b[36mNone\u001b[39;49;00m\r\n",
      "\r\n",
      "    \u001b[34mreturn\u001b[39;49;00m result\r\n"
     ]
    }
   ],
   "source": [
    "!pygmentize serve/predict.py"
   ]
  },
  {
   "cell_type": "markdown",
   "metadata": {},
   "source": [
    "As mentioned earlier, the `model_fn` method is the same as the one provided in the training code and the `input_fn` and `output_fn` methods are very simple and your task will be to complete the `predict_fn` method. Make sure that you save the completed file as `predict.py` in the `serve` directory.\n",
    "\n",
    "**TODO**: Complete the `predict_fn()` method in the `serve/predict.py` file."
   ]
  },
  {
   "cell_type": "markdown",
   "metadata": {},
   "source": [
    "### Deploying the model\n",
    "\n",
    "Now that the custom inference code has been written, we will create and deploy our model. To begin with, we need to construct a new PyTorchModel object which points to the model artifacts created during training and also points to the inference code that we wish to use. Then we can call the deploy method to launch the deployment container.\n",
    "\n",
    "**NOTE**: The default behaviour for a deployed PyTorch model is to assume that any input passed to the predictor is a `numpy` array. In our case we want to send a string so we need to construct a simple wrapper around the `RealTimePredictor` class to accomodate simple strings. In a more complicated situation you may want to provide a serialization object, for example if you wanted to sent image data."
   ]
  },
  {
   "cell_type": "code",
   "execution_count": 46,
   "metadata": {},
   "outputs": [
    {
     "name": "stdout",
     "output_type": "stream",
     "text": [
      "--------------------------------------------------------------------------------------------!"
     ]
    }
   ],
   "source": [
    "from sagemaker.predictor import RealTimePredictor\n",
    "from sagemaker.pytorch import PyTorchModel\n",
    "\n",
    "class StringPredictor(RealTimePredictor):\n",
    "    def __init__(self, endpoint_name, sagemaker_session):\n",
    "        super(StringPredictor, self).__init__(endpoint_name, sagemaker_session, content_type='text/plain')\n",
    "\n",
    "model = PyTorchModel(model_data=estimator.model_data,\n",
    "                     role = role,\n",
    "                     framework_version='0.4.0',\n",
    "                     entry_point='predict.py',\n",
    "                     source_dir='serve',\n",
    "                     predictor_cls=StringPredictor)\n",
    "predictor = model.deploy(initial_instance_count=1, instance_type='ml.m4.xlarge')"
   ]
  },
  {
   "cell_type": "markdown",
   "metadata": {},
   "source": [
    "### Testing the model\n",
    "\n",
    "Now that we have deployed our model with the custom inference code, we should test to see if everything is working. Here we test our model by loading the first `250` positive and negative reviews and send them to the endpoint, then collect the results. The reason for only sending some of the data is that the amount of time it takes for our model to process the input and then perform inference is quite long and so testing the entire data set would be prohibitive."
   ]
  },
  {
   "cell_type": "code",
   "execution_count": 47,
   "metadata": {},
   "outputs": [],
   "source": [
    "import glob\n",
    "\n",
    "def test_reviews(data_dir='../data/aclImdb', stop=250):\n",
    "    \n",
    "    results = []\n",
    "    ground = []\n",
    "    \n",
    "    # We make sure to test both positive and negative reviews    \n",
    "    for sentiment in ['pos', 'neg']:\n",
    "        \n",
    "        path = os.path.join(data_dir, 'test', sentiment, '*.txt')\n",
    "        files = glob.glob(path)\n",
    "        \n",
    "        files_read = 0\n",
    "        \n",
    "        print('Starting ', sentiment, ' files')\n",
    "        \n",
    "        # Iterate through the files and send them to the predictor\n",
    "        for f in files:\n",
    "            with open(f) as review:\n",
    "                # First, we store the ground truth (was the review positive or negative)\n",
    "                if sentiment == 'pos':\n",
    "                    ground.append(1)\n",
    "                else:\n",
    "                    ground.append(0)\n",
    "                # Read in the review and convert to 'utf-8' for transmission via HTTP\n",
    "                review_input = review.read().encode('utf-8')\n",
    "                # Send the review to the predictor and store the results\n",
    "                results.append(int(predictor.predict(review_input)))\n",
    "                \n",
    "            # Sending reviews to our endpoint one at a time takes a while so we\n",
    "            # only send a small number of reviews\n",
    "            files_read += 1\n",
    "            if files_read == stop:\n",
    "                break\n",
    "            \n",
    "    return ground, results"
   ]
  },
  {
   "cell_type": "code",
   "execution_count": 48,
   "metadata": {},
   "outputs": [
    {
     "name": "stdout",
     "output_type": "stream",
     "text": [
      "Starting  pos  files\n",
      "Starting  neg  files\n"
     ]
    }
   ],
   "source": [
    "ground, results = test_reviews()"
   ]
  },
  {
   "cell_type": "code",
   "execution_count": 49,
   "metadata": {},
   "outputs": [
    {
     "data": {
      "text/plain": [
       "0.84"
      ]
     },
     "execution_count": 49,
     "metadata": {},
     "output_type": "execute_result"
    }
   ],
   "source": [
    "from sklearn.metrics import accuracy_score\n",
    "accuracy_score(ground, results)"
   ]
  },
  {
   "cell_type": "markdown",
   "metadata": {},
   "source": [
    "As an additional test, we can try sending the `test_review` that we looked at earlier."
   ]
  },
  {
   "cell_type": "code",
   "execution_count": 50,
   "metadata": {},
   "outputs": [
    {
     "data": {
      "text/plain": [
       "b'1'"
      ]
     },
     "execution_count": 50,
     "metadata": {},
     "output_type": "execute_result"
    }
   ],
   "source": [
    "predictor.predict(test_review)"
   ]
  },
  {
   "cell_type": "markdown",
   "metadata": {},
   "source": [
    "Now that we know our endpoint is working as expected, we can set up the web page that will interact with it. If you don't have time to finish the project now, make sure to skip down to the end of this notebook and shut down your endpoint. You can deploy it again when you come back."
   ]
  },
  {
   "cell_type": "markdown",
   "metadata": {},
   "source": [
    "## Step 7 (again): Use the model for the web app\n",
    "\n",
    "> **TODO:** This entire section and the next contain tasks for you to complete, mostly using the AWS console.\n",
    "\n",
    "So far we have been accessing our model endpoint by constructing a predictor object which uses the endpoint and then just using the predictor object to perform inference. What if we wanted to create a web app which accessed our model? The way things are set up currently makes that not possible since in order to access a SageMaker endpoint the app would first have to authenticate with AWS using an IAM role which included access to SageMaker endpoints. However, there is an easier way! We just need to use some additional AWS services.\n",
    "\n",
    "<img src=\"Web App Diagram.svg\">\n",
    "\n",
    "The diagram above gives an overview of how the various services will work together. On the far right is the model which we trained above and which is deployed using SageMaker. On the far left is our web app that collects a user's movie review, sends it off and expects a positive or negative sentiment in return.\n",
    "\n",
    "In the middle is where some of the magic happens. We will construct a Lambda function, which you can think of as a straightforward Python function that can be executed whenever a specified event occurs. We will give this function permission to send and recieve data from a SageMaker endpoint.\n",
    "\n",
    "Lastly, the method we will use to execute the Lambda function is a new endpoint that we will create using API Gateway. This endpoint will be a url that listens for data to be sent to it. Once it gets some data it will pass that data on to the Lambda function and then return whatever the Lambda function returns. Essentially it will act as an interface that lets our web app communicate with the Lambda function.\n",
    "\n",
    "### Setting up a Lambda function\n",
    "\n",
    "The first thing we are going to do is set up a Lambda function. This Lambda function will be executed whenever our public API has data sent to it. When it is executed it will receive the data, perform any sort of processing that is required, send the data (the review) to the SageMaker endpoint we've created and then return the result.\n",
    "\n",
    "#### Part A: Create an IAM Role for the Lambda function\n",
    "\n",
    "Since we want the Lambda function to call a SageMaker endpoint, we need to make sure that it has permission to do so. To do this, we will construct a role that we can later give the Lambda function.\n",
    "\n",
    "Using the AWS Console, navigate to the **IAM** page and click on **Roles**. Then, click on **Create role**. Make sure that the **AWS service** is the type of trusted entity selected and choose **Lambda** as the service that will use this role, then click **Next: Permissions**.\n",
    "\n",
    "In the search box type `sagemaker` and select the check box next to the **AmazonSageMakerFullAccess** policy. Then, click on **Next: Review**.\n",
    "\n",
    "Lastly, give this role a name. Make sure you use a name that you will remember later on, for example `LambdaSageMakerRole`. Then, click on **Create role**.\n",
    "\n",
    "#### Part B: Create a Lambda function\n",
    "\n",
    "Now it is time to actually create the Lambda function.\n",
    "\n",
    "Using the AWS Console, navigate to the AWS Lambda page and click on **Create a function**. When you get to the next page, make sure that **Author from scratch** is selected. Now, name your Lambda function, using a name that you will remember later on, for example `sentiment_analysis_func`. Make sure that the **Python 3.6** runtime is selected and then choose the role that you created in the previous part. Then, click on **Create Function**.\n",
    "\n",
    "On the next page you will see some information about the Lambda function you've just created. If you scroll down you should see an editor in which you can write the code that will be executed when your Lambda function is triggered. In our example, we will use the code below. \n",
    "\n",
    "```python\n",
    "# We need to use the low-level library to interact with SageMaker since the SageMaker API\n",
    "# is not available natively through Lambda.\n",
    "import boto3\n",
    "\n",
    "def lambda_handler(event, context):\n",
    "\n",
    "    # The SageMaker runtime is what allows us to invoke the endpoint that we've created.\n",
    "    runtime = boto3.Session().client('sagemaker-runtime')\n",
    "\n",
    "    # Now we use the SageMaker runtime to invoke our endpoint, sending the review we were given\n",
    "    response = runtime.invoke_endpoint(EndpointName = '**ENDPOINT NAME HERE**',    # The name of the endpoint we created\n",
    "                                       ContentType = 'text/plain',                 # The data format that is expected\n",
    "                                       Body = event['body'])                       # The actual review\n",
    "\n",
    "    # The response is an HTTP response whose body contains the result of our inference\n",
    "    result = response['Body'].read().decode('utf-8')\n",
    "\n",
    "    return {\n",
    "        'statusCode' : 200,\n",
    "        'headers' : { 'Content-Type' : 'text/plain', 'Access-Control-Allow-Origin' : '*' },\n",
    "        'body' : result\n",
    "    }\n",
    "```\n",
    "\n",
    "Once you have copy and pasted the code above into the Lambda code editor, replace the `**ENDPOINT NAME HERE**` portion with the name of the endpoint that we deployed earlier. You can determine the name of the endpoint using the code cell below."
   ]
  },
  {
   "cell_type": "code",
   "execution_count": 51,
   "metadata": {},
   "outputs": [
    {
     "data": {
      "text/plain": [
       "'sagemaker-pytorch-2019-06-03-05-22-16-558'"
      ]
     },
     "execution_count": 51,
     "metadata": {},
     "output_type": "execute_result"
    }
   ],
   "source": [
    "predictor.endpoint"
   ]
  },
  {
   "cell_type": "markdown",
   "metadata": {},
   "source": [
    "Once you have added the endpoint name to the Lambda function, click on **Save**. Your Lambda function is now up and running. Next we need to create a way for our web app to execute the Lambda function.\n",
    "\n",
    "### Setting up API Gateway\n",
    "\n",
    "Now that our Lambda function is set up, it is time to create a new API using API Gateway that will trigger the Lambda function we have just created.\n",
    "\n",
    "Using AWS Console, navigate to **Amazon API Gateway** and then click on **Get started**.\n",
    "\n",
    "On the next page, make sure that **New API** is selected and give the new api a name, for example, `sentiment_analysis_api`. Then, click on **Create API**.\n",
    "\n",
    "Now we have created an API, however it doesn't currently do anything. What we want it to do is to trigger the Lambda function that we created earlier.\n",
    "\n",
    "Select the **Actions** dropdown menu and click **Create Method**. A new blank method will be created, select its dropdown menu and select **POST**, then click on the check mark beside it.\n",
    "\n",
    "For the integration point, make sure that **Lambda Function** is selected and click on the **Use Lambda Proxy integration**. This option makes sure that the data that is sent to the API is then sent directly to the Lambda function with no processing. It also means that the return value must be a proper response object as it will also not be processed by API Gateway.\n",
    "\n",
    "Type the name of the Lambda function you created earlier into the **Lambda Function** text entry box and then click on **Save**. Click on **OK** in the pop-up box that then appears, giving permission to API Gateway to invoke the Lambda function you created.\n",
    "\n",
    "The last step in creating the API Gateway is to select the **Actions** dropdown and click on **Deploy API**. You will need to create a new Deployment stage and name it anything you like, for example `prod`.\n",
    "\n",
    "You have now successfully set up a public API to access your SageMaker model. Make sure to copy or write down the URL provided to invoke your newly created public API as this will be needed in the next step. This URL can be found at the top of the page, highlighted in blue next to the text **Invoke URL**.\n"
   ]
  },
  {
   "cell_type": "markdown",
   "metadata": {},
   "source": [
    "## Step 4: Deploying our web app\n",
    "\n",
    "Now that we have a publicly available API, we can start using it in a web app. For our purposes, we have provided a simple static html file which can make use of the public api you created earlier.\n",
    "\n",
    "In the `website` folder there should be a file called `index.html`. Download the file to your computer and open that file up in a text editor of your choice. There should be a line which contains **\\*\\*REPLACE WITH PUBLIC API URL\\*\\***. Replace this string with the url that you wrote down in the last step and then save the file.\n",
    "\n",
    "Now, if you open `index.html` on your local computer, your browser will behave as a local web server and you can use the provided site to interact with your SageMaker model.\n",
    "\n",
    "If you'd like to go further, you can host this html file anywhere you'd like, for example using github or hosting a static site on Amazon's S3. Once you have done this you can share the link with anyone you'd like and have them play with it too!\n",
    "\n",
    "> **Important Note** In order for the web app to communicate with the SageMaker endpoint, the endpoint has to actually be deployed and running. This means that you are paying for it. Make sure that the endpoint is running when you want to use the web app but that you shut it down when you don't need it, otherwise you will end up with a surprisingly large AWS bill.\n",
    "\n",
    "**TODO:** Make sure that you include the edited `index.html` file in your project submission."
   ]
  },
  {
   "cell_type": "markdown",
   "metadata": {},
   "source": [
    "Now that your web app is working, trying playing around with it and see how well it works.\n",
    "\n",
    "**Question**: Give an example of a review that you entered into your web app. What was the predicted sentiment of your example review?"
   ]
  },
  {
   "cell_type": "markdown",
   "metadata": {},
   "source": [
    "**Answer:**\n",
    "\n",
    "Review: I did not quite like this movie, the storyline was not convincing enough.\n",
    "\n",
    "Response: Your review was NEGATIVE!"
   ]
  },
  {
   "cell_type": "markdown",
   "metadata": {},
   "source": [
    "### Delete the endpoint\n",
    "\n",
    "Remember to always shut down your endpoint if you are no longer using it. You are charged for the length of time that the endpoint is running so if you forget and leave it on you could end up with an unexpectedly large bill."
   ]
  },
  {
   "cell_type": "code",
   "execution_count": 52,
   "metadata": {},
   "outputs": [],
   "source": [
    "predictor.delete_endpoint()"
   ]
  }
 ],
 "metadata": {
  "kernelspec": {
   "display_name": "conda_pytorch_p36",
   "language": "python",
   "name": "conda_pytorch_p36"
  },
  "language_info": {
   "codemirror_mode": {
    "name": "ipython",
    "version": 3
   },
   "file_extension": ".py",
   "mimetype": "text/x-python",
   "name": "python",
   "nbconvert_exporter": "python",
   "pygments_lexer": "ipython3",
   "version": "3.6.5"
  }
 },
 "nbformat": 4,
 "nbformat_minor": 2
}
